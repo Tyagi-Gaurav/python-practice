{
 "cells": [
  {
   "cell_type": "markdown",
   "id": "e7173fb2",
   "metadata": {},
   "source": [
    "# Financial Data Analysis with Python - a Deep Dive"
   ]
  },
  {
   "cell_type": "markdown",
   "id": "c5b14d02",
   "metadata": {},
   "source": [
    "## Installing required Libraries/Packages"
   ]
  },
  {
   "cell_type": "markdown",
   "id": "4f398622",
   "metadata": {},
   "source": [
    "Install yfinance with:\n",
    "- pip install yfinance "
   ]
  },
  {
   "cell_type": "markdown",
   "id": "cd04482d",
   "metadata": {},
   "source": [
    "(first: conda update anaconda) "
   ]
  },
  {
   "cell_type": "code",
   "execution_count": null,
   "id": "02595e23",
   "metadata": {},
   "outputs": [],
   "source": []
  },
  {
   "cell_type": "markdown",
   "id": "628d01a0",
   "metadata": {},
   "source": [
    "## Loading Financial Data from the Web"
   ]
  },
  {
   "cell_type": "code",
   "execution_count": 5,
   "id": "ed0670ee",
   "metadata": {},
   "outputs": [],
   "source": [
    "import pandas as pd\n",
    "import yfinance as yf"
   ]
  },
  {
   "cell_type": "code",
   "execution_count": 6,
   "id": "edf2b55c",
   "metadata": {},
   "outputs": [],
   "source": [
    "start = \"2014-10-01\"\n",
    "end = \"2021-05-31\""
   ]
  },
  {
   "cell_type": "code",
   "execution_count": 7,
   "id": "3c81ccf8",
   "metadata": {},
   "outputs": [],
   "source": [
    "symbol = \"BA\""
   ]
  },
  {
   "cell_type": "code",
   "execution_count": 8,
   "id": "38e6d1ac",
   "metadata": {},
   "outputs": [
    {
     "name": "stderr",
     "output_type": "stream",
     "text": [
      "[*********************100%***********************]  1 of 1 completed\n"
     ]
    },
    {
     "data": {
      "text/html": [
       "<div>\n",
       "<style scoped>\n",
       "    .dataframe tbody tr th:only-of-type {\n",
       "        vertical-align: middle;\n",
       "    }\n",
       "\n",
       "    .dataframe tbody tr th {\n",
       "        vertical-align: top;\n",
       "    }\n",
       "\n",
       "    .dataframe thead th {\n",
       "        text-align: right;\n",
       "    }\n",
       "</style>\n",
       "<table border=\"1\" class=\"dataframe\">\n",
       "  <thead>\n",
       "    <tr style=\"text-align: right;\">\n",
       "      <th></th>\n",
       "      <th>Open</th>\n",
       "      <th>High</th>\n",
       "      <th>Low</th>\n",
       "      <th>Close</th>\n",
       "      <th>Adj Close</th>\n",
       "      <th>Volume</th>\n",
       "    </tr>\n",
       "    <tr>\n",
       "      <th>Date</th>\n",
       "      <th></th>\n",
       "      <th></th>\n",
       "      <th></th>\n",
       "      <th></th>\n",
       "      <th></th>\n",
       "      <th></th>\n",
       "    </tr>\n",
       "  </thead>\n",
       "  <tbody>\n",
       "    <tr>\n",
       "      <th>2014-10-01</th>\n",
       "      <td>127.3700</td>\n",
       "      <td>127.3700</td>\n",
       "      <td>124.3100</td>\n",
       "      <td>124.6700</td>\n",
       "      <td>108.4067</td>\n",
       "      <td>5265200</td>\n",
       "    </tr>\n",
       "    <tr>\n",
       "      <th>2014-10-02</th>\n",
       "      <td>124.4000</td>\n",
       "      <td>125.5500</td>\n",
       "      <td>123.8400</td>\n",
       "      <td>124.1700</td>\n",
       "      <td>107.9719</td>\n",
       "      <td>3204500</td>\n",
       "    </tr>\n",
       "    <tr>\n",
       "      <th>2014-10-03</th>\n",
       "      <td>124.6600</td>\n",
       "      <td>126.8700</td>\n",
       "      <td>124.6600</td>\n",
       "      <td>126.3600</td>\n",
       "      <td>109.8762</td>\n",
       "      <td>3075900</td>\n",
       "    </tr>\n",
       "    <tr>\n",
       "      <th>2014-10-06</th>\n",
       "      <td>127.0900</td>\n",
       "      <td>127.1900</td>\n",
       "      <td>125.3800</td>\n",
       "      <td>126.2600</td>\n",
       "      <td>109.7893</td>\n",
       "      <td>2681000</td>\n",
       "    </tr>\n",
       "    <tr>\n",
       "      <th>2014-10-07</th>\n",
       "      <td>125.5200</td>\n",
       "      <td>125.5200</td>\n",
       "      <td>123.2900</td>\n",
       "      <td>123.3200</td>\n",
       "      <td>107.2328</td>\n",
       "      <td>3554900</td>\n",
       "    </tr>\n",
       "    <tr>\n",
       "      <th>...</th>\n",
       "      <td>...</td>\n",
       "      <td>...</td>\n",
       "      <td>...</td>\n",
       "      <td>...</td>\n",
       "      <td>...</td>\n",
       "      <td>...</td>\n",
       "    </tr>\n",
       "    <tr>\n",
       "      <th>2021-05-24</th>\n",
       "      <td>235.1400</td>\n",
       "      <td>238.5000</td>\n",
       "      <td>232.6000</td>\n",
       "      <td>237.4400</td>\n",
       "      <td>237.4400</td>\n",
       "      <td>10106000</td>\n",
       "    </tr>\n",
       "    <tr>\n",
       "      <th>2021-05-25</th>\n",
       "      <td>240.0000</td>\n",
       "      <td>243.7800</td>\n",
       "      <td>239.2300</td>\n",
       "      <td>240.7400</td>\n",
       "      <td>240.7400</td>\n",
       "      <td>12908000</td>\n",
       "    </tr>\n",
       "    <tr>\n",
       "      <th>2021-05-26</th>\n",
       "      <td>241.7000</td>\n",
       "      <td>242.4900</td>\n",
       "      <td>239.8700</td>\n",
       "      <td>241.3700</td>\n",
       "      <td>241.3700</td>\n",
       "      <td>7240200</td>\n",
       "    </tr>\n",
       "    <tr>\n",
       "      <th>2021-05-27</th>\n",
       "      <td>248.1100</td>\n",
       "      <td>252.6000</td>\n",
       "      <td>247.1900</td>\n",
       "      <td>250.7000</td>\n",
       "      <td>250.7000</td>\n",
       "      <td>18404400</td>\n",
       "    </tr>\n",
       "    <tr>\n",
       "      <th>2021-05-28</th>\n",
       "      <td>247.4800</td>\n",
       "      <td>248.9800</td>\n",
       "      <td>245.3700</td>\n",
       "      <td>247.0200</td>\n",
       "      <td>247.0200</td>\n",
       "      <td>11197400</td>\n",
       "    </tr>\n",
       "  </tbody>\n",
       "</table>\n",
       "<p>1677 rows × 6 columns</p>\n",
       "</div>"
      ],
      "text/plain": [
       "               Open     High      Low    Close  Adj Close    Volume\n",
       "Date                                                               \n",
       "2014-10-01 127.3700 127.3700 124.3100 124.6700   108.4067   5265200\n",
       "2014-10-02 124.4000 125.5500 123.8400 124.1700   107.9719   3204500\n",
       "2014-10-03 124.6600 126.8700 124.6600 126.3600   109.8762   3075900\n",
       "2014-10-06 127.0900 127.1900 125.3800 126.2600   109.7893   2681000\n",
       "2014-10-07 125.5200 125.5200 123.2900 123.3200   107.2328   3554900\n",
       "...             ...      ...      ...      ...        ...       ...\n",
       "2021-05-24 235.1400 238.5000 232.6000 237.4400   237.4400  10106000\n",
       "2021-05-25 240.0000 243.7800 239.2300 240.7400   240.7400  12908000\n",
       "2021-05-26 241.7000 242.4900 239.8700 241.3700   241.3700   7240200\n",
       "2021-05-27 248.1100 252.6000 247.1900 250.7000   250.7000  18404400\n",
       "2021-05-28 247.4800 248.9800 245.3700 247.0200   247.0200  11197400\n",
       "\n",
       "[1677 rows x 6 columns]"
      ]
     },
     "execution_count": 8,
     "metadata": {},
     "output_type": "execute_result"
    }
   ],
   "source": [
    "df = yf.download(symbol, start, end)\n",
    "df"
   ]
  },
  {
   "cell_type": "code",
   "execution_count": 9,
   "id": "77389d28",
   "metadata": {},
   "outputs": [
    {
     "name": "stdout",
     "output_type": "stream",
     "text": [
      "<class 'pandas.core.frame.DataFrame'>\n",
      "DatetimeIndex: 1677 entries, 2014-10-01 to 2021-05-28\n",
      "Data columns (total 6 columns):\n",
      " #   Column     Non-Null Count  Dtype  \n",
      "---  ------     --------------  -----  \n",
      " 0   Open       1677 non-null   float64\n",
      " 1   High       1677 non-null   float64\n",
      " 2   Low        1677 non-null   float64\n",
      " 3   Close      1677 non-null   float64\n",
      " 4   Adj Close  1677 non-null   float64\n",
      " 5   Volume     1677 non-null   int64  \n",
      "dtypes: float64(5), int64(1)\n",
      "memory usage: 91.7 KB\n"
     ]
    }
   ],
   "source": [
    "df.info()"
   ]
  },
  {
   "cell_type": "code",
   "execution_count": 10,
   "id": "7e6676d6",
   "metadata": {},
   "outputs": [],
   "source": [
    "symbol = [\"BA\", \"MSFT\", \"^DJI\", \"EURUSD=X\", \"GC=F\", \"BTC-USD\"]"
   ]
  },
  {
   "cell_type": "markdown",
   "id": "056f571b",
   "metadata": {},
   "source": [
    "Ticker Symbols: <br>\n",
    "- __BA__: Boeing (US Stock) \n",
    "- __MSFT__: Microsoft Corp (US Stock)\n",
    "- __^DJI__: Dow Jones Industrial Average (US Stock Index)\n",
    "- __EURUSD=X__: Exchange Rate for Currency Pair EUR/USD (Forex)\n",
    "- __GC=F__: Gold Price (Precious Metal / Commodity)\n",
    "- __BTC-USD__: Bitcoin in USD (Cryptocurrency)"
   ]
  },
  {
   "cell_type": "code",
   "execution_count": 11,
   "id": "a5fb408b",
   "metadata": {},
   "outputs": [
    {
     "name": "stderr",
     "output_type": "stream",
     "text": [
      "[*********************100%***********************]  6 of 6 completed\n"
     ]
    },
    {
     "data": {
      "text/html": [
       "<div>\n",
       "<style scoped>\n",
       "    .dataframe tbody tr th:only-of-type {\n",
       "        vertical-align: middle;\n",
       "    }\n",
       "\n",
       "    .dataframe tbody tr th {\n",
       "        vertical-align: top;\n",
       "    }\n",
       "\n",
       "    .dataframe thead tr th {\n",
       "        text-align: left;\n",
       "    }\n",
       "\n",
       "    .dataframe thead tr:last-of-type th {\n",
       "        text-align: right;\n",
       "    }\n",
       "</style>\n",
       "<table border=\"1\" class=\"dataframe\">\n",
       "  <thead>\n",
       "    <tr>\n",
       "      <th>Price</th>\n",
       "      <th colspan=\"6\" halign=\"left\">Adj Close</th>\n",
       "      <th colspan=\"4\" halign=\"left\">Close</th>\n",
       "      <th>...</th>\n",
       "      <th colspan=\"4\" halign=\"left\">Open</th>\n",
       "      <th colspan=\"6\" halign=\"left\">Volume</th>\n",
       "    </tr>\n",
       "    <tr>\n",
       "      <th>Ticker</th>\n",
       "      <th>BA</th>\n",
       "      <th>BTC-USD</th>\n",
       "      <th>EURUSD=X</th>\n",
       "      <th>GC=F</th>\n",
       "      <th>MSFT</th>\n",
       "      <th>^DJI</th>\n",
       "      <th>BA</th>\n",
       "      <th>BTC-USD</th>\n",
       "      <th>EURUSD=X</th>\n",
       "      <th>GC=F</th>\n",
       "      <th>...</th>\n",
       "      <th>EURUSD=X</th>\n",
       "      <th>GC=F</th>\n",
       "      <th>MSFT</th>\n",
       "      <th>^DJI</th>\n",
       "      <th>BA</th>\n",
       "      <th>BTC-USD</th>\n",
       "      <th>EURUSD=X</th>\n",
       "      <th>GC=F</th>\n",
       "      <th>MSFT</th>\n",
       "      <th>^DJI</th>\n",
       "    </tr>\n",
       "    <tr>\n",
       "      <th>Date</th>\n",
       "      <th></th>\n",
       "      <th></th>\n",
       "      <th></th>\n",
       "      <th></th>\n",
       "      <th></th>\n",
       "      <th></th>\n",
       "      <th></th>\n",
       "      <th></th>\n",
       "      <th></th>\n",
       "      <th></th>\n",
       "      <th></th>\n",
       "      <th></th>\n",
       "      <th></th>\n",
       "      <th></th>\n",
       "      <th></th>\n",
       "      <th></th>\n",
       "      <th></th>\n",
       "      <th></th>\n",
       "      <th></th>\n",
       "      <th></th>\n",
       "      <th></th>\n",
       "    </tr>\n",
       "  </thead>\n",
       "  <tbody>\n",
       "    <tr>\n",
       "      <th>2014-10-01 00:00:00+00:00</th>\n",
       "      <td>108.4067</td>\n",
       "      <td>383.6150</td>\n",
       "      <td>1.2628</td>\n",
       "      <td>1214.6000</td>\n",
       "      <td>39.2454</td>\n",
       "      <td>16804.7109</td>\n",
       "      <td>124.6700</td>\n",
       "      <td>383.6150</td>\n",
       "      <td>1.2628</td>\n",
       "      <td>1214.6000</td>\n",
       "      <td>...</td>\n",
       "      <td>1.2629</td>\n",
       "      <td>1207.7000</td>\n",
       "      <td>46.2700</td>\n",
       "      <td>17040.4609</td>\n",
       "      <td>5265200.0000</td>\n",
       "      <td>26229400</td>\n",
       "      <td>0.0000</td>\n",
       "      <td>178.0000</td>\n",
       "      <td>38088400.0000</td>\n",
       "      <td>104240000.0000</td>\n",
       "    </tr>\n",
       "    <tr>\n",
       "      <th>2014-10-02 00:00:00+00:00</th>\n",
       "      <td>107.9719</td>\n",
       "      <td>375.0720</td>\n",
       "      <td>1.2624</td>\n",
       "      <td>1214.2000</td>\n",
       "      <td>39.1257</td>\n",
       "      <td>16801.0508</td>\n",
       "      <td>124.1700</td>\n",
       "      <td>375.0720</td>\n",
       "      <td>1.2624</td>\n",
       "      <td>1214.2000</td>\n",
       "      <td>...</td>\n",
       "      <td>1.2625</td>\n",
       "      <td>1215.3000</td>\n",
       "      <td>45.8300</td>\n",
       "      <td>16808.2695</td>\n",
       "      <td>3204500.0000</td>\n",
       "      <td>21777700</td>\n",
       "      <td>0.0000</td>\n",
       "      <td>176.0000</td>\n",
       "      <td>25119400.0000</td>\n",
       "      <td>75490000.0000</td>\n",
       "    </tr>\n",
       "    <tr>\n",
       "      <th>2014-10-03 00:00:00+00:00</th>\n",
       "      <td>109.8762</td>\n",
       "      <td>359.5120</td>\n",
       "      <td>1.2671</td>\n",
       "      <td>1192.2000</td>\n",
       "      <td>39.4078</td>\n",
       "      <td>17009.6895</td>\n",
       "      <td>126.3600</td>\n",
       "      <td>359.5120</td>\n",
       "      <td>1.2671</td>\n",
       "      <td>1192.2000</td>\n",
       "      <td>...</td>\n",
       "      <td>1.2670</td>\n",
       "      <td>1212.4000</td>\n",
       "      <td>45.9800</td>\n",
       "      <td>16802.1992</td>\n",
       "      <td>3075900.0000</td>\n",
       "      <td>30901200</td>\n",
       "      <td>0.0000</td>\n",
       "      <td>499.0000</td>\n",
       "      <td>32453200.0000</td>\n",
       "      <td>87940000.0000</td>\n",
       "    </tr>\n",
       "    <tr>\n",
       "      <th>2014-10-04 00:00:00+00:00</th>\n",
       "      <td>NaN</td>\n",
       "      <td>328.8660</td>\n",
       "      <td>NaN</td>\n",
       "      <td>NaN</td>\n",
       "      <td>NaN</td>\n",
       "      <td>NaN</td>\n",
       "      <td>NaN</td>\n",
       "      <td>328.8660</td>\n",
       "      <td>NaN</td>\n",
       "      <td>NaN</td>\n",
       "      <td>...</td>\n",
       "      <td>NaN</td>\n",
       "      <td>NaN</td>\n",
       "      <td>NaN</td>\n",
       "      <td>NaN</td>\n",
       "      <td>NaN</td>\n",
       "      <td>47236500</td>\n",
       "      <td>NaN</td>\n",
       "      <td>NaN</td>\n",
       "      <td>NaN</td>\n",
       "      <td>NaN</td>\n",
       "    </tr>\n",
       "    <tr>\n",
       "      <th>2014-10-05 00:00:00+00:00</th>\n",
       "      <td>NaN</td>\n",
       "      <td>320.5100</td>\n",
       "      <td>NaN</td>\n",
       "      <td>NaN</td>\n",
       "      <td>NaN</td>\n",
       "      <td>NaN</td>\n",
       "      <td>NaN</td>\n",
       "      <td>320.5100</td>\n",
       "      <td>NaN</td>\n",
       "      <td>NaN</td>\n",
       "      <td>...</td>\n",
       "      <td>NaN</td>\n",
       "      <td>NaN</td>\n",
       "      <td>NaN</td>\n",
       "      <td>NaN</td>\n",
       "      <td>NaN</td>\n",
       "      <td>83308096</td>\n",
       "      <td>NaN</td>\n",
       "      <td>NaN</td>\n",
       "      <td>NaN</td>\n",
       "      <td>NaN</td>\n",
       "    </tr>\n",
       "    <tr>\n",
       "      <th>...</th>\n",
       "      <td>...</td>\n",
       "      <td>...</td>\n",
       "      <td>...</td>\n",
       "      <td>...</td>\n",
       "      <td>...</td>\n",
       "      <td>...</td>\n",
       "      <td>...</td>\n",
       "      <td>...</td>\n",
       "      <td>...</td>\n",
       "      <td>...</td>\n",
       "      <td>...</td>\n",
       "      <td>...</td>\n",
       "      <td>...</td>\n",
       "      <td>...</td>\n",
       "      <td>...</td>\n",
       "      <td>...</td>\n",
       "      <td>...</td>\n",
       "      <td>...</td>\n",
       "      <td>...</td>\n",
       "      <td>...</td>\n",
       "      <td>...</td>\n",
       "    </tr>\n",
       "    <tr>\n",
       "      <th>2021-05-26 00:00:00+00:00</th>\n",
       "      <td>241.3700</td>\n",
       "      <td>39294.1992</td>\n",
       "      <td>1.2249</td>\n",
       "      <td>1901.3000</td>\n",
       "      <td>244.7062</td>\n",
       "      <td>34323.0508</td>\n",
       "      <td>241.3700</td>\n",
       "      <td>39294.1992</td>\n",
       "      <td>1.2249</td>\n",
       "      <td>1901.3000</td>\n",
       "      <td>...</td>\n",
       "      <td>1.2249</td>\n",
       "      <td>1901.3000</td>\n",
       "      <td>251.4300</td>\n",
       "      <td>34336.3398</td>\n",
       "      <td>7240200.0000</td>\n",
       "      <td>51346735160</td>\n",
       "      <td>0.0000</td>\n",
       "      <td>170526.0000</td>\n",
       "      <td>17771600.0000</td>\n",
       "      <td>258780000.0000</td>\n",
       "    </tr>\n",
       "    <tr>\n",
       "      <th>2021-05-27 00:00:00+00:00</th>\n",
       "      <td>250.7000</td>\n",
       "      <td>38436.9688</td>\n",
       "      <td>1.2193</td>\n",
       "      <td>1895.7000</td>\n",
       "      <td>242.5849</td>\n",
       "      <td>34464.6406</td>\n",
       "      <td>250.7000</td>\n",
       "      <td>38436.9688</td>\n",
       "      <td>1.2193</td>\n",
       "      <td>1895.7000</td>\n",
       "      <td>...</td>\n",
       "      <td>1.2190</td>\n",
       "      <td>1896.8000</td>\n",
       "      <td>251.1700</td>\n",
       "      <td>34432.4688</td>\n",
       "      <td>18404400.0000</td>\n",
       "      <td>43210968721</td>\n",
       "      <td>0.0000</td>\n",
       "      <td>35794.0000</td>\n",
       "      <td>24426200.0000</td>\n",
       "      <td>520630000.0000</td>\n",
       "    </tr>\n",
       "    <tr>\n",
       "      <th>2021-05-28 00:00:00+00:00</th>\n",
       "      <td>247.0200</td>\n",
       "      <td>35697.6055</td>\n",
       "      <td>1.2193</td>\n",
       "      <td>1902.5000</td>\n",
       "      <td>242.9449</td>\n",
       "      <td>34529.4492</td>\n",
       "      <td>247.0200</td>\n",
       "      <td>35697.6055</td>\n",
       "      <td>1.2193</td>\n",
       "      <td>1902.5000</td>\n",
       "      <td>...</td>\n",
       "      <td>1.2193</td>\n",
       "      <td>1897.5000</td>\n",
       "      <td>251.0000</td>\n",
       "      <td>34558.5000</td>\n",
       "      <td>11197400.0000</td>\n",
       "      <td>55200191952</td>\n",
       "      <td>0.0000</td>\n",
       "      <td>2415.0000</td>\n",
       "      <td>18270200.0000</td>\n",
       "      <td>290850000.0000</td>\n",
       "    </tr>\n",
       "    <tr>\n",
       "      <th>2021-05-29 00:00:00+00:00</th>\n",
       "      <td>NaN</td>\n",
       "      <td>34616.0664</td>\n",
       "      <td>NaN</td>\n",
       "      <td>NaN</td>\n",
       "      <td>NaN</td>\n",
       "      <td>NaN</td>\n",
       "      <td>NaN</td>\n",
       "      <td>34616.0664</td>\n",
       "      <td>NaN</td>\n",
       "      <td>NaN</td>\n",
       "      <td>...</td>\n",
       "      <td>NaN</td>\n",
       "      <td>NaN</td>\n",
       "      <td>NaN</td>\n",
       "      <td>NaN</td>\n",
       "      <td>NaN</td>\n",
       "      <td>45231013335</td>\n",
       "      <td>NaN</td>\n",
       "      <td>NaN</td>\n",
       "      <td>NaN</td>\n",
       "      <td>NaN</td>\n",
       "    </tr>\n",
       "    <tr>\n",
       "      <th>2021-05-30 00:00:00+00:00</th>\n",
       "      <td>NaN</td>\n",
       "      <td>35678.1289</td>\n",
       "      <td>NaN</td>\n",
       "      <td>NaN</td>\n",
       "      <td>NaN</td>\n",
       "      <td>NaN</td>\n",
       "      <td>NaN</td>\n",
       "      <td>35678.1289</td>\n",
       "      <td>NaN</td>\n",
       "      <td>NaN</td>\n",
       "      <td>...</td>\n",
       "      <td>NaN</td>\n",
       "      <td>NaN</td>\n",
       "      <td>NaN</td>\n",
       "      <td>NaN</td>\n",
       "      <td>NaN</td>\n",
       "      <td>31646080921</td>\n",
       "      <td>NaN</td>\n",
       "      <td>NaN</td>\n",
       "      <td>NaN</td>\n",
       "      <td>NaN</td>\n",
       "    </tr>\n",
       "  </tbody>\n",
       "</table>\n",
       "<p>2434 rows × 36 columns</p>\n",
       "</div>"
      ],
      "text/plain": [
       "Price                     Adj Close                                         \\\n",
       "Ticker                           BA    BTC-USD EURUSD=X      GC=F     MSFT   \n",
       "Date                                                                         \n",
       "2014-10-01 00:00:00+00:00  108.4067   383.6150   1.2628 1214.6000  39.2454   \n",
       "2014-10-02 00:00:00+00:00  107.9719   375.0720   1.2624 1214.2000  39.1257   \n",
       "2014-10-03 00:00:00+00:00  109.8762   359.5120   1.2671 1192.2000  39.4078   \n",
       "2014-10-04 00:00:00+00:00       NaN   328.8660      NaN       NaN      NaN   \n",
       "2014-10-05 00:00:00+00:00       NaN   320.5100      NaN       NaN      NaN   \n",
       "...                             ...        ...      ...       ...      ...   \n",
       "2021-05-26 00:00:00+00:00  241.3700 39294.1992   1.2249 1901.3000 244.7062   \n",
       "2021-05-27 00:00:00+00:00  250.7000 38436.9688   1.2193 1895.7000 242.5849   \n",
       "2021-05-28 00:00:00+00:00  247.0200 35697.6055   1.2193 1902.5000 242.9449   \n",
       "2021-05-29 00:00:00+00:00       NaN 34616.0664      NaN       NaN      NaN   \n",
       "2021-05-30 00:00:00+00:00       NaN 35678.1289      NaN       NaN      NaN   \n",
       "\n",
       "Price                                   Close                                \\\n",
       "Ticker                          ^DJI       BA    BTC-USD EURUSD=X      GC=F   \n",
       "Date                                                                          \n",
       "2014-10-01 00:00:00+00:00 16804.7109 124.6700   383.6150   1.2628 1214.6000   \n",
       "2014-10-02 00:00:00+00:00 16801.0508 124.1700   375.0720   1.2624 1214.2000   \n",
       "2014-10-03 00:00:00+00:00 17009.6895 126.3600   359.5120   1.2671 1192.2000   \n",
       "2014-10-04 00:00:00+00:00        NaN      NaN   328.8660      NaN       NaN   \n",
       "2014-10-05 00:00:00+00:00        NaN      NaN   320.5100      NaN       NaN   \n",
       "...                              ...      ...        ...      ...       ...   \n",
       "2021-05-26 00:00:00+00:00 34323.0508 241.3700 39294.1992   1.2249 1901.3000   \n",
       "2021-05-27 00:00:00+00:00 34464.6406 250.7000 38436.9688   1.2193 1895.7000   \n",
       "2021-05-28 00:00:00+00:00 34529.4492 247.0200 35697.6055   1.2193 1902.5000   \n",
       "2021-05-29 00:00:00+00:00        NaN      NaN 34616.0664      NaN       NaN   \n",
       "2021-05-30 00:00:00+00:00        NaN      NaN 35678.1289      NaN       NaN   \n",
       "\n",
       "Price                      ...     Open                                \\\n",
       "Ticker                     ... EURUSD=X      GC=F     MSFT       ^DJI   \n",
       "Date                       ...                                          \n",
       "2014-10-01 00:00:00+00:00  ...   1.2629 1207.7000  46.2700 17040.4609   \n",
       "2014-10-02 00:00:00+00:00  ...   1.2625 1215.3000  45.8300 16808.2695   \n",
       "2014-10-03 00:00:00+00:00  ...   1.2670 1212.4000  45.9800 16802.1992   \n",
       "2014-10-04 00:00:00+00:00  ...      NaN       NaN      NaN        NaN   \n",
       "2014-10-05 00:00:00+00:00  ...      NaN       NaN      NaN        NaN   \n",
       "...                        ...      ...       ...      ...        ...   \n",
       "2021-05-26 00:00:00+00:00  ...   1.2249 1901.3000 251.4300 34336.3398   \n",
       "2021-05-27 00:00:00+00:00  ...   1.2190 1896.8000 251.1700 34432.4688   \n",
       "2021-05-28 00:00:00+00:00  ...   1.2193 1897.5000 251.0000 34558.5000   \n",
       "2021-05-29 00:00:00+00:00  ...      NaN       NaN      NaN        NaN   \n",
       "2021-05-30 00:00:00+00:00  ...      NaN       NaN      NaN        NaN   \n",
       "\n",
       "Price                            Volume                                    \\\n",
       "Ticker                               BA      BTC-USD EURUSD=X        GC=F   \n",
       "Date                                                                        \n",
       "2014-10-01 00:00:00+00:00  5265200.0000     26229400   0.0000    178.0000   \n",
       "2014-10-02 00:00:00+00:00  3204500.0000     21777700   0.0000    176.0000   \n",
       "2014-10-03 00:00:00+00:00  3075900.0000     30901200   0.0000    499.0000   \n",
       "2014-10-04 00:00:00+00:00           NaN     47236500      NaN         NaN   \n",
       "2014-10-05 00:00:00+00:00           NaN     83308096      NaN         NaN   \n",
       "...                                 ...          ...      ...         ...   \n",
       "2021-05-26 00:00:00+00:00  7240200.0000  51346735160   0.0000 170526.0000   \n",
       "2021-05-27 00:00:00+00:00 18404400.0000  43210968721   0.0000  35794.0000   \n",
       "2021-05-28 00:00:00+00:00 11197400.0000  55200191952   0.0000   2415.0000   \n",
       "2021-05-29 00:00:00+00:00           NaN  45231013335      NaN         NaN   \n",
       "2021-05-30 00:00:00+00:00           NaN  31646080921      NaN         NaN   \n",
       "\n",
       "Price                                                   \n",
       "Ticker                             MSFT           ^DJI  \n",
       "Date                                                    \n",
       "2014-10-01 00:00:00+00:00 38088400.0000 104240000.0000  \n",
       "2014-10-02 00:00:00+00:00 25119400.0000  75490000.0000  \n",
       "2014-10-03 00:00:00+00:00 32453200.0000  87940000.0000  \n",
       "2014-10-04 00:00:00+00:00           NaN            NaN  \n",
       "2014-10-05 00:00:00+00:00           NaN            NaN  \n",
       "...                                 ...            ...  \n",
       "2021-05-26 00:00:00+00:00 17771600.0000 258780000.0000  \n",
       "2021-05-27 00:00:00+00:00 24426200.0000 520630000.0000  \n",
       "2021-05-28 00:00:00+00:00 18270200.0000 290850000.0000  \n",
       "2021-05-29 00:00:00+00:00           NaN            NaN  \n",
       "2021-05-30 00:00:00+00:00           NaN            NaN  \n",
       "\n",
       "[2434 rows x 36 columns]"
      ]
     },
     "execution_count": 11,
     "metadata": {},
     "output_type": "execute_result"
    }
   ],
   "source": [
    "df = yf.download(symbol, start, end)\n",
    "df"
   ]
  },
  {
   "cell_type": "code",
   "execution_count": 12,
   "id": "0ffab170",
   "metadata": {},
   "outputs": [
    {
     "name": "stdout",
     "output_type": "stream",
     "text": [
      "<class 'pandas.core.frame.DataFrame'>\n",
      "DatetimeIndex: 2434 entries, 2014-10-01 00:00:00+00:00 to 2021-05-30 00:00:00+00:00\n",
      "Freq: D\n",
      "Data columns (total 36 columns):\n",
      " #   Column                 Non-Null Count  Dtype  \n",
      "---  ------                 --------------  -----  \n",
      " 0   (Adj Close, BA)        1677 non-null   float64\n",
      " 1   (Adj Close, BTC-USD)   2434 non-null   float64\n",
      " 2   (Adj Close, EURUSD=X)  1735 non-null   float64\n",
      " 3   (Adj Close, GC=F)      1674 non-null   float64\n",
      " 4   (Adj Close, MSFT)      1677 non-null   float64\n",
      " 5   (Adj Close, ^DJI)      1677 non-null   float64\n",
      " 6   (Close, BA)            1677 non-null   float64\n",
      " 7   (Close, BTC-USD)       2434 non-null   float64\n",
      " 8   (Close, EURUSD=X)      1735 non-null   float64\n",
      " 9   (Close, GC=F)          1674 non-null   float64\n",
      " 10  (Close, MSFT)          1677 non-null   float64\n",
      " 11  (Close, ^DJI)          1677 non-null   float64\n",
      " 12  (High, BA)             1677 non-null   float64\n",
      " 13  (High, BTC-USD)        2434 non-null   float64\n",
      " 14  (High, EURUSD=X)       1735 non-null   float64\n",
      " 15  (High, GC=F)           1674 non-null   float64\n",
      " 16  (High, MSFT)           1677 non-null   float64\n",
      " 17  (High, ^DJI)           1677 non-null   float64\n",
      " 18  (Low, BA)              1677 non-null   float64\n",
      " 19  (Low, BTC-USD)         2434 non-null   float64\n",
      " 20  (Low, EURUSD=X)        1735 non-null   float64\n",
      " 21  (Low, GC=F)            1674 non-null   float64\n",
      " 22  (Low, MSFT)            1677 non-null   float64\n",
      " 23  (Low, ^DJI)            1677 non-null   float64\n",
      " 24  (Open, BA)             1677 non-null   float64\n",
      " 25  (Open, BTC-USD)        2434 non-null   float64\n",
      " 26  (Open, EURUSD=X)       1735 non-null   float64\n",
      " 27  (Open, GC=F)           1674 non-null   float64\n",
      " 28  (Open, MSFT)           1677 non-null   float64\n",
      " 29  (Open, ^DJI)           1677 non-null   float64\n",
      " 30  (Volume, BA)           1677 non-null   float64\n",
      " 31  (Volume, BTC-USD)      2434 non-null   int64  \n",
      " 32  (Volume, EURUSD=X)     1735 non-null   float64\n",
      " 33  (Volume, GC=F)         1674 non-null   float64\n",
      " 34  (Volume, MSFT)         1677 non-null   float64\n",
      " 35  (Volume, ^DJI)         1677 non-null   float64\n",
      "dtypes: float64(35), int64(1)\n",
      "memory usage: 703.6 KB\n"
     ]
    }
   ],
   "source": [
    "df.info()"
   ]
  },
  {
   "cell_type": "code",
   "execution_count": 13,
   "id": "228c6cd0",
   "metadata": {},
   "outputs": [],
   "source": [
    "df.to_csv(\"multi_assets.csv\")"
   ]
  },
  {
   "cell_type": "code",
   "execution_count": null,
   "id": "9adf39f7",
   "metadata": {},
   "outputs": [],
   "source": []
  },
  {
   "cell_type": "markdown",
   "id": "8fb998d5",
   "metadata": {},
   "source": [
    "## Initial Inspection and Visualization"
   ]
  },
  {
   "cell_type": "code",
   "execution_count": 14,
   "id": "ca851ade",
   "metadata": {},
   "outputs": [],
   "source": [
    "import pandas as pd\n",
    "import matplotlib.pyplot as plt\n",
    "pd.options.display.float_format = '{:.4f}'.format\n",
    "#plt.style.use(\"seaborn-v0_8\")"
   ]
  },
  {
   "cell_type": "code",
   "execution_count": 15,
   "id": "2ff5d5de",
   "metadata": {},
   "outputs": [
    {
     "data": {
      "text/html": [
       "<div>\n",
       "<style scoped>\n",
       "    .dataframe tbody tr th:only-of-type {\n",
       "        vertical-align: middle;\n",
       "    }\n",
       "\n",
       "    .dataframe tbody tr th {\n",
       "        vertical-align: top;\n",
       "    }\n",
       "\n",
       "    .dataframe thead tr th {\n",
       "        text-align: left;\n",
       "    }\n",
       "\n",
       "    .dataframe thead tr:last-of-type th {\n",
       "        text-align: right;\n",
       "    }\n",
       "</style>\n",
       "<table border=\"1\" class=\"dataframe\">\n",
       "  <thead>\n",
       "    <tr>\n",
       "      <th>Price</th>\n",
       "      <th colspan=\"6\" halign=\"left\">Adj Close</th>\n",
       "      <th colspan=\"4\" halign=\"left\">Close</th>\n",
       "      <th>...</th>\n",
       "      <th colspan=\"4\" halign=\"left\">Open</th>\n",
       "      <th colspan=\"6\" halign=\"left\">Volume</th>\n",
       "    </tr>\n",
       "    <tr>\n",
       "      <th>Ticker</th>\n",
       "      <th>BA</th>\n",
       "      <th>BTC-USD</th>\n",
       "      <th>EURUSD=X</th>\n",
       "      <th>GC=F</th>\n",
       "      <th>MSFT</th>\n",
       "      <th>^DJI</th>\n",
       "      <th>BA</th>\n",
       "      <th>BTC-USD</th>\n",
       "      <th>EURUSD=X</th>\n",
       "      <th>GC=F</th>\n",
       "      <th>...</th>\n",
       "      <th>EURUSD=X</th>\n",
       "      <th>GC=F</th>\n",
       "      <th>MSFT</th>\n",
       "      <th>^DJI</th>\n",
       "      <th>BA</th>\n",
       "      <th>BTC-USD</th>\n",
       "      <th>EURUSD=X</th>\n",
       "      <th>GC=F</th>\n",
       "      <th>MSFT</th>\n",
       "      <th>^DJI</th>\n",
       "    </tr>\n",
       "    <tr>\n",
       "      <th>Date</th>\n",
       "      <th></th>\n",
       "      <th></th>\n",
       "      <th></th>\n",
       "      <th></th>\n",
       "      <th></th>\n",
       "      <th></th>\n",
       "      <th></th>\n",
       "      <th></th>\n",
       "      <th></th>\n",
       "      <th></th>\n",
       "      <th></th>\n",
       "      <th></th>\n",
       "      <th></th>\n",
       "      <th></th>\n",
       "      <th></th>\n",
       "      <th></th>\n",
       "      <th></th>\n",
       "      <th></th>\n",
       "      <th></th>\n",
       "      <th></th>\n",
       "      <th></th>\n",
       "    </tr>\n",
       "  </thead>\n",
       "  <tbody>\n",
       "    <tr>\n",
       "      <th>2014-10-01 00:00:00+00:00</th>\n",
       "      <td>108.4067</td>\n",
       "      <td>383.6150</td>\n",
       "      <td>1.2628</td>\n",
       "      <td>1214.6000</td>\n",
       "      <td>39.2454</td>\n",
       "      <td>16804.7109</td>\n",
       "      <td>124.6700</td>\n",
       "      <td>383.6150</td>\n",
       "      <td>1.2628</td>\n",
       "      <td>1214.6000</td>\n",
       "      <td>...</td>\n",
       "      <td>1.2629</td>\n",
       "      <td>1207.7000</td>\n",
       "      <td>46.2700</td>\n",
       "      <td>17040.4609</td>\n",
       "      <td>5265200.0000</td>\n",
       "      <td>26229400</td>\n",
       "      <td>0.0000</td>\n",
       "      <td>178.0000</td>\n",
       "      <td>38088400.0000</td>\n",
       "      <td>104240000.0000</td>\n",
       "    </tr>\n",
       "    <tr>\n",
       "      <th>2014-10-02 00:00:00+00:00</th>\n",
       "      <td>107.9719</td>\n",
       "      <td>375.0720</td>\n",
       "      <td>1.2624</td>\n",
       "      <td>1214.2000</td>\n",
       "      <td>39.1257</td>\n",
       "      <td>16801.0508</td>\n",
       "      <td>124.1700</td>\n",
       "      <td>375.0720</td>\n",
       "      <td>1.2624</td>\n",
       "      <td>1214.2000</td>\n",
       "      <td>...</td>\n",
       "      <td>1.2625</td>\n",
       "      <td>1215.3000</td>\n",
       "      <td>45.8300</td>\n",
       "      <td>16808.2695</td>\n",
       "      <td>3204500.0000</td>\n",
       "      <td>21777700</td>\n",
       "      <td>0.0000</td>\n",
       "      <td>176.0000</td>\n",
       "      <td>25119400.0000</td>\n",
       "      <td>75490000.0000</td>\n",
       "    </tr>\n",
       "    <tr>\n",
       "      <th>2014-10-03 00:00:00+00:00</th>\n",
       "      <td>109.8762</td>\n",
       "      <td>359.5120</td>\n",
       "      <td>1.2671</td>\n",
       "      <td>1192.2000</td>\n",
       "      <td>39.4078</td>\n",
       "      <td>17009.6895</td>\n",
       "      <td>126.3600</td>\n",
       "      <td>359.5120</td>\n",
       "      <td>1.2671</td>\n",
       "      <td>1192.2000</td>\n",
       "      <td>...</td>\n",
       "      <td>1.2670</td>\n",
       "      <td>1212.4000</td>\n",
       "      <td>45.9800</td>\n",
       "      <td>16802.1992</td>\n",
       "      <td>3075900.0000</td>\n",
       "      <td>30901200</td>\n",
       "      <td>0.0000</td>\n",
       "      <td>499.0000</td>\n",
       "      <td>32453200.0000</td>\n",
       "      <td>87940000.0000</td>\n",
       "    </tr>\n",
       "    <tr>\n",
       "      <th>2014-10-04 00:00:00+00:00</th>\n",
       "      <td>NaN</td>\n",
       "      <td>328.8660</td>\n",
       "      <td>NaN</td>\n",
       "      <td>NaN</td>\n",
       "      <td>NaN</td>\n",
       "      <td>NaN</td>\n",
       "      <td>NaN</td>\n",
       "      <td>328.8660</td>\n",
       "      <td>NaN</td>\n",
       "      <td>NaN</td>\n",
       "      <td>...</td>\n",
       "      <td>NaN</td>\n",
       "      <td>NaN</td>\n",
       "      <td>NaN</td>\n",
       "      <td>NaN</td>\n",
       "      <td>NaN</td>\n",
       "      <td>47236500</td>\n",
       "      <td>NaN</td>\n",
       "      <td>NaN</td>\n",
       "      <td>NaN</td>\n",
       "      <td>NaN</td>\n",
       "    </tr>\n",
       "    <tr>\n",
       "      <th>2014-10-05 00:00:00+00:00</th>\n",
       "      <td>NaN</td>\n",
       "      <td>320.5100</td>\n",
       "      <td>NaN</td>\n",
       "      <td>NaN</td>\n",
       "      <td>NaN</td>\n",
       "      <td>NaN</td>\n",
       "      <td>NaN</td>\n",
       "      <td>320.5100</td>\n",
       "      <td>NaN</td>\n",
       "      <td>NaN</td>\n",
       "      <td>...</td>\n",
       "      <td>NaN</td>\n",
       "      <td>NaN</td>\n",
       "      <td>NaN</td>\n",
       "      <td>NaN</td>\n",
       "      <td>NaN</td>\n",
       "      <td>83308096</td>\n",
       "      <td>NaN</td>\n",
       "      <td>NaN</td>\n",
       "      <td>NaN</td>\n",
       "      <td>NaN</td>\n",
       "    </tr>\n",
       "    <tr>\n",
       "      <th>...</th>\n",
       "      <td>...</td>\n",
       "      <td>...</td>\n",
       "      <td>...</td>\n",
       "      <td>...</td>\n",
       "      <td>...</td>\n",
       "      <td>...</td>\n",
       "      <td>...</td>\n",
       "      <td>...</td>\n",
       "      <td>...</td>\n",
       "      <td>...</td>\n",
       "      <td>...</td>\n",
       "      <td>...</td>\n",
       "      <td>...</td>\n",
       "      <td>...</td>\n",
       "      <td>...</td>\n",
       "      <td>...</td>\n",
       "      <td>...</td>\n",
       "      <td>...</td>\n",
       "      <td>...</td>\n",
       "      <td>...</td>\n",
       "      <td>...</td>\n",
       "    </tr>\n",
       "    <tr>\n",
       "      <th>2021-05-26 00:00:00+00:00</th>\n",
       "      <td>241.3700</td>\n",
       "      <td>39294.1992</td>\n",
       "      <td>1.2249</td>\n",
       "      <td>1901.3000</td>\n",
       "      <td>244.7062</td>\n",
       "      <td>34323.0508</td>\n",
       "      <td>241.3700</td>\n",
       "      <td>39294.1992</td>\n",
       "      <td>1.2249</td>\n",
       "      <td>1901.3000</td>\n",
       "      <td>...</td>\n",
       "      <td>1.2249</td>\n",
       "      <td>1901.3000</td>\n",
       "      <td>251.4300</td>\n",
       "      <td>34336.3398</td>\n",
       "      <td>7240200.0000</td>\n",
       "      <td>51346735160</td>\n",
       "      <td>0.0000</td>\n",
       "      <td>170526.0000</td>\n",
       "      <td>17771600.0000</td>\n",
       "      <td>258780000.0000</td>\n",
       "    </tr>\n",
       "    <tr>\n",
       "      <th>2021-05-27 00:00:00+00:00</th>\n",
       "      <td>250.7000</td>\n",
       "      <td>38436.9688</td>\n",
       "      <td>1.2193</td>\n",
       "      <td>1895.7000</td>\n",
       "      <td>242.5849</td>\n",
       "      <td>34464.6406</td>\n",
       "      <td>250.7000</td>\n",
       "      <td>38436.9688</td>\n",
       "      <td>1.2193</td>\n",
       "      <td>1895.7000</td>\n",
       "      <td>...</td>\n",
       "      <td>1.2190</td>\n",
       "      <td>1896.8000</td>\n",
       "      <td>251.1700</td>\n",
       "      <td>34432.4688</td>\n",
       "      <td>18404400.0000</td>\n",
       "      <td>43210968721</td>\n",
       "      <td>0.0000</td>\n",
       "      <td>35794.0000</td>\n",
       "      <td>24426200.0000</td>\n",
       "      <td>520630000.0000</td>\n",
       "    </tr>\n",
       "    <tr>\n",
       "      <th>2021-05-28 00:00:00+00:00</th>\n",
       "      <td>247.0200</td>\n",
       "      <td>35697.6055</td>\n",
       "      <td>1.2193</td>\n",
       "      <td>1902.5000</td>\n",
       "      <td>242.9449</td>\n",
       "      <td>34529.4492</td>\n",
       "      <td>247.0200</td>\n",
       "      <td>35697.6055</td>\n",
       "      <td>1.2193</td>\n",
       "      <td>1902.5000</td>\n",
       "      <td>...</td>\n",
       "      <td>1.2193</td>\n",
       "      <td>1897.5000</td>\n",
       "      <td>251.0000</td>\n",
       "      <td>34558.5000</td>\n",
       "      <td>11197400.0000</td>\n",
       "      <td>55200191952</td>\n",
       "      <td>0.0000</td>\n",
       "      <td>2415.0000</td>\n",
       "      <td>18270200.0000</td>\n",
       "      <td>290850000.0000</td>\n",
       "    </tr>\n",
       "    <tr>\n",
       "      <th>2021-05-29 00:00:00+00:00</th>\n",
       "      <td>NaN</td>\n",
       "      <td>34616.0664</td>\n",
       "      <td>NaN</td>\n",
       "      <td>NaN</td>\n",
       "      <td>NaN</td>\n",
       "      <td>NaN</td>\n",
       "      <td>NaN</td>\n",
       "      <td>34616.0664</td>\n",
       "      <td>NaN</td>\n",
       "      <td>NaN</td>\n",
       "      <td>...</td>\n",
       "      <td>NaN</td>\n",
       "      <td>NaN</td>\n",
       "      <td>NaN</td>\n",
       "      <td>NaN</td>\n",
       "      <td>NaN</td>\n",
       "      <td>45231013335</td>\n",
       "      <td>NaN</td>\n",
       "      <td>NaN</td>\n",
       "      <td>NaN</td>\n",
       "      <td>NaN</td>\n",
       "    </tr>\n",
       "    <tr>\n",
       "      <th>2021-05-30 00:00:00+00:00</th>\n",
       "      <td>NaN</td>\n",
       "      <td>35678.1289</td>\n",
       "      <td>NaN</td>\n",
       "      <td>NaN</td>\n",
       "      <td>NaN</td>\n",
       "      <td>NaN</td>\n",
       "      <td>NaN</td>\n",
       "      <td>35678.1289</td>\n",
       "      <td>NaN</td>\n",
       "      <td>NaN</td>\n",
       "      <td>...</td>\n",
       "      <td>NaN</td>\n",
       "      <td>NaN</td>\n",
       "      <td>NaN</td>\n",
       "      <td>NaN</td>\n",
       "      <td>NaN</td>\n",
       "      <td>31646080921</td>\n",
       "      <td>NaN</td>\n",
       "      <td>NaN</td>\n",
       "      <td>NaN</td>\n",
       "      <td>NaN</td>\n",
       "    </tr>\n",
       "  </tbody>\n",
       "</table>\n",
       "<p>2434 rows × 36 columns</p>\n",
       "</div>"
      ],
      "text/plain": [
       "Price                     Adj Close                                         \\\n",
       "Ticker                           BA    BTC-USD EURUSD=X      GC=F     MSFT   \n",
       "Date                                                                         \n",
       "2014-10-01 00:00:00+00:00  108.4067   383.6150   1.2628 1214.6000  39.2454   \n",
       "2014-10-02 00:00:00+00:00  107.9719   375.0720   1.2624 1214.2000  39.1257   \n",
       "2014-10-03 00:00:00+00:00  109.8762   359.5120   1.2671 1192.2000  39.4078   \n",
       "2014-10-04 00:00:00+00:00       NaN   328.8660      NaN       NaN      NaN   \n",
       "2014-10-05 00:00:00+00:00       NaN   320.5100      NaN       NaN      NaN   \n",
       "...                             ...        ...      ...       ...      ...   \n",
       "2021-05-26 00:00:00+00:00  241.3700 39294.1992   1.2249 1901.3000 244.7062   \n",
       "2021-05-27 00:00:00+00:00  250.7000 38436.9688   1.2193 1895.7000 242.5849   \n",
       "2021-05-28 00:00:00+00:00  247.0200 35697.6055   1.2193 1902.5000 242.9449   \n",
       "2021-05-29 00:00:00+00:00       NaN 34616.0664      NaN       NaN      NaN   \n",
       "2021-05-30 00:00:00+00:00       NaN 35678.1289      NaN       NaN      NaN   \n",
       "\n",
       "Price                                   Close                                \\\n",
       "Ticker                          ^DJI       BA    BTC-USD EURUSD=X      GC=F   \n",
       "Date                                                                          \n",
       "2014-10-01 00:00:00+00:00 16804.7109 124.6700   383.6150   1.2628 1214.6000   \n",
       "2014-10-02 00:00:00+00:00 16801.0508 124.1700   375.0720   1.2624 1214.2000   \n",
       "2014-10-03 00:00:00+00:00 17009.6895 126.3600   359.5120   1.2671 1192.2000   \n",
       "2014-10-04 00:00:00+00:00        NaN      NaN   328.8660      NaN       NaN   \n",
       "2014-10-05 00:00:00+00:00        NaN      NaN   320.5100      NaN       NaN   \n",
       "...                              ...      ...        ...      ...       ...   \n",
       "2021-05-26 00:00:00+00:00 34323.0508 241.3700 39294.1992   1.2249 1901.3000   \n",
       "2021-05-27 00:00:00+00:00 34464.6406 250.7000 38436.9688   1.2193 1895.7000   \n",
       "2021-05-28 00:00:00+00:00 34529.4492 247.0200 35697.6055   1.2193 1902.5000   \n",
       "2021-05-29 00:00:00+00:00        NaN      NaN 34616.0664      NaN       NaN   \n",
       "2021-05-30 00:00:00+00:00        NaN      NaN 35678.1289      NaN       NaN   \n",
       "\n",
       "Price                      ...     Open                                \\\n",
       "Ticker                     ... EURUSD=X      GC=F     MSFT       ^DJI   \n",
       "Date                       ...                                          \n",
       "2014-10-01 00:00:00+00:00  ...   1.2629 1207.7000  46.2700 17040.4609   \n",
       "2014-10-02 00:00:00+00:00  ...   1.2625 1215.3000  45.8300 16808.2695   \n",
       "2014-10-03 00:00:00+00:00  ...   1.2670 1212.4000  45.9800 16802.1992   \n",
       "2014-10-04 00:00:00+00:00  ...      NaN       NaN      NaN        NaN   \n",
       "2014-10-05 00:00:00+00:00  ...      NaN       NaN      NaN        NaN   \n",
       "...                        ...      ...       ...      ...        ...   \n",
       "2021-05-26 00:00:00+00:00  ...   1.2249 1901.3000 251.4300 34336.3398   \n",
       "2021-05-27 00:00:00+00:00  ...   1.2190 1896.8000 251.1700 34432.4688   \n",
       "2021-05-28 00:00:00+00:00  ...   1.2193 1897.5000 251.0000 34558.5000   \n",
       "2021-05-29 00:00:00+00:00  ...      NaN       NaN      NaN        NaN   \n",
       "2021-05-30 00:00:00+00:00  ...      NaN       NaN      NaN        NaN   \n",
       "\n",
       "Price                            Volume                                    \\\n",
       "Ticker                               BA      BTC-USD EURUSD=X        GC=F   \n",
       "Date                                                                        \n",
       "2014-10-01 00:00:00+00:00  5265200.0000     26229400   0.0000    178.0000   \n",
       "2014-10-02 00:00:00+00:00  3204500.0000     21777700   0.0000    176.0000   \n",
       "2014-10-03 00:00:00+00:00  3075900.0000     30901200   0.0000    499.0000   \n",
       "2014-10-04 00:00:00+00:00           NaN     47236500      NaN         NaN   \n",
       "2014-10-05 00:00:00+00:00           NaN     83308096      NaN         NaN   \n",
       "...                                 ...          ...      ...         ...   \n",
       "2021-05-26 00:00:00+00:00  7240200.0000  51346735160   0.0000 170526.0000   \n",
       "2021-05-27 00:00:00+00:00 18404400.0000  43210968721   0.0000  35794.0000   \n",
       "2021-05-28 00:00:00+00:00 11197400.0000  55200191952   0.0000   2415.0000   \n",
       "2021-05-29 00:00:00+00:00           NaN  45231013335      NaN         NaN   \n",
       "2021-05-30 00:00:00+00:00           NaN  31646080921      NaN         NaN   \n",
       "\n",
       "Price                                                   \n",
       "Ticker                             MSFT           ^DJI  \n",
       "Date                                                    \n",
       "2014-10-01 00:00:00+00:00 38088400.0000 104240000.0000  \n",
       "2014-10-02 00:00:00+00:00 25119400.0000  75490000.0000  \n",
       "2014-10-03 00:00:00+00:00 32453200.0000  87940000.0000  \n",
       "2014-10-04 00:00:00+00:00           NaN            NaN  \n",
       "2014-10-05 00:00:00+00:00           NaN            NaN  \n",
       "...                                 ...            ...  \n",
       "2021-05-26 00:00:00+00:00 17771600.0000 258780000.0000  \n",
       "2021-05-27 00:00:00+00:00 24426200.0000 520630000.0000  \n",
       "2021-05-28 00:00:00+00:00 18270200.0000 290850000.0000  \n",
       "2021-05-29 00:00:00+00:00           NaN            NaN  \n",
       "2021-05-30 00:00:00+00:00           NaN            NaN  \n",
       "\n",
       "[2434 rows x 36 columns]"
      ]
     },
     "execution_count": 15,
     "metadata": {},
     "output_type": "execute_result"
    }
   ],
   "source": [
    "df = pd.read_csv(\"multi_assets.csv\", header = [0, 1], index_col = 0, parse_dates = [0])\n",
    "df"
   ]
  },
  {
   "cell_type": "code",
   "execution_count": 16,
   "id": "4154b3dc",
   "metadata": {},
   "outputs": [
    {
     "name": "stdout",
     "output_type": "stream",
     "text": [
      "<class 'pandas.core.frame.DataFrame'>\n",
      "DatetimeIndex: 2434 entries, 2014-10-01 00:00:00+00:00 to 2021-05-30 00:00:00+00:00\n",
      "Data columns (total 36 columns):\n",
      " #   Column                 Non-Null Count  Dtype  \n",
      "---  ------                 --------------  -----  \n",
      " 0   (Adj Close, BA)        1677 non-null   float64\n",
      " 1   (Adj Close, BTC-USD)   2434 non-null   float64\n",
      " 2   (Adj Close, EURUSD=X)  1735 non-null   float64\n",
      " 3   (Adj Close, GC=F)      1674 non-null   float64\n",
      " 4   (Adj Close, MSFT)      1677 non-null   float64\n",
      " 5   (Adj Close, ^DJI)      1677 non-null   float64\n",
      " 6   (Close, BA)            1677 non-null   float64\n",
      " 7   (Close, BTC-USD)       2434 non-null   float64\n",
      " 8   (Close, EURUSD=X)      1735 non-null   float64\n",
      " 9   (Close, GC=F)          1674 non-null   float64\n",
      " 10  (Close, MSFT)          1677 non-null   float64\n",
      " 11  (Close, ^DJI)          1677 non-null   float64\n",
      " 12  (High, BA)             1677 non-null   float64\n",
      " 13  (High, BTC-USD)        2434 non-null   float64\n",
      " 14  (High, EURUSD=X)       1735 non-null   float64\n",
      " 15  (High, GC=F)           1674 non-null   float64\n",
      " 16  (High, MSFT)           1677 non-null   float64\n",
      " 17  (High, ^DJI)           1677 non-null   float64\n",
      " 18  (Low, BA)              1677 non-null   float64\n",
      " 19  (Low, BTC-USD)         2434 non-null   float64\n",
      " 20  (Low, EURUSD=X)        1735 non-null   float64\n",
      " 21  (Low, GC=F)            1674 non-null   float64\n",
      " 22  (Low, MSFT)            1677 non-null   float64\n",
      " 23  (Low, ^DJI)            1677 non-null   float64\n",
      " 24  (Open, BA)             1677 non-null   float64\n",
      " 25  (Open, BTC-USD)        2434 non-null   float64\n",
      " 26  (Open, EURUSD=X)       1735 non-null   float64\n",
      " 27  (Open, GC=F)           1674 non-null   float64\n",
      " 28  (Open, MSFT)           1677 non-null   float64\n",
      " 29  (Open, ^DJI)           1677 non-null   float64\n",
      " 30  (Volume, BA)           1677 non-null   float64\n",
      " 31  (Volume, BTC-USD)      2434 non-null   int64  \n",
      " 32  (Volume, EURUSD=X)     1735 non-null   float64\n",
      " 33  (Volume, GC=F)         1674 non-null   float64\n",
      " 34  (Volume, MSFT)         1677 non-null   float64\n",
      " 35  (Volume, ^DJI)         1677 non-null   float64\n",
      "dtypes: float64(35), int64(1)\n",
      "memory usage: 703.6 KB\n"
     ]
    }
   ],
   "source": [
    "df.info()"
   ]
  },
  {
   "cell_type": "code",
   "execution_count": 17,
   "id": "4356cfce",
   "metadata": {},
   "outputs": [
    {
     "data": {
      "text/html": [
       "<div>\n",
       "<style scoped>\n",
       "    .dataframe tbody tr th:only-of-type {\n",
       "        vertical-align: middle;\n",
       "    }\n",
       "\n",
       "    .dataframe tbody tr th {\n",
       "        vertical-align: top;\n",
       "    }\n",
       "\n",
       "    .dataframe thead th {\n",
       "        text-align: right;\n",
       "    }\n",
       "</style>\n",
       "<table border=\"1\" class=\"dataframe\">\n",
       "  <thead>\n",
       "    <tr style=\"text-align: right;\">\n",
       "      <th>Ticker</th>\n",
       "      <th>BA</th>\n",
       "      <th>BTC-USD</th>\n",
       "      <th>EURUSD=X</th>\n",
       "      <th>GC=F</th>\n",
       "      <th>MSFT</th>\n",
       "      <th>^DJI</th>\n",
       "    </tr>\n",
       "    <tr>\n",
       "      <th>Date</th>\n",
       "      <th></th>\n",
       "      <th></th>\n",
       "      <th></th>\n",
       "      <th></th>\n",
       "      <th></th>\n",
       "      <th></th>\n",
       "    </tr>\n",
       "  </thead>\n",
       "  <tbody>\n",
       "    <tr>\n",
       "      <th>2014-10-01 00:00:00+00:00</th>\n",
       "      <td>124.6700</td>\n",
       "      <td>383.6150</td>\n",
       "      <td>1.2628</td>\n",
       "      <td>1214.6000</td>\n",
       "      <td>45.9000</td>\n",
       "      <td>16804.7109</td>\n",
       "    </tr>\n",
       "    <tr>\n",
       "      <th>2014-10-02 00:00:00+00:00</th>\n",
       "      <td>124.1700</td>\n",
       "      <td>375.0720</td>\n",
       "      <td>1.2624</td>\n",
       "      <td>1214.2000</td>\n",
       "      <td>45.7600</td>\n",
       "      <td>16801.0508</td>\n",
       "    </tr>\n",
       "    <tr>\n",
       "      <th>2014-10-03 00:00:00+00:00</th>\n",
       "      <td>126.3600</td>\n",
       "      <td>359.5120</td>\n",
       "      <td>1.2671</td>\n",
       "      <td>1192.2000</td>\n",
       "      <td>46.0900</td>\n",
       "      <td>17009.6895</td>\n",
       "    </tr>\n",
       "    <tr>\n",
       "      <th>2014-10-04 00:00:00+00:00</th>\n",
       "      <td>NaN</td>\n",
       "      <td>328.8660</td>\n",
       "      <td>NaN</td>\n",
       "      <td>NaN</td>\n",
       "      <td>NaN</td>\n",
       "      <td>NaN</td>\n",
       "    </tr>\n",
       "    <tr>\n",
       "      <th>2014-10-05 00:00:00+00:00</th>\n",
       "      <td>NaN</td>\n",
       "      <td>320.5100</td>\n",
       "      <td>NaN</td>\n",
       "      <td>NaN</td>\n",
       "      <td>NaN</td>\n",
       "      <td>NaN</td>\n",
       "    </tr>\n",
       "    <tr>\n",
       "      <th>...</th>\n",
       "      <td>...</td>\n",
       "      <td>...</td>\n",
       "      <td>...</td>\n",
       "      <td>...</td>\n",
       "      <td>...</td>\n",
       "      <td>...</td>\n",
       "    </tr>\n",
       "    <tr>\n",
       "      <th>2021-05-26 00:00:00+00:00</th>\n",
       "      <td>241.3700</td>\n",
       "      <td>39294.1992</td>\n",
       "      <td>1.2249</td>\n",
       "      <td>1901.3000</td>\n",
       "      <td>251.4900</td>\n",
       "      <td>34323.0508</td>\n",
       "    </tr>\n",
       "    <tr>\n",
       "      <th>2021-05-27 00:00:00+00:00</th>\n",
       "      <td>250.7000</td>\n",
       "      <td>38436.9688</td>\n",
       "      <td>1.2193</td>\n",
       "      <td>1895.7000</td>\n",
       "      <td>249.3100</td>\n",
       "      <td>34464.6406</td>\n",
       "    </tr>\n",
       "    <tr>\n",
       "      <th>2021-05-28 00:00:00+00:00</th>\n",
       "      <td>247.0200</td>\n",
       "      <td>35697.6055</td>\n",
       "      <td>1.2193</td>\n",
       "      <td>1902.5000</td>\n",
       "      <td>249.6800</td>\n",
       "      <td>34529.4492</td>\n",
       "    </tr>\n",
       "    <tr>\n",
       "      <th>2021-05-29 00:00:00+00:00</th>\n",
       "      <td>NaN</td>\n",
       "      <td>34616.0664</td>\n",
       "      <td>NaN</td>\n",
       "      <td>NaN</td>\n",
       "      <td>NaN</td>\n",
       "      <td>NaN</td>\n",
       "    </tr>\n",
       "    <tr>\n",
       "      <th>2021-05-30 00:00:00+00:00</th>\n",
       "      <td>NaN</td>\n",
       "      <td>35678.1289</td>\n",
       "      <td>NaN</td>\n",
       "      <td>NaN</td>\n",
       "      <td>NaN</td>\n",
       "      <td>NaN</td>\n",
       "    </tr>\n",
       "  </tbody>\n",
       "</table>\n",
       "<p>2434 rows × 6 columns</p>\n",
       "</div>"
      ],
      "text/plain": [
       "Ticker                          BA    BTC-USD  EURUSD=X      GC=F     MSFT  \\\n",
       "Date                                                                         \n",
       "2014-10-01 00:00:00+00:00 124.6700   383.6150    1.2628 1214.6000  45.9000   \n",
       "2014-10-02 00:00:00+00:00 124.1700   375.0720    1.2624 1214.2000  45.7600   \n",
       "2014-10-03 00:00:00+00:00 126.3600   359.5120    1.2671 1192.2000  46.0900   \n",
       "2014-10-04 00:00:00+00:00      NaN   328.8660       NaN       NaN      NaN   \n",
       "2014-10-05 00:00:00+00:00      NaN   320.5100       NaN       NaN      NaN   \n",
       "...                            ...        ...       ...       ...      ...   \n",
       "2021-05-26 00:00:00+00:00 241.3700 39294.1992    1.2249 1901.3000 251.4900   \n",
       "2021-05-27 00:00:00+00:00 250.7000 38436.9688    1.2193 1895.7000 249.3100   \n",
       "2021-05-28 00:00:00+00:00 247.0200 35697.6055    1.2193 1902.5000 249.6800   \n",
       "2021-05-29 00:00:00+00:00      NaN 34616.0664       NaN       NaN      NaN   \n",
       "2021-05-30 00:00:00+00:00      NaN 35678.1289       NaN       NaN      NaN   \n",
       "\n",
       "Ticker                          ^DJI  \n",
       "Date                                  \n",
       "2014-10-01 00:00:00+00:00 16804.7109  \n",
       "2014-10-02 00:00:00+00:00 16801.0508  \n",
       "2014-10-03 00:00:00+00:00 17009.6895  \n",
       "2014-10-04 00:00:00+00:00        NaN  \n",
       "2014-10-05 00:00:00+00:00        NaN  \n",
       "...                              ...  \n",
       "2021-05-26 00:00:00+00:00 34323.0508  \n",
       "2021-05-27 00:00:00+00:00 34464.6406  \n",
       "2021-05-28 00:00:00+00:00 34529.4492  \n",
       "2021-05-29 00:00:00+00:00        NaN  \n",
       "2021-05-30 00:00:00+00:00        NaN  \n",
       "\n",
       "[2434 rows x 6 columns]"
      ]
     },
     "execution_count": 17,
     "metadata": {},
     "output_type": "execute_result"
    }
   ],
   "source": [
    "df.Close # outer index level"
   ]
  },
  {
   "cell_type": "code",
   "execution_count": 18,
   "id": "4fc92bac",
   "metadata": {},
   "outputs": [
    {
     "data": {
      "text/plain": [
       "Date\n",
       "2014-10-01 00:00:00+00:00   124.6700\n",
       "2014-10-02 00:00:00+00:00   124.1700\n",
       "2014-10-03 00:00:00+00:00   126.3600\n",
       "2014-10-04 00:00:00+00:00        NaN\n",
       "2014-10-05 00:00:00+00:00        NaN\n",
       "                              ...   \n",
       "2021-05-26 00:00:00+00:00   241.3700\n",
       "2021-05-27 00:00:00+00:00   250.7000\n",
       "2021-05-28 00:00:00+00:00   247.0200\n",
       "2021-05-29 00:00:00+00:00        NaN\n",
       "2021-05-30 00:00:00+00:00        NaN\n",
       "Name: BA, Length: 2434, dtype: float64"
      ]
     },
     "execution_count": 18,
     "metadata": {},
     "output_type": "execute_result"
    }
   ],
   "source": [
    "df.Close.BA # one column (1)"
   ]
  },
  {
   "cell_type": "code",
   "execution_count": 19,
   "id": "99ac35fc",
   "metadata": {},
   "outputs": [
    {
     "data": {
      "text/plain": [
       "Date\n",
       "2014-10-01 00:00:00+00:00   124.6700\n",
       "2014-10-02 00:00:00+00:00   124.1700\n",
       "2014-10-03 00:00:00+00:00   126.3600\n",
       "2014-10-04 00:00:00+00:00        NaN\n",
       "2014-10-05 00:00:00+00:00        NaN\n",
       "                              ...   \n",
       "2021-05-26 00:00:00+00:00   241.3700\n",
       "2021-05-27 00:00:00+00:00   250.7000\n",
       "2021-05-28 00:00:00+00:00   247.0200\n",
       "2021-05-29 00:00:00+00:00        NaN\n",
       "2021-05-30 00:00:00+00:00        NaN\n",
       "Name: (Close, BA), Length: 2434, dtype: float64"
      ]
     },
     "execution_count": 19,
     "metadata": {},
     "output_type": "execute_result"
    }
   ],
   "source": [
    "df.loc[:, (\"Close\", \"BA\")] # one column (2)"
   ]
  },
  {
   "cell_type": "code",
   "execution_count": 20,
   "id": "48ad552c",
   "metadata": {},
   "outputs": [
    {
     "data": {
      "text/plain": [
       "Price      Ticker  \n",
       "Adj Close  BA              113.2724\n",
       "           BTC-USD         294.3370\n",
       "           EURUSD=X          1.1875\n",
       "           GC=F           1210.6000\n",
       "           MSFT             39.7768\n",
       "           ^DJI          17584.5195\n",
       "Close      BA              129.5100\n",
       "           BTC-USD         294.3370\n",
       "           EURUSD=X          1.1875\n",
       "           GC=F           1210.6000\n",
       "           MSFT             46.2300\n",
       "           ^DJI          17584.5195\n",
       "High       BA              129.9700\n",
       "           BTC-USD         298.7540\n",
       "           EURUSD=X          1.1900\n",
       "           GC=F           1219.2000\n",
       "           MSFT             46.4600\n",
       "           ^DJI          17597.0801\n",
       "Low        BA              128.7200\n",
       "           BTC-USD         283.0790\n",
       "           EURUSD=X          1.1804\n",
       "           GC=F           1210.6000\n",
       "           MSFT             45.4900\n",
       "           ^DJI          17374.7793\n",
       "Open       BA              128.7400\n",
       "           BTC-USD         286.0770\n",
       "           EURUSD=X          1.1875\n",
       "           GC=F           1219.2000\n",
       "           MSFT             45.9800\n",
       "           ^DJI          17374.7793\n",
       "Volume     BA          3573200.0000\n",
       "           BTC-USD    24866800.0000\n",
       "           EURUSD=X          0.0000\n",
       "           GC=F             29.0000\n",
       "           MSFT       29114100.0000\n",
       "           ^DJI       91030000.0000\n",
       "Name: 2015-01-07 00:00:00+00:00, dtype: float64"
      ]
     },
     "execution_count": 20,
     "metadata": {},
     "output_type": "execute_result"
    }
   ],
   "source": [
    "df.loc[\"2015-01-07\"] # one row"
   ]
  },
  {
   "cell_type": "code",
   "execution_count": 21,
   "id": "f95123ef",
   "metadata": {},
   "outputs": [
    {
     "data": {
      "text/html": [
       "<div>\n",
       "<style scoped>\n",
       "    .dataframe tbody tr th:only-of-type {\n",
       "        vertical-align: middle;\n",
       "    }\n",
       "\n",
       "    .dataframe tbody tr th {\n",
       "        vertical-align: top;\n",
       "    }\n",
       "\n",
       "    .dataframe thead tr th {\n",
       "        text-align: left;\n",
       "    }\n",
       "\n",
       "    .dataframe thead tr:last-of-type th {\n",
       "        text-align: right;\n",
       "    }\n",
       "</style>\n",
       "<table border=\"1\" class=\"dataframe\">\n",
       "  <thead>\n",
       "    <tr>\n",
       "      <th>Price</th>\n",
       "      <th colspan=\"6\" halign=\"left\">Adj Close</th>\n",
       "      <th colspan=\"4\" halign=\"left\">Close</th>\n",
       "      <th>...</th>\n",
       "      <th colspan=\"4\" halign=\"left\">Open</th>\n",
       "      <th colspan=\"6\" halign=\"left\">Volume</th>\n",
       "    </tr>\n",
       "    <tr>\n",
       "      <th>Ticker</th>\n",
       "      <th>BA</th>\n",
       "      <th>BTC-USD</th>\n",
       "      <th>EURUSD=X</th>\n",
       "      <th>GC=F</th>\n",
       "      <th>MSFT</th>\n",
       "      <th>^DJI</th>\n",
       "      <th>BA</th>\n",
       "      <th>BTC-USD</th>\n",
       "      <th>EURUSD=X</th>\n",
       "      <th>GC=F</th>\n",
       "      <th>...</th>\n",
       "      <th>EURUSD=X</th>\n",
       "      <th>GC=F</th>\n",
       "      <th>MSFT</th>\n",
       "      <th>^DJI</th>\n",
       "      <th>BA</th>\n",
       "      <th>BTC-USD</th>\n",
       "      <th>EURUSD=X</th>\n",
       "      <th>GC=F</th>\n",
       "      <th>MSFT</th>\n",
       "      <th>^DJI</th>\n",
       "    </tr>\n",
       "    <tr>\n",
       "      <th>Date</th>\n",
       "      <th></th>\n",
       "      <th></th>\n",
       "      <th></th>\n",
       "      <th></th>\n",
       "      <th></th>\n",
       "      <th></th>\n",
       "      <th></th>\n",
       "      <th></th>\n",
       "      <th></th>\n",
       "      <th></th>\n",
       "      <th></th>\n",
       "      <th></th>\n",
       "      <th></th>\n",
       "      <th></th>\n",
       "      <th></th>\n",
       "      <th></th>\n",
       "      <th></th>\n",
       "      <th></th>\n",
       "      <th></th>\n",
       "      <th></th>\n",
       "      <th></th>\n",
       "    </tr>\n",
       "  </thead>\n",
       "  <tbody>\n",
       "    <tr>\n",
       "      <th>2015-01-01 00:00:00+00:00</th>\n",
       "      <td>NaN</td>\n",
       "      <td>314.2490</td>\n",
       "      <td>1.2099</td>\n",
       "      <td>NaN</td>\n",
       "      <td>NaN</td>\n",
       "      <td>NaN</td>\n",
       "      <td>NaN</td>\n",
       "      <td>314.2490</td>\n",
       "      <td>1.2099</td>\n",
       "      <td>NaN</td>\n",
       "      <td>...</td>\n",
       "      <td>1.2099</td>\n",
       "      <td>NaN</td>\n",
       "      <td>NaN</td>\n",
       "      <td>NaN</td>\n",
       "      <td>NaN</td>\n",
       "      <td>8036550</td>\n",
       "      <td>0.0000</td>\n",
       "      <td>NaN</td>\n",
       "      <td>NaN</td>\n",
       "      <td>NaN</td>\n",
       "    </tr>\n",
       "    <tr>\n",
       "      <th>2015-01-02 00:00:00+00:00</th>\n",
       "      <td>113.6572</td>\n",
       "      <td>315.0320</td>\n",
       "      <td>1.2089</td>\n",
       "      <td>1186.0000</td>\n",
       "      <td>40.2328</td>\n",
       "      <td>17832.9902</td>\n",
       "      <td>129.9500</td>\n",
       "      <td>315.0320</td>\n",
       "      <td>1.2089</td>\n",
       "      <td>1186.0000</td>\n",
       "      <td>...</td>\n",
       "      <td>1.2089</td>\n",
       "      <td>1184.0000</td>\n",
       "      <td>46.6600</td>\n",
       "      <td>17823.0703</td>\n",
       "      <td>4294200.0000</td>\n",
       "      <td>7860650</td>\n",
       "      <td>0.0000</td>\n",
       "      <td>138.0000</td>\n",
       "      <td>27913900.0000</td>\n",
       "      <td>76270000.0000</td>\n",
       "    </tr>\n",
       "    <tr>\n",
       "      <th>2015-01-03 00:00:00+00:00</th>\n",
       "      <td>NaN</td>\n",
       "      <td>281.0820</td>\n",
       "      <td>NaN</td>\n",
       "      <td>NaN</td>\n",
       "      <td>NaN</td>\n",
       "      <td>NaN</td>\n",
       "      <td>NaN</td>\n",
       "      <td>281.0820</td>\n",
       "      <td>NaN</td>\n",
       "      <td>NaN</td>\n",
       "      <td>...</td>\n",
       "      <td>NaN</td>\n",
       "      <td>NaN</td>\n",
       "      <td>NaN</td>\n",
       "      <td>NaN</td>\n",
       "      <td>NaN</td>\n",
       "      <td>33054400</td>\n",
       "      <td>NaN</td>\n",
       "      <td>NaN</td>\n",
       "      <td>NaN</td>\n",
       "      <td>NaN</td>\n",
       "    </tr>\n",
       "    <tr>\n",
       "      <th>2015-01-04 00:00:00+00:00</th>\n",
       "      <td>NaN</td>\n",
       "      <td>264.1950</td>\n",
       "      <td>NaN</td>\n",
       "      <td>NaN</td>\n",
       "      <td>NaN</td>\n",
       "      <td>NaN</td>\n",
       "      <td>NaN</td>\n",
       "      <td>264.1950</td>\n",
       "      <td>NaN</td>\n",
       "      <td>NaN</td>\n",
       "      <td>...</td>\n",
       "      <td>NaN</td>\n",
       "      <td>NaN</td>\n",
       "      <td>NaN</td>\n",
       "      <td>NaN</td>\n",
       "      <td>NaN</td>\n",
       "      <td>55629100</td>\n",
       "      <td>NaN</td>\n",
       "      <td>NaN</td>\n",
       "      <td>NaN</td>\n",
       "      <td>NaN</td>\n",
       "    </tr>\n",
       "    <tr>\n",
       "      <th>2015-01-05 00:00:00+00:00</th>\n",
       "      <td>112.8701</td>\n",
       "      <td>274.4740</td>\n",
       "      <td>1.1946</td>\n",
       "      <td>1203.9000</td>\n",
       "      <td>39.8629</td>\n",
       "      <td>17501.6504</td>\n",
       "      <td>129.0500</td>\n",
       "      <td>274.4740</td>\n",
       "      <td>1.1946</td>\n",
       "      <td>1203.9000</td>\n",
       "      <td>...</td>\n",
       "      <td>1.1955</td>\n",
       "      <td>1180.3000</td>\n",
       "      <td>46.3700</td>\n",
       "      <td>17821.3008</td>\n",
       "      <td>5024800.0000</td>\n",
       "      <td>43962800</td>\n",
       "      <td>0.0000</td>\n",
       "      <td>470.0000</td>\n",
       "      <td>39673900.0000</td>\n",
       "      <td>116160000.0000</td>\n",
       "    </tr>\n",
       "    <tr>\n",
       "      <th>...</th>\n",
       "      <td>...</td>\n",
       "      <td>...</td>\n",
       "      <td>...</td>\n",
       "      <td>...</td>\n",
       "      <td>...</td>\n",
       "      <td>...</td>\n",
       "      <td>...</td>\n",
       "      <td>...</td>\n",
       "      <td>...</td>\n",
       "      <td>...</td>\n",
       "      <td>...</td>\n",
       "      <td>...</td>\n",
       "      <td>...</td>\n",
       "      <td>...</td>\n",
       "      <td>...</td>\n",
       "      <td>...</td>\n",
       "      <td>...</td>\n",
       "      <td>...</td>\n",
       "      <td>...</td>\n",
       "      <td>...</td>\n",
       "      <td>...</td>\n",
       "    </tr>\n",
       "    <tr>\n",
       "      <th>2015-12-27 00:00:00+00:00</th>\n",
       "      <td>NaN</td>\n",
       "      <td>422.8230</td>\n",
       "      <td>NaN</td>\n",
       "      <td>NaN</td>\n",
       "      <td>NaN</td>\n",
       "      <td>NaN</td>\n",
       "      <td>NaN</td>\n",
       "      <td>422.8230</td>\n",
       "      <td>NaN</td>\n",
       "      <td>NaN</td>\n",
       "      <td>...</td>\n",
       "      <td>NaN</td>\n",
       "      <td>NaN</td>\n",
       "      <td>NaN</td>\n",
       "      <td>NaN</td>\n",
       "      <td>NaN</td>\n",
       "      <td>53591200</td>\n",
       "      <td>NaN</td>\n",
       "      <td>NaN</td>\n",
       "      <td>NaN</td>\n",
       "      <td>NaN</td>\n",
       "    </tr>\n",
       "    <tr>\n",
       "      <th>2015-12-28 00:00:00+00:00</th>\n",
       "      <td>129.6283</td>\n",
       "      <td>422.2790</td>\n",
       "      <td>1.0966</td>\n",
       "      <td>1070.5000</td>\n",
       "      <td>49.4506</td>\n",
       "      <td>17528.2695</td>\n",
       "      <td>144.5400</td>\n",
       "      <td>422.2790</td>\n",
       "      <td>1.0966</td>\n",
       "      <td>1070.5000</td>\n",
       "      <td>...</td>\n",
       "      <td>1.0966</td>\n",
       "      <td>1077.9000</td>\n",
       "      <td>55.3500</td>\n",
       "      <td>17535.6602</td>\n",
       "      <td>1980000.0000</td>\n",
       "      <td>49638600</td>\n",
       "      <td>0.0000</td>\n",
       "      <td>361.0000</td>\n",
       "      <td>22458300.0000</td>\n",
       "      <td>59770000.0000</td>\n",
       "    </tr>\n",
       "    <tr>\n",
       "      <th>2015-12-29 00:00:00+00:00</th>\n",
       "      <td>132.1484</td>\n",
       "      <td>432.9830</td>\n",
       "      <td>1.0975</td>\n",
       "      <td>1077.5000</td>\n",
       "      <td>49.9809</td>\n",
       "      <td>17720.9805</td>\n",
       "      <td>147.3500</td>\n",
       "      <td>432.9830</td>\n",
       "      <td>1.0975</td>\n",
       "      <td>1077.5000</td>\n",
       "      <td>...</td>\n",
       "      <td>1.0977</td>\n",
       "      <td>1079.1000</td>\n",
       "      <td>56.2900</td>\n",
       "      <td>17547.3691</td>\n",
       "      <td>3133600.0000</td>\n",
       "      <td>51596500</td>\n",
       "      <td>0.0000</td>\n",
       "      <td>252.0000</td>\n",
       "      <td>27731400.0000</td>\n",
       "      <td>69860000.0000</td>\n",
       "    </tr>\n",
       "    <tr>\n",
       "      <th>2015-12-30 00:00:00+00:00</th>\n",
       "      <td>131.3054</td>\n",
       "      <td>426.6200</td>\n",
       "      <td>1.0928</td>\n",
       "      <td>1060.1000</td>\n",
       "      <td>49.7688</td>\n",
       "      <td>17603.8691</td>\n",
       "      <td>146.4100</td>\n",
       "      <td>426.6200</td>\n",
       "      <td>1.0928</td>\n",
       "      <td>1060.1000</td>\n",
       "      <td>...</td>\n",
       "      <td>1.0928</td>\n",
       "      <td>1068.6000</td>\n",
       "      <td>56.4700</td>\n",
       "      <td>17711.9395</td>\n",
       "      <td>1619000.0000</td>\n",
       "      <td>46889400</td>\n",
       "      <td>0.0000</td>\n",
       "      <td>71.0000</td>\n",
       "      <td>21704500.0000</td>\n",
       "      <td>59760000.0000</td>\n",
       "    </tr>\n",
       "    <tr>\n",
       "      <th>2015-12-31 00:00:00+00:00</th>\n",
       "      <td>129.6731</td>\n",
       "      <td>430.5670</td>\n",
       "      <td>1.0934</td>\n",
       "      <td>1060.3000</td>\n",
       "      <td>49.0352</td>\n",
       "      <td>17425.0293</td>\n",
       "      <td>144.5900</td>\n",
       "      <td>430.5670</td>\n",
       "      <td>1.0934</td>\n",
       "      <td>1060.3000</td>\n",
       "      <td>...</td>\n",
       "      <td>1.0938</td>\n",
       "      <td>1061.9000</td>\n",
       "      <td>56.0400</td>\n",
       "      <td>17590.6602</td>\n",
       "      <td>2105200.0000</td>\n",
       "      <td>45996600</td>\n",
       "      <td>0.0000</td>\n",
       "      <td>10.0000</td>\n",
       "      <td>27334100.0000</td>\n",
       "      <td>93690000.0000</td>\n",
       "    </tr>\n",
       "  </tbody>\n",
       "</table>\n",
       "<p>365 rows × 36 columns</p>\n",
       "</div>"
      ],
      "text/plain": [
       "Price                     Adj Close                                      \\\n",
       "Ticker                           BA  BTC-USD EURUSD=X      GC=F    MSFT   \n",
       "Date                                                                      \n",
       "2015-01-01 00:00:00+00:00       NaN 314.2490   1.2099       NaN     NaN   \n",
       "2015-01-02 00:00:00+00:00  113.6572 315.0320   1.2089 1186.0000 40.2328   \n",
       "2015-01-03 00:00:00+00:00       NaN 281.0820      NaN       NaN     NaN   \n",
       "2015-01-04 00:00:00+00:00       NaN 264.1950      NaN       NaN     NaN   \n",
       "2015-01-05 00:00:00+00:00  112.8701 274.4740   1.1946 1203.9000 39.8629   \n",
       "...                             ...      ...      ...       ...     ...   \n",
       "2015-12-27 00:00:00+00:00       NaN 422.8230      NaN       NaN     NaN   \n",
       "2015-12-28 00:00:00+00:00  129.6283 422.2790   1.0966 1070.5000 49.4506   \n",
       "2015-12-29 00:00:00+00:00  132.1484 432.9830   1.0975 1077.5000 49.9809   \n",
       "2015-12-30 00:00:00+00:00  131.3054 426.6200   1.0928 1060.1000 49.7688   \n",
       "2015-12-31 00:00:00+00:00  129.6731 430.5670   1.0934 1060.3000 49.0352   \n",
       "\n",
       "Price                                   Close                              \\\n",
       "Ticker                          ^DJI       BA  BTC-USD EURUSD=X      GC=F   \n",
       "Date                                                                        \n",
       "2015-01-01 00:00:00+00:00        NaN      NaN 314.2490   1.2099       NaN   \n",
       "2015-01-02 00:00:00+00:00 17832.9902 129.9500 315.0320   1.2089 1186.0000   \n",
       "2015-01-03 00:00:00+00:00        NaN      NaN 281.0820      NaN       NaN   \n",
       "2015-01-04 00:00:00+00:00        NaN      NaN 264.1950      NaN       NaN   \n",
       "2015-01-05 00:00:00+00:00 17501.6504 129.0500 274.4740   1.1946 1203.9000   \n",
       "...                              ...      ...      ...      ...       ...   \n",
       "2015-12-27 00:00:00+00:00        NaN      NaN 422.8230      NaN       NaN   \n",
       "2015-12-28 00:00:00+00:00 17528.2695 144.5400 422.2790   1.0966 1070.5000   \n",
       "2015-12-29 00:00:00+00:00 17720.9805 147.3500 432.9830   1.0975 1077.5000   \n",
       "2015-12-30 00:00:00+00:00 17603.8691 146.4100 426.6200   1.0928 1060.1000   \n",
       "2015-12-31 00:00:00+00:00 17425.0293 144.5900 430.5670   1.0934 1060.3000   \n",
       "\n",
       "Price                      ...     Open                               \\\n",
       "Ticker                     ... EURUSD=X      GC=F    MSFT       ^DJI   \n",
       "Date                       ...                                         \n",
       "2015-01-01 00:00:00+00:00  ...   1.2099       NaN     NaN        NaN   \n",
       "2015-01-02 00:00:00+00:00  ...   1.2089 1184.0000 46.6600 17823.0703   \n",
       "2015-01-03 00:00:00+00:00  ...      NaN       NaN     NaN        NaN   \n",
       "2015-01-04 00:00:00+00:00  ...      NaN       NaN     NaN        NaN   \n",
       "2015-01-05 00:00:00+00:00  ...   1.1955 1180.3000 46.3700 17821.3008   \n",
       "...                        ...      ...       ...     ...        ...   \n",
       "2015-12-27 00:00:00+00:00  ...      NaN       NaN     NaN        NaN   \n",
       "2015-12-28 00:00:00+00:00  ...   1.0966 1077.9000 55.3500 17535.6602   \n",
       "2015-12-29 00:00:00+00:00  ...   1.0977 1079.1000 56.2900 17547.3691   \n",
       "2015-12-30 00:00:00+00:00  ...   1.0928 1068.6000 56.4700 17711.9395   \n",
       "2015-12-31 00:00:00+00:00  ...   1.0938 1061.9000 56.0400 17590.6602   \n",
       "\n",
       "Price                           Volume                              \\\n",
       "Ticker                              BA   BTC-USD EURUSD=X     GC=F   \n",
       "Date                                                                 \n",
       "2015-01-01 00:00:00+00:00          NaN   8036550   0.0000      NaN   \n",
       "2015-01-02 00:00:00+00:00 4294200.0000   7860650   0.0000 138.0000   \n",
       "2015-01-03 00:00:00+00:00          NaN  33054400      NaN      NaN   \n",
       "2015-01-04 00:00:00+00:00          NaN  55629100      NaN      NaN   \n",
       "2015-01-05 00:00:00+00:00 5024800.0000  43962800   0.0000 470.0000   \n",
       "...                                ...       ...      ...      ...   \n",
       "2015-12-27 00:00:00+00:00          NaN  53591200      NaN      NaN   \n",
       "2015-12-28 00:00:00+00:00 1980000.0000  49638600   0.0000 361.0000   \n",
       "2015-12-29 00:00:00+00:00 3133600.0000  51596500   0.0000 252.0000   \n",
       "2015-12-30 00:00:00+00:00 1619000.0000  46889400   0.0000  71.0000   \n",
       "2015-12-31 00:00:00+00:00 2105200.0000  45996600   0.0000  10.0000   \n",
       "\n",
       "Price                                                   \n",
       "Ticker                             MSFT           ^DJI  \n",
       "Date                                                    \n",
       "2015-01-01 00:00:00+00:00           NaN            NaN  \n",
       "2015-01-02 00:00:00+00:00 27913900.0000  76270000.0000  \n",
       "2015-01-03 00:00:00+00:00           NaN            NaN  \n",
       "2015-01-04 00:00:00+00:00           NaN            NaN  \n",
       "2015-01-05 00:00:00+00:00 39673900.0000 116160000.0000  \n",
       "...                                 ...            ...  \n",
       "2015-12-27 00:00:00+00:00           NaN            NaN  \n",
       "2015-12-28 00:00:00+00:00 22458300.0000  59770000.0000  \n",
       "2015-12-29 00:00:00+00:00 27731400.0000  69860000.0000  \n",
       "2015-12-30 00:00:00+00:00 21704500.0000  59760000.0000  \n",
       "2015-12-31 00:00:00+00:00 27334100.0000  93690000.0000  \n",
       "\n",
       "[365 rows x 36 columns]"
      ]
     },
     "execution_count": 21,
     "metadata": {},
     "output_type": "execute_result"
    }
   ],
   "source": [
    "df.loc[\"2015\"] # one year"
   ]
  },
  {
   "cell_type": "code",
   "execution_count": 22,
   "id": "0f35c1a5",
   "metadata": {},
   "outputs": [
    {
     "data": {
      "text/plain": [
       "Date\n",
       "2020-06-01 00:00:00+00:00   151.3900\n",
       "2020-06-02 00:00:00+00:00   153.3100\n",
       "2020-06-03 00:00:00+00:00   173.1600\n",
       "2020-06-04 00:00:00+00:00   184.3000\n",
       "2020-06-05 00:00:00+00:00   205.4300\n",
       "                              ...   \n",
       "2021-05-26 00:00:00+00:00   241.3700\n",
       "2021-05-27 00:00:00+00:00   250.7000\n",
       "2021-05-28 00:00:00+00:00   247.0200\n",
       "2021-05-29 00:00:00+00:00        NaN\n",
       "2021-05-30 00:00:00+00:00        NaN\n",
       "Name: (Close, BA), Length: 364, dtype: float64"
      ]
     },
     "execution_count": 22,
     "metadata": {},
     "output_type": "execute_result"
    }
   ],
   "source": [
    "df.loc[\"2020-06\":, (\"Close\", \"BA\")] # one month for one column"
   ]
  },
  {
   "cell_type": "code",
   "execution_count": 23,
   "id": "4acb199c",
   "metadata": {},
   "outputs": [
    {
     "data": {
      "text/html": [
       "<div>\n",
       "<style scoped>\n",
       "    .dataframe tbody tr th:only-of-type {\n",
       "        vertical-align: middle;\n",
       "    }\n",
       "\n",
       "    .dataframe tbody tr th {\n",
       "        vertical-align: top;\n",
       "    }\n",
       "\n",
       "    .dataframe thead tr th {\n",
       "        text-align: left;\n",
       "    }\n",
       "\n",
       "    .dataframe thead tr:last-of-type th {\n",
       "        text-align: right;\n",
       "    }\n",
       "</style>\n",
       "<table border=\"1\" class=\"dataframe\">\n",
       "  <thead>\n",
       "    <tr>\n",
       "      <th>Ticker</th>\n",
       "      <th colspan=\"6\" halign=\"left\">BA</th>\n",
       "      <th colspan=\"4\" halign=\"left\">BTC-USD</th>\n",
       "      <th>...</th>\n",
       "      <th colspan=\"4\" halign=\"left\">MSFT</th>\n",
       "      <th colspan=\"6\" halign=\"left\">^DJI</th>\n",
       "    </tr>\n",
       "    <tr>\n",
       "      <th>Price</th>\n",
       "      <th>Adj Close</th>\n",
       "      <th>Close</th>\n",
       "      <th>High</th>\n",
       "      <th>Low</th>\n",
       "      <th>Open</th>\n",
       "      <th>Volume</th>\n",
       "      <th>Adj Close</th>\n",
       "      <th>Close</th>\n",
       "      <th>High</th>\n",
       "      <th>Low</th>\n",
       "      <th>...</th>\n",
       "      <th>High</th>\n",
       "      <th>Low</th>\n",
       "      <th>Open</th>\n",
       "      <th>Volume</th>\n",
       "      <th>Adj Close</th>\n",
       "      <th>Close</th>\n",
       "      <th>High</th>\n",
       "      <th>Low</th>\n",
       "      <th>Open</th>\n",
       "      <th>Volume</th>\n",
       "    </tr>\n",
       "    <tr>\n",
       "      <th>Date</th>\n",
       "      <th></th>\n",
       "      <th></th>\n",
       "      <th></th>\n",
       "      <th></th>\n",
       "      <th></th>\n",
       "      <th></th>\n",
       "      <th></th>\n",
       "      <th></th>\n",
       "      <th></th>\n",
       "      <th></th>\n",
       "      <th></th>\n",
       "      <th></th>\n",
       "      <th></th>\n",
       "      <th></th>\n",
       "      <th></th>\n",
       "      <th></th>\n",
       "      <th></th>\n",
       "      <th></th>\n",
       "      <th></th>\n",
       "      <th></th>\n",
       "      <th></th>\n",
       "    </tr>\n",
       "  </thead>\n",
       "  <tbody>\n",
       "    <tr>\n",
       "      <th>2014-10-01 00:00:00+00:00</th>\n",
       "      <td>108.4067</td>\n",
       "      <td>124.6700</td>\n",
       "      <td>127.3700</td>\n",
       "      <td>124.3100</td>\n",
       "      <td>127.3700</td>\n",
       "      <td>5265200.0000</td>\n",
       "      <td>383.6150</td>\n",
       "      <td>383.6150</td>\n",
       "      <td>391.3790</td>\n",
       "      <td>380.7800</td>\n",
       "      <td>...</td>\n",
       "      <td>46.5300</td>\n",
       "      <td>45.8500</td>\n",
       "      <td>46.2700</td>\n",
       "      <td>38088400.0000</td>\n",
       "      <td>16804.7109</td>\n",
       "      <td>16804.7109</td>\n",
       "      <td>17041.1602</td>\n",
       "      <td>16776.1309</td>\n",
       "      <td>17040.4609</td>\n",
       "      <td>104240000.0000</td>\n",
       "    </tr>\n",
       "    <tr>\n",
       "      <th>2014-10-02 00:00:00+00:00</th>\n",
       "      <td>107.9719</td>\n",
       "      <td>124.1700</td>\n",
       "      <td>125.5500</td>\n",
       "      <td>123.8400</td>\n",
       "      <td>124.4000</td>\n",
       "      <td>3204500.0000</td>\n",
       "      <td>375.0720</td>\n",
       "      <td>375.0720</td>\n",
       "      <td>385.4970</td>\n",
       "      <td>372.9460</td>\n",
       "      <td>...</td>\n",
       "      <td>46.1000</td>\n",
       "      <td>45.6400</td>\n",
       "      <td>45.8300</td>\n",
       "      <td>25119400.0000</td>\n",
       "      <td>16801.0508</td>\n",
       "      <td>16801.0508</td>\n",
       "      <td>16857.2500</td>\n",
       "      <td>16674.0391</td>\n",
       "      <td>16808.2695</td>\n",
       "      <td>75490000.0000</td>\n",
       "    </tr>\n",
       "    <tr>\n",
       "      <th>2014-10-03 00:00:00+00:00</th>\n",
       "      <td>109.8762</td>\n",
       "      <td>126.3600</td>\n",
       "      <td>126.8700</td>\n",
       "      <td>124.6600</td>\n",
       "      <td>124.6600</td>\n",
       "      <td>3075900.0000</td>\n",
       "      <td>359.5120</td>\n",
       "      <td>359.5120</td>\n",
       "      <td>377.6950</td>\n",
       "      <td>357.8590</td>\n",
       "      <td>...</td>\n",
       "      <td>46.3000</td>\n",
       "      <td>45.6100</td>\n",
       "      <td>45.9800</td>\n",
       "      <td>32453200.0000</td>\n",
       "      <td>17009.6895</td>\n",
       "      <td>17009.6895</td>\n",
       "      <td>17027.8398</td>\n",
       "      <td>16802.1992</td>\n",
       "      <td>16802.1992</td>\n",
       "      <td>87940000.0000</td>\n",
       "    </tr>\n",
       "    <tr>\n",
       "      <th>2014-10-04 00:00:00+00:00</th>\n",
       "      <td>NaN</td>\n",
       "      <td>NaN</td>\n",
       "      <td>NaN</td>\n",
       "      <td>NaN</td>\n",
       "      <td>NaN</td>\n",
       "      <td>NaN</td>\n",
       "      <td>328.8660</td>\n",
       "      <td>328.8660</td>\n",
       "      <td>364.4870</td>\n",
       "      <td>325.8860</td>\n",
       "      <td>...</td>\n",
       "      <td>NaN</td>\n",
       "      <td>NaN</td>\n",
       "      <td>NaN</td>\n",
       "      <td>NaN</td>\n",
       "      <td>NaN</td>\n",
       "      <td>NaN</td>\n",
       "      <td>NaN</td>\n",
       "      <td>NaN</td>\n",
       "      <td>NaN</td>\n",
       "      <td>NaN</td>\n",
       "    </tr>\n",
       "    <tr>\n",
       "      <th>2014-10-05 00:00:00+00:00</th>\n",
       "      <td>NaN</td>\n",
       "      <td>NaN</td>\n",
       "      <td>NaN</td>\n",
       "      <td>NaN</td>\n",
       "      <td>NaN</td>\n",
       "      <td>NaN</td>\n",
       "      <td>320.5100</td>\n",
       "      <td>320.5100</td>\n",
       "      <td>341.8010</td>\n",
       "      <td>289.2960</td>\n",
       "      <td>...</td>\n",
       "      <td>NaN</td>\n",
       "      <td>NaN</td>\n",
       "      <td>NaN</td>\n",
       "      <td>NaN</td>\n",
       "      <td>NaN</td>\n",
       "      <td>NaN</td>\n",
       "      <td>NaN</td>\n",
       "      <td>NaN</td>\n",
       "      <td>NaN</td>\n",
       "      <td>NaN</td>\n",
       "    </tr>\n",
       "    <tr>\n",
       "      <th>...</th>\n",
       "      <td>...</td>\n",
       "      <td>...</td>\n",
       "      <td>...</td>\n",
       "      <td>...</td>\n",
       "      <td>...</td>\n",
       "      <td>...</td>\n",
       "      <td>...</td>\n",
       "      <td>...</td>\n",
       "      <td>...</td>\n",
       "      <td>...</td>\n",
       "      <td>...</td>\n",
       "      <td>...</td>\n",
       "      <td>...</td>\n",
       "      <td>...</td>\n",
       "      <td>...</td>\n",
       "      <td>...</td>\n",
       "      <td>...</td>\n",
       "      <td>...</td>\n",
       "      <td>...</td>\n",
       "      <td>...</td>\n",
       "      <td>...</td>\n",
       "    </tr>\n",
       "    <tr>\n",
       "      <th>2021-05-26 00:00:00+00:00</th>\n",
       "      <td>241.3700</td>\n",
       "      <td>241.3700</td>\n",
       "      <td>242.4900</td>\n",
       "      <td>239.8700</td>\n",
       "      <td>241.7000</td>\n",
       "      <td>7240200.0000</td>\n",
       "      <td>39294.1992</td>\n",
       "      <td>39294.1992</td>\n",
       "      <td>40782.0781</td>\n",
       "      <td>37905.8359</td>\n",
       "      <td>...</td>\n",
       "      <td>252.9400</td>\n",
       "      <td>250.7500</td>\n",
       "      <td>251.4300</td>\n",
       "      <td>17771600.0000</td>\n",
       "      <td>34323.0508</td>\n",
       "      <td>34323.0508</td>\n",
       "      <td>34409.5898</td>\n",
       "      <td>34271.4414</td>\n",
       "      <td>34336.3398</td>\n",
       "      <td>258780000.0000</td>\n",
       "    </tr>\n",
       "    <tr>\n",
       "      <th>2021-05-27 00:00:00+00:00</th>\n",
       "      <td>250.7000</td>\n",
       "      <td>250.7000</td>\n",
       "      <td>252.6000</td>\n",
       "      <td>247.1900</td>\n",
       "      <td>248.1100</td>\n",
       "      <td>18404400.0000</td>\n",
       "      <td>38436.9688</td>\n",
       "      <td>38436.9688</td>\n",
       "      <td>40379.6172</td>\n",
       "      <td>37247.9023</td>\n",
       "      <td>...</td>\n",
       "      <td>251.4800</td>\n",
       "      <td>249.2500</td>\n",
       "      <td>251.1700</td>\n",
       "      <td>24426200.0000</td>\n",
       "      <td>34464.6406</td>\n",
       "      <td>34464.6406</td>\n",
       "      <td>34608.8203</td>\n",
       "      <td>34389.2383</td>\n",
       "      <td>34432.4688</td>\n",
       "      <td>520630000.0000</td>\n",
       "    </tr>\n",
       "    <tr>\n",
       "      <th>2021-05-28 00:00:00+00:00</th>\n",
       "      <td>247.0200</td>\n",
       "      <td>247.0200</td>\n",
       "      <td>248.9800</td>\n",
       "      <td>245.3700</td>\n",
       "      <td>247.4800</td>\n",
       "      <td>11197400.0000</td>\n",
       "      <td>35697.6055</td>\n",
       "      <td>35697.6055</td>\n",
       "      <td>38856.9688</td>\n",
       "      <td>34779.0391</td>\n",
       "      <td>...</td>\n",
       "      <td>252.0800</td>\n",
       "      <td>249.5600</td>\n",
       "      <td>251.0000</td>\n",
       "      <td>18270200.0000</td>\n",
       "      <td>34529.4492</td>\n",
       "      <td>34529.4492</td>\n",
       "      <td>34631.1094</td>\n",
       "      <td>34520.0898</td>\n",
       "      <td>34558.5000</td>\n",
       "      <td>290850000.0000</td>\n",
       "    </tr>\n",
       "    <tr>\n",
       "      <th>2021-05-29 00:00:00+00:00</th>\n",
       "      <td>NaN</td>\n",
       "      <td>NaN</td>\n",
       "      <td>NaN</td>\n",
       "      <td>NaN</td>\n",
       "      <td>NaN</td>\n",
       "      <td>NaN</td>\n",
       "      <td>34616.0664</td>\n",
       "      <td>34616.0664</td>\n",
       "      <td>37234.5000</td>\n",
       "      <td>33693.9297</td>\n",
       "      <td>...</td>\n",
       "      <td>NaN</td>\n",
       "      <td>NaN</td>\n",
       "      <td>NaN</td>\n",
       "      <td>NaN</td>\n",
       "      <td>NaN</td>\n",
       "      <td>NaN</td>\n",
       "      <td>NaN</td>\n",
       "      <td>NaN</td>\n",
       "      <td>NaN</td>\n",
       "      <td>NaN</td>\n",
       "    </tr>\n",
       "    <tr>\n",
       "      <th>2021-05-30 00:00:00+00:00</th>\n",
       "      <td>NaN</td>\n",
       "      <td>NaN</td>\n",
       "      <td>NaN</td>\n",
       "      <td>NaN</td>\n",
       "      <td>NaN</td>\n",
       "      <td>NaN</td>\n",
       "      <td>35678.1289</td>\n",
       "      <td>35678.1289</td>\n",
       "      <td>36400.6680</td>\n",
       "      <td>33520.7383</td>\n",
       "      <td>...</td>\n",
       "      <td>NaN</td>\n",
       "      <td>NaN</td>\n",
       "      <td>NaN</td>\n",
       "      <td>NaN</td>\n",
       "      <td>NaN</td>\n",
       "      <td>NaN</td>\n",
       "      <td>NaN</td>\n",
       "      <td>NaN</td>\n",
       "      <td>NaN</td>\n",
       "      <td>NaN</td>\n",
       "    </tr>\n",
       "  </tbody>\n",
       "</table>\n",
       "<p>2434 rows × 36 columns</p>\n",
       "</div>"
      ],
      "text/plain": [
       "Ticker                           BA                                      \\\n",
       "Price                     Adj Close    Close     High      Low     Open   \n",
       "Date                                                                      \n",
       "2014-10-01 00:00:00+00:00  108.4067 124.6700 127.3700 124.3100 127.3700   \n",
       "2014-10-02 00:00:00+00:00  107.9719 124.1700 125.5500 123.8400 124.4000   \n",
       "2014-10-03 00:00:00+00:00  109.8762 126.3600 126.8700 124.6600 124.6600   \n",
       "2014-10-04 00:00:00+00:00       NaN      NaN      NaN      NaN      NaN   \n",
       "2014-10-05 00:00:00+00:00       NaN      NaN      NaN      NaN      NaN   \n",
       "...                             ...      ...      ...      ...      ...   \n",
       "2021-05-26 00:00:00+00:00  241.3700 241.3700 242.4900 239.8700 241.7000   \n",
       "2021-05-27 00:00:00+00:00  250.7000 250.7000 252.6000 247.1900 248.1100   \n",
       "2021-05-28 00:00:00+00:00  247.0200 247.0200 248.9800 245.3700 247.4800   \n",
       "2021-05-29 00:00:00+00:00       NaN      NaN      NaN      NaN      NaN   \n",
       "2021-05-30 00:00:00+00:00       NaN      NaN      NaN      NaN      NaN   \n",
       "\n",
       "Ticker                                     BTC-USD                        \\\n",
       "Price                            Volume  Adj Close      Close       High   \n",
       "Date                                                                       \n",
       "2014-10-01 00:00:00+00:00  5265200.0000   383.6150   383.6150   391.3790   \n",
       "2014-10-02 00:00:00+00:00  3204500.0000   375.0720   375.0720   385.4970   \n",
       "2014-10-03 00:00:00+00:00  3075900.0000   359.5120   359.5120   377.6950   \n",
       "2014-10-04 00:00:00+00:00           NaN   328.8660   328.8660   364.4870   \n",
       "2014-10-05 00:00:00+00:00           NaN   320.5100   320.5100   341.8010   \n",
       "...                                 ...        ...        ...        ...   \n",
       "2021-05-26 00:00:00+00:00  7240200.0000 39294.1992 39294.1992 40782.0781   \n",
       "2021-05-27 00:00:00+00:00 18404400.0000 38436.9688 38436.9688 40379.6172   \n",
       "2021-05-28 00:00:00+00:00 11197400.0000 35697.6055 35697.6055 38856.9688   \n",
       "2021-05-29 00:00:00+00:00           NaN 34616.0664 34616.0664 37234.5000   \n",
       "2021-05-30 00:00:00+00:00           NaN 35678.1289 35678.1289 36400.6680   \n",
       "\n",
       "Ticker                                ...     MSFT                    \\\n",
       "Price                            Low  ...     High      Low     Open   \n",
       "Date                                  ...                              \n",
       "2014-10-01 00:00:00+00:00   380.7800  ...  46.5300  45.8500  46.2700   \n",
       "2014-10-02 00:00:00+00:00   372.9460  ...  46.1000  45.6400  45.8300   \n",
       "2014-10-03 00:00:00+00:00   357.8590  ...  46.3000  45.6100  45.9800   \n",
       "2014-10-04 00:00:00+00:00   325.8860  ...      NaN      NaN      NaN   \n",
       "2014-10-05 00:00:00+00:00   289.2960  ...      NaN      NaN      NaN   \n",
       "...                              ...  ...      ...      ...      ...   \n",
       "2021-05-26 00:00:00+00:00 37905.8359  ... 252.9400 250.7500 251.4300   \n",
       "2021-05-27 00:00:00+00:00 37247.9023  ... 251.4800 249.2500 251.1700   \n",
       "2021-05-28 00:00:00+00:00 34779.0391  ... 252.0800 249.5600 251.0000   \n",
       "2021-05-29 00:00:00+00:00 33693.9297  ...      NaN      NaN      NaN   \n",
       "2021-05-30 00:00:00+00:00 33520.7383  ...      NaN      NaN      NaN   \n",
       "\n",
       "Ticker                                        ^DJI                        \\\n",
       "Price                            Volume  Adj Close      Close       High   \n",
       "Date                                                                       \n",
       "2014-10-01 00:00:00+00:00 38088400.0000 16804.7109 16804.7109 17041.1602   \n",
       "2014-10-02 00:00:00+00:00 25119400.0000 16801.0508 16801.0508 16857.2500   \n",
       "2014-10-03 00:00:00+00:00 32453200.0000 17009.6895 17009.6895 17027.8398   \n",
       "2014-10-04 00:00:00+00:00           NaN        NaN        NaN        NaN   \n",
       "2014-10-05 00:00:00+00:00           NaN        NaN        NaN        NaN   \n",
       "...                                 ...        ...        ...        ...   \n",
       "2021-05-26 00:00:00+00:00 17771600.0000 34323.0508 34323.0508 34409.5898   \n",
       "2021-05-27 00:00:00+00:00 24426200.0000 34464.6406 34464.6406 34608.8203   \n",
       "2021-05-28 00:00:00+00:00 18270200.0000 34529.4492 34529.4492 34631.1094   \n",
       "2021-05-29 00:00:00+00:00           NaN        NaN        NaN        NaN   \n",
       "2021-05-30 00:00:00+00:00           NaN        NaN        NaN        NaN   \n",
       "\n",
       "Ticker                                                          \n",
       "Price                            Low       Open         Volume  \n",
       "Date                                                            \n",
       "2014-10-01 00:00:00+00:00 16776.1309 17040.4609 104240000.0000  \n",
       "2014-10-02 00:00:00+00:00 16674.0391 16808.2695  75490000.0000  \n",
       "2014-10-03 00:00:00+00:00 16802.1992 16802.1992  87940000.0000  \n",
       "2014-10-04 00:00:00+00:00        NaN        NaN            NaN  \n",
       "2014-10-05 00:00:00+00:00        NaN        NaN            NaN  \n",
       "...                              ...        ...            ...  \n",
       "2021-05-26 00:00:00+00:00 34271.4414 34336.3398 258780000.0000  \n",
       "2021-05-27 00:00:00+00:00 34389.2383 34432.4688 520630000.0000  \n",
       "2021-05-28 00:00:00+00:00 34520.0898 34558.5000 290850000.0000  \n",
       "2021-05-29 00:00:00+00:00        NaN        NaN            NaN  \n",
       "2021-05-30 00:00:00+00:00        NaN        NaN            NaN  \n",
       "\n",
       "[2434 rows x 36 columns]"
      ]
     },
     "execution_count": 23,
     "metadata": {},
     "output_type": "execute_result"
    }
   ],
   "source": [
    "df = df.swaplevel(axis = \"columns\").sort_index(axis = \"columns\") # swap outer and inner index\n",
    "df"
   ]
  },
  {
   "cell_type": "code",
   "execution_count": 24,
   "id": "3518e04c",
   "metadata": {},
   "outputs": [
    {
     "data": {
      "text/html": [
       "<div>\n",
       "<style scoped>\n",
       "    .dataframe tbody tr th:only-of-type {\n",
       "        vertical-align: middle;\n",
       "    }\n",
       "\n",
       "    .dataframe tbody tr th {\n",
       "        vertical-align: top;\n",
       "    }\n",
       "\n",
       "    .dataframe thead th {\n",
       "        text-align: right;\n",
       "    }\n",
       "</style>\n",
       "<table border=\"1\" class=\"dataframe\">\n",
       "  <thead>\n",
       "    <tr style=\"text-align: right;\">\n",
       "      <th>Price</th>\n",
       "      <th>Adj Close</th>\n",
       "      <th>Close</th>\n",
       "      <th>High</th>\n",
       "      <th>Low</th>\n",
       "      <th>Open</th>\n",
       "      <th>Volume</th>\n",
       "    </tr>\n",
       "    <tr>\n",
       "      <th>Date</th>\n",
       "      <th></th>\n",
       "      <th></th>\n",
       "      <th></th>\n",
       "      <th></th>\n",
       "      <th></th>\n",
       "      <th></th>\n",
       "    </tr>\n",
       "  </thead>\n",
       "  <tbody>\n",
       "    <tr>\n",
       "      <th>2014-10-01 00:00:00+00:00</th>\n",
       "      <td>1.2628</td>\n",
       "      <td>1.2628</td>\n",
       "      <td>1.2640</td>\n",
       "      <td>1.2586</td>\n",
       "      <td>1.2629</td>\n",
       "      <td>0.0000</td>\n",
       "    </tr>\n",
       "    <tr>\n",
       "      <th>2014-10-02 00:00:00+00:00</th>\n",
       "      <td>1.2624</td>\n",
       "      <td>1.2624</td>\n",
       "      <td>1.2691</td>\n",
       "      <td>1.2616</td>\n",
       "      <td>1.2625</td>\n",
       "      <td>0.0000</td>\n",
       "    </tr>\n",
       "    <tr>\n",
       "      <th>2014-10-03 00:00:00+00:00</th>\n",
       "      <td>1.2671</td>\n",
       "      <td>1.2671</td>\n",
       "      <td>1.2670</td>\n",
       "      <td>1.2502</td>\n",
       "      <td>1.2670</td>\n",
       "      <td>0.0000</td>\n",
       "    </tr>\n",
       "    <tr>\n",
       "      <th>2014-10-04 00:00:00+00:00</th>\n",
       "      <td>NaN</td>\n",
       "      <td>NaN</td>\n",
       "      <td>NaN</td>\n",
       "      <td>NaN</td>\n",
       "      <td>NaN</td>\n",
       "      <td>NaN</td>\n",
       "    </tr>\n",
       "    <tr>\n",
       "      <th>2014-10-05 00:00:00+00:00</th>\n",
       "      <td>NaN</td>\n",
       "      <td>NaN</td>\n",
       "      <td>NaN</td>\n",
       "      <td>NaN</td>\n",
       "      <td>NaN</td>\n",
       "      <td>NaN</td>\n",
       "    </tr>\n",
       "    <tr>\n",
       "      <th>...</th>\n",
       "      <td>...</td>\n",
       "      <td>...</td>\n",
       "      <td>...</td>\n",
       "      <td>...</td>\n",
       "      <td>...</td>\n",
       "      <td>...</td>\n",
       "    </tr>\n",
       "    <tr>\n",
       "      <th>2021-05-26 00:00:00+00:00</th>\n",
       "      <td>1.2249</td>\n",
       "      <td>1.2249</td>\n",
       "      <td>1.2265</td>\n",
       "      <td>1.2200</td>\n",
       "      <td>1.2249</td>\n",
       "      <td>0.0000</td>\n",
       "    </tr>\n",
       "    <tr>\n",
       "      <th>2021-05-27 00:00:00+00:00</th>\n",
       "      <td>1.2193</td>\n",
       "      <td>1.2193</td>\n",
       "      <td>1.2217</td>\n",
       "      <td>1.2176</td>\n",
       "      <td>1.2190</td>\n",
       "      <td>0.0000</td>\n",
       "    </tr>\n",
       "    <tr>\n",
       "      <th>2021-05-28 00:00:00+00:00</th>\n",
       "      <td>1.2193</td>\n",
       "      <td>1.2193</td>\n",
       "      <td>1.2201</td>\n",
       "      <td>1.2133</td>\n",
       "      <td>1.2193</td>\n",
       "      <td>0.0000</td>\n",
       "    </tr>\n",
       "    <tr>\n",
       "      <th>2021-05-29 00:00:00+00:00</th>\n",
       "      <td>NaN</td>\n",
       "      <td>NaN</td>\n",
       "      <td>NaN</td>\n",
       "      <td>NaN</td>\n",
       "      <td>NaN</td>\n",
       "      <td>NaN</td>\n",
       "    </tr>\n",
       "    <tr>\n",
       "      <th>2021-05-30 00:00:00+00:00</th>\n",
       "      <td>NaN</td>\n",
       "      <td>NaN</td>\n",
       "      <td>NaN</td>\n",
       "      <td>NaN</td>\n",
       "      <td>NaN</td>\n",
       "      <td>NaN</td>\n",
       "    </tr>\n",
       "  </tbody>\n",
       "</table>\n",
       "<p>2434 rows × 6 columns</p>\n",
       "</div>"
      ],
      "text/plain": [
       "Price                      Adj Close  Close   High    Low   Open  Volume\n",
       "Date                                                                    \n",
       "2014-10-01 00:00:00+00:00     1.2628 1.2628 1.2640 1.2586 1.2629  0.0000\n",
       "2014-10-02 00:00:00+00:00     1.2624 1.2624 1.2691 1.2616 1.2625  0.0000\n",
       "2014-10-03 00:00:00+00:00     1.2671 1.2671 1.2670 1.2502 1.2670  0.0000\n",
       "2014-10-04 00:00:00+00:00        NaN    NaN    NaN    NaN    NaN     NaN\n",
       "2014-10-05 00:00:00+00:00        NaN    NaN    NaN    NaN    NaN     NaN\n",
       "...                              ...    ...    ...    ...    ...     ...\n",
       "2021-05-26 00:00:00+00:00     1.2249 1.2249 1.2265 1.2200 1.2249  0.0000\n",
       "2021-05-27 00:00:00+00:00     1.2193 1.2193 1.2217 1.2176 1.2190  0.0000\n",
       "2021-05-28 00:00:00+00:00     1.2193 1.2193 1.2201 1.2133 1.2193  0.0000\n",
       "2021-05-29 00:00:00+00:00        NaN    NaN    NaN    NaN    NaN     NaN\n",
       "2021-05-30 00:00:00+00:00        NaN    NaN    NaN    NaN    NaN     NaN\n",
       "\n",
       "[2434 rows x 6 columns]"
      ]
     },
     "execution_count": 24,
     "metadata": {},
     "output_type": "execute_result"
    }
   ],
   "source": [
    "df[\"EURUSD=X\"]"
   ]
  },
  {
   "cell_type": "code",
   "execution_count": 25,
   "id": "efd617d8",
   "metadata": {},
   "outputs": [
    {
     "data": {
      "text/html": [
       "<div>\n",
       "<style scoped>\n",
       "    .dataframe tbody tr th:only-of-type {\n",
       "        vertical-align: middle;\n",
       "    }\n",
       "\n",
       "    .dataframe tbody tr th {\n",
       "        vertical-align: top;\n",
       "    }\n",
       "\n",
       "    .dataframe thead th {\n",
       "        text-align: right;\n",
       "    }\n",
       "</style>\n",
       "<table border=\"1\" class=\"dataframe\">\n",
       "  <thead>\n",
       "    <tr style=\"text-align: right;\">\n",
       "      <th>Price</th>\n",
       "      <th>Adj Close</th>\n",
       "      <th>Close</th>\n",
       "      <th>High</th>\n",
       "      <th>Low</th>\n",
       "      <th>Open</th>\n",
       "      <th>Volume</th>\n",
       "    </tr>\n",
       "    <tr>\n",
       "      <th>Date</th>\n",
       "      <th></th>\n",
       "      <th></th>\n",
       "      <th></th>\n",
       "      <th></th>\n",
       "      <th></th>\n",
       "      <th></th>\n",
       "    </tr>\n",
       "  </thead>\n",
       "  <tbody>\n",
       "    <tr>\n",
       "      <th>2014-10-01 00:00:00+00:00</th>\n",
       "      <td>383.6150</td>\n",
       "      <td>383.6150</td>\n",
       "      <td>391.3790</td>\n",
       "      <td>380.7800</td>\n",
       "      <td>387.4270</td>\n",
       "      <td>26229400</td>\n",
       "    </tr>\n",
       "    <tr>\n",
       "      <th>2014-10-02 00:00:00+00:00</th>\n",
       "      <td>375.0720</td>\n",
       "      <td>375.0720</td>\n",
       "      <td>385.4970</td>\n",
       "      <td>372.9460</td>\n",
       "      <td>383.9880</td>\n",
       "      <td>21777700</td>\n",
       "    </tr>\n",
       "    <tr>\n",
       "      <th>2014-10-03 00:00:00+00:00</th>\n",
       "      <td>359.5120</td>\n",
       "      <td>359.5120</td>\n",
       "      <td>377.6950</td>\n",
       "      <td>357.8590</td>\n",
       "      <td>375.1810</td>\n",
       "      <td>30901200</td>\n",
       "    </tr>\n",
       "    <tr>\n",
       "      <th>2014-10-04 00:00:00+00:00</th>\n",
       "      <td>328.8660</td>\n",
       "      <td>328.8660</td>\n",
       "      <td>364.4870</td>\n",
       "      <td>325.8860</td>\n",
       "      <td>359.8920</td>\n",
       "      <td>47236500</td>\n",
       "    </tr>\n",
       "    <tr>\n",
       "      <th>2014-10-05 00:00:00+00:00</th>\n",
       "      <td>320.5100</td>\n",
       "      <td>320.5100</td>\n",
       "      <td>341.8010</td>\n",
       "      <td>289.2960</td>\n",
       "      <td>328.9160</td>\n",
       "      <td>83308096</td>\n",
       "    </tr>\n",
       "    <tr>\n",
       "      <th>...</th>\n",
       "      <td>...</td>\n",
       "      <td>...</td>\n",
       "      <td>...</td>\n",
       "      <td>...</td>\n",
       "      <td>...</td>\n",
       "      <td>...</td>\n",
       "    </tr>\n",
       "    <tr>\n",
       "      <th>2021-05-26 00:00:00+00:00</th>\n",
       "      <td>39294.1992</td>\n",
       "      <td>39294.1992</td>\n",
       "      <td>40782.0781</td>\n",
       "      <td>37905.8359</td>\n",
       "      <td>38392.6250</td>\n",
       "      <td>51346735160</td>\n",
       "    </tr>\n",
       "    <tr>\n",
       "      <th>2021-05-27 00:00:00+00:00</th>\n",
       "      <td>38436.9688</td>\n",
       "      <td>38436.9688</td>\n",
       "      <td>40379.6172</td>\n",
       "      <td>37247.9023</td>\n",
       "      <td>39316.8906</td>\n",
       "      <td>43210968721</td>\n",
       "    </tr>\n",
       "    <tr>\n",
       "      <th>2021-05-28 00:00:00+00:00</th>\n",
       "      <td>35697.6055</td>\n",
       "      <td>35697.6055</td>\n",
       "      <td>38856.9688</td>\n",
       "      <td>34779.0391</td>\n",
       "      <td>38507.0820</td>\n",
       "      <td>55200191952</td>\n",
       "    </tr>\n",
       "    <tr>\n",
       "      <th>2021-05-29 00:00:00+00:00</th>\n",
       "      <td>34616.0664</td>\n",
       "      <td>34616.0664</td>\n",
       "      <td>37234.5000</td>\n",
       "      <td>33693.9297</td>\n",
       "      <td>35684.1562</td>\n",
       "      <td>45231013335</td>\n",
       "    </tr>\n",
       "    <tr>\n",
       "      <th>2021-05-30 00:00:00+00:00</th>\n",
       "      <td>35678.1289</td>\n",
       "      <td>35678.1289</td>\n",
       "      <td>36400.6680</td>\n",
       "      <td>33520.7383</td>\n",
       "      <td>34607.4062</td>\n",
       "      <td>31646080921</td>\n",
       "    </tr>\n",
       "  </tbody>\n",
       "</table>\n",
       "<p>2434 rows × 6 columns</p>\n",
       "</div>"
      ],
      "text/plain": [
       "Price                      Adj Close      Close       High        Low  \\\n",
       "Date                                                                    \n",
       "2014-10-01 00:00:00+00:00   383.6150   383.6150   391.3790   380.7800   \n",
       "2014-10-02 00:00:00+00:00   375.0720   375.0720   385.4970   372.9460   \n",
       "2014-10-03 00:00:00+00:00   359.5120   359.5120   377.6950   357.8590   \n",
       "2014-10-04 00:00:00+00:00   328.8660   328.8660   364.4870   325.8860   \n",
       "2014-10-05 00:00:00+00:00   320.5100   320.5100   341.8010   289.2960   \n",
       "...                              ...        ...        ...        ...   \n",
       "2021-05-26 00:00:00+00:00 39294.1992 39294.1992 40782.0781 37905.8359   \n",
       "2021-05-27 00:00:00+00:00 38436.9688 38436.9688 40379.6172 37247.9023   \n",
       "2021-05-28 00:00:00+00:00 35697.6055 35697.6055 38856.9688 34779.0391   \n",
       "2021-05-29 00:00:00+00:00 34616.0664 34616.0664 37234.5000 33693.9297   \n",
       "2021-05-30 00:00:00+00:00 35678.1289 35678.1289 36400.6680 33520.7383   \n",
       "\n",
       "Price                           Open       Volume  \n",
       "Date                                               \n",
       "2014-10-01 00:00:00+00:00   387.4270     26229400  \n",
       "2014-10-02 00:00:00+00:00   383.9880     21777700  \n",
       "2014-10-03 00:00:00+00:00   375.1810     30901200  \n",
       "2014-10-04 00:00:00+00:00   359.8920     47236500  \n",
       "2014-10-05 00:00:00+00:00   328.9160     83308096  \n",
       "...                              ...          ...  \n",
       "2021-05-26 00:00:00+00:00 38392.6250  51346735160  \n",
       "2021-05-27 00:00:00+00:00 39316.8906  43210968721  \n",
       "2021-05-28 00:00:00+00:00 38507.0820  55200191952  \n",
       "2021-05-29 00:00:00+00:00 35684.1562  45231013335  \n",
       "2021-05-30 00:00:00+00:00 34607.4062  31646080921  \n",
       "\n",
       "[2434 rows x 6 columns]"
      ]
     },
     "execution_count": 25,
     "metadata": {},
     "output_type": "execute_result"
    }
   ],
   "source": [
    "df[\"BTC-USD\"]"
   ]
  },
  {
   "cell_type": "code",
   "execution_count": 26,
   "id": "6fa7c360",
   "metadata": {},
   "outputs": [
    {
     "data": {
      "text/html": [
       "<div>\n",
       "<style scoped>\n",
       "    .dataframe tbody tr th:only-of-type {\n",
       "        vertical-align: middle;\n",
       "    }\n",
       "\n",
       "    .dataframe tbody tr th {\n",
       "        vertical-align: top;\n",
       "    }\n",
       "\n",
       "    .dataframe thead tr th {\n",
       "        text-align: left;\n",
       "    }\n",
       "\n",
       "    .dataframe thead tr:last-of-type th {\n",
       "        text-align: right;\n",
       "    }\n",
       "</style>\n",
       "<table border=\"1\" class=\"dataframe\">\n",
       "  <thead>\n",
       "    <tr>\n",
       "      <th>Price</th>\n",
       "      <th colspan=\"6\" halign=\"left\">Adj Close</th>\n",
       "      <th colspan=\"4\" halign=\"left\">Close</th>\n",
       "      <th>...</th>\n",
       "      <th colspan=\"4\" halign=\"left\">Open</th>\n",
       "      <th colspan=\"6\" halign=\"left\">Volume</th>\n",
       "    </tr>\n",
       "    <tr>\n",
       "      <th>Ticker</th>\n",
       "      <th>BA</th>\n",
       "      <th>BTC-USD</th>\n",
       "      <th>EURUSD=X</th>\n",
       "      <th>GC=F</th>\n",
       "      <th>MSFT</th>\n",
       "      <th>^DJI</th>\n",
       "      <th>BA</th>\n",
       "      <th>BTC-USD</th>\n",
       "      <th>EURUSD=X</th>\n",
       "      <th>GC=F</th>\n",
       "      <th>...</th>\n",
       "      <th>EURUSD=X</th>\n",
       "      <th>GC=F</th>\n",
       "      <th>MSFT</th>\n",
       "      <th>^DJI</th>\n",
       "      <th>BA</th>\n",
       "      <th>BTC-USD</th>\n",
       "      <th>EURUSD=X</th>\n",
       "      <th>GC=F</th>\n",
       "      <th>MSFT</th>\n",
       "      <th>^DJI</th>\n",
       "    </tr>\n",
       "    <tr>\n",
       "      <th>Date</th>\n",
       "      <th></th>\n",
       "      <th></th>\n",
       "      <th></th>\n",
       "      <th></th>\n",
       "      <th></th>\n",
       "      <th></th>\n",
       "      <th></th>\n",
       "      <th></th>\n",
       "      <th></th>\n",
       "      <th></th>\n",
       "      <th></th>\n",
       "      <th></th>\n",
       "      <th></th>\n",
       "      <th></th>\n",
       "      <th></th>\n",
       "      <th></th>\n",
       "      <th></th>\n",
       "      <th></th>\n",
       "      <th></th>\n",
       "      <th></th>\n",
       "      <th></th>\n",
       "    </tr>\n",
       "  </thead>\n",
       "  <tbody>\n",
       "    <tr>\n",
       "      <th>2014-10-01 00:00:00+00:00</th>\n",
       "      <td>108.4067</td>\n",
       "      <td>383.6150</td>\n",
       "      <td>1.2628</td>\n",
       "      <td>1214.6000</td>\n",
       "      <td>39.2454</td>\n",
       "      <td>16804.7109</td>\n",
       "      <td>124.6700</td>\n",
       "      <td>383.6150</td>\n",
       "      <td>1.2628</td>\n",
       "      <td>1214.6000</td>\n",
       "      <td>...</td>\n",
       "      <td>1.2629</td>\n",
       "      <td>1207.7000</td>\n",
       "      <td>46.2700</td>\n",
       "      <td>17040.4609</td>\n",
       "      <td>5265200.0000</td>\n",
       "      <td>26229400</td>\n",
       "      <td>0.0000</td>\n",
       "      <td>178.0000</td>\n",
       "      <td>38088400.0000</td>\n",
       "      <td>104240000.0000</td>\n",
       "    </tr>\n",
       "    <tr>\n",
       "      <th>2014-10-02 00:00:00+00:00</th>\n",
       "      <td>107.9719</td>\n",
       "      <td>375.0720</td>\n",
       "      <td>1.2624</td>\n",
       "      <td>1214.2000</td>\n",
       "      <td>39.1257</td>\n",
       "      <td>16801.0508</td>\n",
       "      <td>124.1700</td>\n",
       "      <td>375.0720</td>\n",
       "      <td>1.2624</td>\n",
       "      <td>1214.2000</td>\n",
       "      <td>...</td>\n",
       "      <td>1.2625</td>\n",
       "      <td>1215.3000</td>\n",
       "      <td>45.8300</td>\n",
       "      <td>16808.2695</td>\n",
       "      <td>3204500.0000</td>\n",
       "      <td>21777700</td>\n",
       "      <td>0.0000</td>\n",
       "      <td>176.0000</td>\n",
       "      <td>25119400.0000</td>\n",
       "      <td>75490000.0000</td>\n",
       "    </tr>\n",
       "    <tr>\n",
       "      <th>2014-10-03 00:00:00+00:00</th>\n",
       "      <td>109.8762</td>\n",
       "      <td>359.5120</td>\n",
       "      <td>1.2671</td>\n",
       "      <td>1192.2000</td>\n",
       "      <td>39.4078</td>\n",
       "      <td>17009.6895</td>\n",
       "      <td>126.3600</td>\n",
       "      <td>359.5120</td>\n",
       "      <td>1.2671</td>\n",
       "      <td>1192.2000</td>\n",
       "      <td>...</td>\n",
       "      <td>1.2670</td>\n",
       "      <td>1212.4000</td>\n",
       "      <td>45.9800</td>\n",
       "      <td>16802.1992</td>\n",
       "      <td>3075900.0000</td>\n",
       "      <td>30901200</td>\n",
       "      <td>0.0000</td>\n",
       "      <td>499.0000</td>\n",
       "      <td>32453200.0000</td>\n",
       "      <td>87940000.0000</td>\n",
       "    </tr>\n",
       "    <tr>\n",
       "      <th>2014-10-04 00:00:00+00:00</th>\n",
       "      <td>NaN</td>\n",
       "      <td>328.8660</td>\n",
       "      <td>NaN</td>\n",
       "      <td>NaN</td>\n",
       "      <td>NaN</td>\n",
       "      <td>NaN</td>\n",
       "      <td>NaN</td>\n",
       "      <td>328.8660</td>\n",
       "      <td>NaN</td>\n",
       "      <td>NaN</td>\n",
       "      <td>...</td>\n",
       "      <td>NaN</td>\n",
       "      <td>NaN</td>\n",
       "      <td>NaN</td>\n",
       "      <td>NaN</td>\n",
       "      <td>NaN</td>\n",
       "      <td>47236500</td>\n",
       "      <td>NaN</td>\n",
       "      <td>NaN</td>\n",
       "      <td>NaN</td>\n",
       "      <td>NaN</td>\n",
       "    </tr>\n",
       "    <tr>\n",
       "      <th>2014-10-05 00:00:00+00:00</th>\n",
       "      <td>NaN</td>\n",
       "      <td>320.5100</td>\n",
       "      <td>NaN</td>\n",
       "      <td>NaN</td>\n",
       "      <td>NaN</td>\n",
       "      <td>NaN</td>\n",
       "      <td>NaN</td>\n",
       "      <td>320.5100</td>\n",
       "      <td>NaN</td>\n",
       "      <td>NaN</td>\n",
       "      <td>...</td>\n",
       "      <td>NaN</td>\n",
       "      <td>NaN</td>\n",
       "      <td>NaN</td>\n",
       "      <td>NaN</td>\n",
       "      <td>NaN</td>\n",
       "      <td>83308096</td>\n",
       "      <td>NaN</td>\n",
       "      <td>NaN</td>\n",
       "      <td>NaN</td>\n",
       "      <td>NaN</td>\n",
       "    </tr>\n",
       "    <tr>\n",
       "      <th>...</th>\n",
       "      <td>...</td>\n",
       "      <td>...</td>\n",
       "      <td>...</td>\n",
       "      <td>...</td>\n",
       "      <td>...</td>\n",
       "      <td>...</td>\n",
       "      <td>...</td>\n",
       "      <td>...</td>\n",
       "      <td>...</td>\n",
       "      <td>...</td>\n",
       "      <td>...</td>\n",
       "      <td>...</td>\n",
       "      <td>...</td>\n",
       "      <td>...</td>\n",
       "      <td>...</td>\n",
       "      <td>...</td>\n",
       "      <td>...</td>\n",
       "      <td>...</td>\n",
       "      <td>...</td>\n",
       "      <td>...</td>\n",
       "      <td>...</td>\n",
       "    </tr>\n",
       "    <tr>\n",
       "      <th>2021-05-26 00:00:00+00:00</th>\n",
       "      <td>241.3700</td>\n",
       "      <td>39294.1992</td>\n",
       "      <td>1.2249</td>\n",
       "      <td>1901.3000</td>\n",
       "      <td>244.7062</td>\n",
       "      <td>34323.0508</td>\n",
       "      <td>241.3700</td>\n",
       "      <td>39294.1992</td>\n",
       "      <td>1.2249</td>\n",
       "      <td>1901.3000</td>\n",
       "      <td>...</td>\n",
       "      <td>1.2249</td>\n",
       "      <td>1901.3000</td>\n",
       "      <td>251.4300</td>\n",
       "      <td>34336.3398</td>\n",
       "      <td>7240200.0000</td>\n",
       "      <td>51346735160</td>\n",
       "      <td>0.0000</td>\n",
       "      <td>170526.0000</td>\n",
       "      <td>17771600.0000</td>\n",
       "      <td>258780000.0000</td>\n",
       "    </tr>\n",
       "    <tr>\n",
       "      <th>2021-05-27 00:00:00+00:00</th>\n",
       "      <td>250.7000</td>\n",
       "      <td>38436.9688</td>\n",
       "      <td>1.2193</td>\n",
       "      <td>1895.7000</td>\n",
       "      <td>242.5849</td>\n",
       "      <td>34464.6406</td>\n",
       "      <td>250.7000</td>\n",
       "      <td>38436.9688</td>\n",
       "      <td>1.2193</td>\n",
       "      <td>1895.7000</td>\n",
       "      <td>...</td>\n",
       "      <td>1.2190</td>\n",
       "      <td>1896.8000</td>\n",
       "      <td>251.1700</td>\n",
       "      <td>34432.4688</td>\n",
       "      <td>18404400.0000</td>\n",
       "      <td>43210968721</td>\n",
       "      <td>0.0000</td>\n",
       "      <td>35794.0000</td>\n",
       "      <td>24426200.0000</td>\n",
       "      <td>520630000.0000</td>\n",
       "    </tr>\n",
       "    <tr>\n",
       "      <th>2021-05-28 00:00:00+00:00</th>\n",
       "      <td>247.0200</td>\n",
       "      <td>35697.6055</td>\n",
       "      <td>1.2193</td>\n",
       "      <td>1902.5000</td>\n",
       "      <td>242.9449</td>\n",
       "      <td>34529.4492</td>\n",
       "      <td>247.0200</td>\n",
       "      <td>35697.6055</td>\n",
       "      <td>1.2193</td>\n",
       "      <td>1902.5000</td>\n",
       "      <td>...</td>\n",
       "      <td>1.2193</td>\n",
       "      <td>1897.5000</td>\n",
       "      <td>251.0000</td>\n",
       "      <td>34558.5000</td>\n",
       "      <td>11197400.0000</td>\n",
       "      <td>55200191952</td>\n",
       "      <td>0.0000</td>\n",
       "      <td>2415.0000</td>\n",
       "      <td>18270200.0000</td>\n",
       "      <td>290850000.0000</td>\n",
       "    </tr>\n",
       "    <tr>\n",
       "      <th>2021-05-29 00:00:00+00:00</th>\n",
       "      <td>NaN</td>\n",
       "      <td>34616.0664</td>\n",
       "      <td>NaN</td>\n",
       "      <td>NaN</td>\n",
       "      <td>NaN</td>\n",
       "      <td>NaN</td>\n",
       "      <td>NaN</td>\n",
       "      <td>34616.0664</td>\n",
       "      <td>NaN</td>\n",
       "      <td>NaN</td>\n",
       "      <td>...</td>\n",
       "      <td>NaN</td>\n",
       "      <td>NaN</td>\n",
       "      <td>NaN</td>\n",
       "      <td>NaN</td>\n",
       "      <td>NaN</td>\n",
       "      <td>45231013335</td>\n",
       "      <td>NaN</td>\n",
       "      <td>NaN</td>\n",
       "      <td>NaN</td>\n",
       "      <td>NaN</td>\n",
       "    </tr>\n",
       "    <tr>\n",
       "      <th>2021-05-30 00:00:00+00:00</th>\n",
       "      <td>NaN</td>\n",
       "      <td>35678.1289</td>\n",
       "      <td>NaN</td>\n",
       "      <td>NaN</td>\n",
       "      <td>NaN</td>\n",
       "      <td>NaN</td>\n",
       "      <td>NaN</td>\n",
       "      <td>35678.1289</td>\n",
       "      <td>NaN</td>\n",
       "      <td>NaN</td>\n",
       "      <td>...</td>\n",
       "      <td>NaN</td>\n",
       "      <td>NaN</td>\n",
       "      <td>NaN</td>\n",
       "      <td>NaN</td>\n",
       "      <td>NaN</td>\n",
       "      <td>31646080921</td>\n",
       "      <td>NaN</td>\n",
       "      <td>NaN</td>\n",
       "      <td>NaN</td>\n",
       "      <td>NaN</td>\n",
       "    </tr>\n",
       "  </tbody>\n",
       "</table>\n",
       "<p>2434 rows × 36 columns</p>\n",
       "</div>"
      ],
      "text/plain": [
       "Price                     Adj Close                                         \\\n",
       "Ticker                           BA    BTC-USD EURUSD=X      GC=F     MSFT   \n",
       "Date                                                                         \n",
       "2014-10-01 00:00:00+00:00  108.4067   383.6150   1.2628 1214.6000  39.2454   \n",
       "2014-10-02 00:00:00+00:00  107.9719   375.0720   1.2624 1214.2000  39.1257   \n",
       "2014-10-03 00:00:00+00:00  109.8762   359.5120   1.2671 1192.2000  39.4078   \n",
       "2014-10-04 00:00:00+00:00       NaN   328.8660      NaN       NaN      NaN   \n",
       "2014-10-05 00:00:00+00:00       NaN   320.5100      NaN       NaN      NaN   \n",
       "...                             ...        ...      ...       ...      ...   \n",
       "2021-05-26 00:00:00+00:00  241.3700 39294.1992   1.2249 1901.3000 244.7062   \n",
       "2021-05-27 00:00:00+00:00  250.7000 38436.9688   1.2193 1895.7000 242.5849   \n",
       "2021-05-28 00:00:00+00:00  247.0200 35697.6055   1.2193 1902.5000 242.9449   \n",
       "2021-05-29 00:00:00+00:00       NaN 34616.0664      NaN       NaN      NaN   \n",
       "2021-05-30 00:00:00+00:00       NaN 35678.1289      NaN       NaN      NaN   \n",
       "\n",
       "Price                                   Close                                \\\n",
       "Ticker                          ^DJI       BA    BTC-USD EURUSD=X      GC=F   \n",
       "Date                                                                          \n",
       "2014-10-01 00:00:00+00:00 16804.7109 124.6700   383.6150   1.2628 1214.6000   \n",
       "2014-10-02 00:00:00+00:00 16801.0508 124.1700   375.0720   1.2624 1214.2000   \n",
       "2014-10-03 00:00:00+00:00 17009.6895 126.3600   359.5120   1.2671 1192.2000   \n",
       "2014-10-04 00:00:00+00:00        NaN      NaN   328.8660      NaN       NaN   \n",
       "2014-10-05 00:00:00+00:00        NaN      NaN   320.5100      NaN       NaN   \n",
       "...                              ...      ...        ...      ...       ...   \n",
       "2021-05-26 00:00:00+00:00 34323.0508 241.3700 39294.1992   1.2249 1901.3000   \n",
       "2021-05-27 00:00:00+00:00 34464.6406 250.7000 38436.9688   1.2193 1895.7000   \n",
       "2021-05-28 00:00:00+00:00 34529.4492 247.0200 35697.6055   1.2193 1902.5000   \n",
       "2021-05-29 00:00:00+00:00        NaN      NaN 34616.0664      NaN       NaN   \n",
       "2021-05-30 00:00:00+00:00        NaN      NaN 35678.1289      NaN       NaN   \n",
       "\n",
       "Price                      ...     Open                                \\\n",
       "Ticker                     ... EURUSD=X      GC=F     MSFT       ^DJI   \n",
       "Date                       ...                                          \n",
       "2014-10-01 00:00:00+00:00  ...   1.2629 1207.7000  46.2700 17040.4609   \n",
       "2014-10-02 00:00:00+00:00  ...   1.2625 1215.3000  45.8300 16808.2695   \n",
       "2014-10-03 00:00:00+00:00  ...   1.2670 1212.4000  45.9800 16802.1992   \n",
       "2014-10-04 00:00:00+00:00  ...      NaN       NaN      NaN        NaN   \n",
       "2014-10-05 00:00:00+00:00  ...      NaN       NaN      NaN        NaN   \n",
       "...                        ...      ...       ...      ...        ...   \n",
       "2021-05-26 00:00:00+00:00  ...   1.2249 1901.3000 251.4300 34336.3398   \n",
       "2021-05-27 00:00:00+00:00  ...   1.2190 1896.8000 251.1700 34432.4688   \n",
       "2021-05-28 00:00:00+00:00  ...   1.2193 1897.5000 251.0000 34558.5000   \n",
       "2021-05-29 00:00:00+00:00  ...      NaN       NaN      NaN        NaN   \n",
       "2021-05-30 00:00:00+00:00  ...      NaN       NaN      NaN        NaN   \n",
       "\n",
       "Price                            Volume                                    \\\n",
       "Ticker                               BA      BTC-USD EURUSD=X        GC=F   \n",
       "Date                                                                        \n",
       "2014-10-01 00:00:00+00:00  5265200.0000     26229400   0.0000    178.0000   \n",
       "2014-10-02 00:00:00+00:00  3204500.0000     21777700   0.0000    176.0000   \n",
       "2014-10-03 00:00:00+00:00  3075900.0000     30901200   0.0000    499.0000   \n",
       "2014-10-04 00:00:00+00:00           NaN     47236500      NaN         NaN   \n",
       "2014-10-05 00:00:00+00:00           NaN     83308096      NaN         NaN   \n",
       "...                                 ...          ...      ...         ...   \n",
       "2021-05-26 00:00:00+00:00  7240200.0000  51346735160   0.0000 170526.0000   \n",
       "2021-05-27 00:00:00+00:00 18404400.0000  43210968721   0.0000  35794.0000   \n",
       "2021-05-28 00:00:00+00:00 11197400.0000  55200191952   0.0000   2415.0000   \n",
       "2021-05-29 00:00:00+00:00           NaN  45231013335      NaN         NaN   \n",
       "2021-05-30 00:00:00+00:00           NaN  31646080921      NaN         NaN   \n",
       "\n",
       "Price                                                   \n",
       "Ticker                             MSFT           ^DJI  \n",
       "Date                                                    \n",
       "2014-10-01 00:00:00+00:00 38088400.0000 104240000.0000  \n",
       "2014-10-02 00:00:00+00:00 25119400.0000  75490000.0000  \n",
       "2014-10-03 00:00:00+00:00 32453200.0000  87940000.0000  \n",
       "2014-10-04 00:00:00+00:00           NaN            NaN  \n",
       "2014-10-05 00:00:00+00:00           NaN            NaN  \n",
       "...                                 ...            ...  \n",
       "2021-05-26 00:00:00+00:00 17771600.0000 258780000.0000  \n",
       "2021-05-27 00:00:00+00:00 24426200.0000 520630000.0000  \n",
       "2021-05-28 00:00:00+00:00 18270200.0000 290850000.0000  \n",
       "2021-05-29 00:00:00+00:00           NaN            NaN  \n",
       "2021-05-30 00:00:00+00:00           NaN            NaN  \n",
       "\n",
       "[2434 rows x 36 columns]"
      ]
     },
     "execution_count": 26,
     "metadata": {},
     "output_type": "execute_result"
    }
   ],
   "source": [
    "df = df.swaplevel(axis = \"columns\").sort_index(axis = \"columns\") # swap outer and inner index\n",
    "df"
   ]
  },
  {
   "cell_type": "code",
   "execution_count": 27,
   "id": "669bfd2a",
   "metadata": {},
   "outputs": [
    {
     "data": {
      "text/html": [
       "<div>\n",
       "<style scoped>\n",
       "    .dataframe tbody tr th:only-of-type {\n",
       "        vertical-align: middle;\n",
       "    }\n",
       "\n",
       "    .dataframe tbody tr th {\n",
       "        vertical-align: top;\n",
       "    }\n",
       "\n",
       "    .dataframe thead th {\n",
       "        text-align: right;\n",
       "    }\n",
       "</style>\n",
       "<table border=\"1\" class=\"dataframe\">\n",
       "  <thead>\n",
       "    <tr style=\"text-align: right;\">\n",
       "      <th>Ticker</th>\n",
       "      <th>BA</th>\n",
       "      <th>BTC-USD</th>\n",
       "      <th>EURUSD=X</th>\n",
       "      <th>GC=F</th>\n",
       "      <th>MSFT</th>\n",
       "      <th>^DJI</th>\n",
       "    </tr>\n",
       "    <tr>\n",
       "      <th>Date</th>\n",
       "      <th></th>\n",
       "      <th></th>\n",
       "      <th></th>\n",
       "      <th></th>\n",
       "      <th></th>\n",
       "      <th></th>\n",
       "    </tr>\n",
       "  </thead>\n",
       "  <tbody>\n",
       "    <tr>\n",
       "      <th>2014-10-01 00:00:00+00:00</th>\n",
       "      <td>124.6700</td>\n",
       "      <td>383.6150</td>\n",
       "      <td>1.2628</td>\n",
       "      <td>1214.6000</td>\n",
       "      <td>45.9000</td>\n",
       "      <td>16804.7109</td>\n",
       "    </tr>\n",
       "    <tr>\n",
       "      <th>2014-10-02 00:00:00+00:00</th>\n",
       "      <td>124.1700</td>\n",
       "      <td>375.0720</td>\n",
       "      <td>1.2624</td>\n",
       "      <td>1214.2000</td>\n",
       "      <td>45.7600</td>\n",
       "      <td>16801.0508</td>\n",
       "    </tr>\n",
       "    <tr>\n",
       "      <th>2014-10-03 00:00:00+00:00</th>\n",
       "      <td>126.3600</td>\n",
       "      <td>359.5120</td>\n",
       "      <td>1.2671</td>\n",
       "      <td>1192.2000</td>\n",
       "      <td>46.0900</td>\n",
       "      <td>17009.6895</td>\n",
       "    </tr>\n",
       "    <tr>\n",
       "      <th>2014-10-04 00:00:00+00:00</th>\n",
       "      <td>NaN</td>\n",
       "      <td>328.8660</td>\n",
       "      <td>NaN</td>\n",
       "      <td>NaN</td>\n",
       "      <td>NaN</td>\n",
       "      <td>NaN</td>\n",
       "    </tr>\n",
       "    <tr>\n",
       "      <th>2014-10-05 00:00:00+00:00</th>\n",
       "      <td>NaN</td>\n",
       "      <td>320.5100</td>\n",
       "      <td>NaN</td>\n",
       "      <td>NaN</td>\n",
       "      <td>NaN</td>\n",
       "      <td>NaN</td>\n",
       "    </tr>\n",
       "    <tr>\n",
       "      <th>...</th>\n",
       "      <td>...</td>\n",
       "      <td>...</td>\n",
       "      <td>...</td>\n",
       "      <td>...</td>\n",
       "      <td>...</td>\n",
       "      <td>...</td>\n",
       "    </tr>\n",
       "    <tr>\n",
       "      <th>2021-05-26 00:00:00+00:00</th>\n",
       "      <td>241.3700</td>\n",
       "      <td>39294.1992</td>\n",
       "      <td>1.2249</td>\n",
       "      <td>1901.3000</td>\n",
       "      <td>251.4900</td>\n",
       "      <td>34323.0508</td>\n",
       "    </tr>\n",
       "    <tr>\n",
       "      <th>2021-05-27 00:00:00+00:00</th>\n",
       "      <td>250.7000</td>\n",
       "      <td>38436.9688</td>\n",
       "      <td>1.2193</td>\n",
       "      <td>1895.7000</td>\n",
       "      <td>249.3100</td>\n",
       "      <td>34464.6406</td>\n",
       "    </tr>\n",
       "    <tr>\n",
       "      <th>2021-05-28 00:00:00+00:00</th>\n",
       "      <td>247.0200</td>\n",
       "      <td>35697.6055</td>\n",
       "      <td>1.2193</td>\n",
       "      <td>1902.5000</td>\n",
       "      <td>249.6800</td>\n",
       "      <td>34529.4492</td>\n",
       "    </tr>\n",
       "    <tr>\n",
       "      <th>2021-05-29 00:00:00+00:00</th>\n",
       "      <td>NaN</td>\n",
       "      <td>34616.0664</td>\n",
       "      <td>NaN</td>\n",
       "      <td>NaN</td>\n",
       "      <td>NaN</td>\n",
       "      <td>NaN</td>\n",
       "    </tr>\n",
       "    <tr>\n",
       "      <th>2021-05-30 00:00:00+00:00</th>\n",
       "      <td>NaN</td>\n",
       "      <td>35678.1289</td>\n",
       "      <td>NaN</td>\n",
       "      <td>NaN</td>\n",
       "      <td>NaN</td>\n",
       "      <td>NaN</td>\n",
       "    </tr>\n",
       "  </tbody>\n",
       "</table>\n",
       "<p>2434 rows × 6 columns</p>\n",
       "</div>"
      ],
      "text/plain": [
       "Ticker                          BA    BTC-USD  EURUSD=X      GC=F     MSFT  \\\n",
       "Date                                                                         \n",
       "2014-10-01 00:00:00+00:00 124.6700   383.6150    1.2628 1214.6000  45.9000   \n",
       "2014-10-02 00:00:00+00:00 124.1700   375.0720    1.2624 1214.2000  45.7600   \n",
       "2014-10-03 00:00:00+00:00 126.3600   359.5120    1.2671 1192.2000  46.0900   \n",
       "2014-10-04 00:00:00+00:00      NaN   328.8660       NaN       NaN      NaN   \n",
       "2014-10-05 00:00:00+00:00      NaN   320.5100       NaN       NaN      NaN   \n",
       "...                            ...        ...       ...       ...      ...   \n",
       "2021-05-26 00:00:00+00:00 241.3700 39294.1992    1.2249 1901.3000 251.4900   \n",
       "2021-05-27 00:00:00+00:00 250.7000 38436.9688    1.2193 1895.7000 249.3100   \n",
       "2021-05-28 00:00:00+00:00 247.0200 35697.6055    1.2193 1902.5000 249.6800   \n",
       "2021-05-29 00:00:00+00:00      NaN 34616.0664       NaN       NaN      NaN   \n",
       "2021-05-30 00:00:00+00:00      NaN 35678.1289       NaN       NaN      NaN   \n",
       "\n",
       "Ticker                          ^DJI  \n",
       "Date                                  \n",
       "2014-10-01 00:00:00+00:00 16804.7109  \n",
       "2014-10-02 00:00:00+00:00 16801.0508  \n",
       "2014-10-03 00:00:00+00:00 17009.6895  \n",
       "2014-10-04 00:00:00+00:00        NaN  \n",
       "2014-10-05 00:00:00+00:00        NaN  \n",
       "...                              ...  \n",
       "2021-05-26 00:00:00+00:00 34323.0508  \n",
       "2021-05-27 00:00:00+00:00 34464.6406  \n",
       "2021-05-28 00:00:00+00:00 34529.4492  \n",
       "2021-05-29 00:00:00+00:00        NaN  \n",
       "2021-05-30 00:00:00+00:00        NaN  \n",
       "\n",
       "[2434 rows x 6 columns]"
      ]
     },
     "execution_count": 27,
     "metadata": {},
     "output_type": "execute_result"
    }
   ],
   "source": [
    "close = df.Close.copy() # select daily close prices only\n",
    "close"
   ]
  },
  {
   "cell_type": "code",
   "execution_count": 28,
   "id": "0c72b340",
   "metadata": {},
   "outputs": [
    {
     "data": {
      "text/html": [
       "<div>\n",
       "<style scoped>\n",
       "    .dataframe tbody tr th:only-of-type {\n",
       "        vertical-align: middle;\n",
       "    }\n",
       "\n",
       "    .dataframe tbody tr th {\n",
       "        vertical-align: top;\n",
       "    }\n",
       "\n",
       "    .dataframe thead th {\n",
       "        text-align: right;\n",
       "    }\n",
       "</style>\n",
       "<table border=\"1\" class=\"dataframe\">\n",
       "  <thead>\n",
       "    <tr style=\"text-align: right;\">\n",
       "      <th>Ticker</th>\n",
       "      <th>BA</th>\n",
       "      <th>BTC-USD</th>\n",
       "      <th>EURUSD=X</th>\n",
       "      <th>GC=F</th>\n",
       "      <th>MSFT</th>\n",
       "      <th>^DJI</th>\n",
       "    </tr>\n",
       "  </thead>\n",
       "  <tbody>\n",
       "    <tr>\n",
       "      <th>count</th>\n",
       "      <td>1677.0000</td>\n",
       "      <td>2434.0000</td>\n",
       "      <td>1735.0000</td>\n",
       "      <td>1674.0000</td>\n",
       "      <td>1677.0000</td>\n",
       "      <td>1677.0000</td>\n",
       "    </tr>\n",
       "    <tr>\n",
       "      <th>mean</th>\n",
       "      <td>228.7380</td>\n",
       "      <td>7613.8314</td>\n",
       "      <td>1.1406</td>\n",
       "      <td>1372.0145</td>\n",
       "      <td>106.3144</td>\n",
       "      <td>23004.3727</td>\n",
       "    </tr>\n",
       "    <tr>\n",
       "      <th>std</th>\n",
       "      <td>94.3742</td>\n",
       "      <td>11611.1824</td>\n",
       "      <td>0.0501</td>\n",
       "      <td>235.7154</td>\n",
       "      <td>60.7722</td>\n",
       "      <td>4659.9220</td>\n",
       "    </tr>\n",
       "    <tr>\n",
       "      <th>min</th>\n",
       "      <td>95.0100</td>\n",
       "      <td>178.1030</td>\n",
       "      <td>1.0390</td>\n",
       "      <td>1050.8000</td>\n",
       "      <td>40.2900</td>\n",
       "      <td>15660.1797</td>\n",
       "    </tr>\n",
       "    <tr>\n",
       "      <th>25%</th>\n",
       "      <td>143.3400</td>\n",
       "      <td>534.6280</td>\n",
       "      <td>1.1054</td>\n",
       "      <td>1216.5500</td>\n",
       "      <td>54.8300</td>\n",
       "      <td>18086.4004</td>\n",
       "    </tr>\n",
       "    <tr>\n",
       "      <th>50%</th>\n",
       "      <td>189.0800</td>\n",
       "      <td>4368.3750</td>\n",
       "      <td>1.1300</td>\n",
       "      <td>1283.1500</td>\n",
       "      <td>89.7100</td>\n",
       "      <td>23625.3398</td>\n",
       "    </tr>\n",
       "    <tr>\n",
       "      <th>75%</th>\n",
       "      <td>335.1600</td>\n",
       "      <td>9205.5750</td>\n",
       "      <td>1.1777</td>\n",
       "      <td>1482.3000</td>\n",
       "      <td>138.9000</td>\n",
       "      <td>26289.9805</td>\n",
       "    </tr>\n",
       "    <tr>\n",
       "      <th>max</th>\n",
       "      <td>440.6200</td>\n",
       "      <td>63503.4570</td>\n",
       "      <td>1.2822</td>\n",
       "      <td>2051.5000</td>\n",
       "      <td>261.9700</td>\n",
       "      <td>34777.7617</td>\n",
       "    </tr>\n",
       "  </tbody>\n",
       "</table>\n",
       "</div>"
      ],
      "text/plain": [
       "Ticker        BA    BTC-USD  EURUSD=X      GC=F      MSFT       ^DJI\n",
       "count  1677.0000  2434.0000 1735.0000 1674.0000 1677.0000  1677.0000\n",
       "mean    228.7380  7613.8314    1.1406 1372.0145  106.3144 23004.3727\n",
       "std      94.3742 11611.1824    0.0501  235.7154   60.7722  4659.9220\n",
       "min      95.0100   178.1030    1.0390 1050.8000   40.2900 15660.1797\n",
       "25%     143.3400   534.6280    1.1054 1216.5500   54.8300 18086.4004\n",
       "50%     189.0800  4368.3750    1.1300 1283.1500   89.7100 23625.3398\n",
       "75%     335.1600  9205.5750    1.1777 1482.3000  138.9000 26289.9805\n",
       "max     440.6200 63503.4570    1.2822 2051.5000  261.9700 34777.7617"
      ]
     },
     "execution_count": 28,
     "metadata": {},
     "output_type": "execute_result"
    }
   ],
   "source": [
    "close.describe()"
   ]
  },
  {
   "cell_type": "code",
   "execution_count": 29,
   "id": "410bb7bd",
   "metadata": {},
   "outputs": [
    {
     "data": {
      "image/png": "[encoded data removed]",
      "text/plain": [
       "<Figure size 1500x800 with 1 Axes>"
      ]
     },
     "metadata": {},
     "output_type": "display_data"
    }
   ],
   "source": [
    "close.BA.dropna().plot(figsize = (15, 8), fontsize = 13)\n",
    "plt.legend(fontsize = 13)\n",
    "plt.show()"
   ]
  },
  {
   "cell_type": "code",
   "execution_count": 30,
   "id": "c11adb44",
   "metadata": {},
   "outputs": [
    {
     "data": {
      "image/png": "[encoded data removed]",
      "text/plain": [
       "<Figure size 1500x800 with 1 Axes>"
      ]
     },
     "metadata": {},
     "output_type": "display_data"
    }
   ],
   "source": [
    "close.dropna().plot(figsize = (15, 8), fontsize = 13)\n",
    "plt.legend(fontsize = 13)\n",
    "plt.show()"
   ]
  },
  {
   "cell_type": "markdown",
   "id": "5b78b039",
   "metadata": {},
   "source": [
    "__Take Home: Absolute Prices are absolutely meaningless/useless (in most cases)__ <br>\n",
    "- Prices that are on a different scale are hard to compare \n",
    "- A higher Price does not imply a higher value or a better performance"
   ]
  },
  {
   "cell_type": "code",
   "execution_count": null,
   "id": "532d5c7d",
   "metadata": {},
   "outputs": [],
   "source": []
  },
  {
   "cell_type": "markdown",
   "id": "433adcfd",
   "metadata": {},
   "source": [
    "## Normalizing Financial Time Series to a Base Value (100)"
   ]
  },
  {
   "cell_type": "markdown",
   "id": "f3d37dc3",
   "metadata": {},
   "source": [
    "__-> all instruments start at the very same Level (Base Value)__"
   ]
  },
  {
   "cell_type": "code",
   "execution_count": 31,
   "id": "edafd894",
   "metadata": {},
   "outputs": [
    {
     "data": {
      "text/html": [
       "<div>\n",
       "<style scoped>\n",
       "    .dataframe tbody tr th:only-of-type {\n",
       "        vertical-align: middle;\n",
       "    }\n",
       "\n",
       "    .dataframe tbody tr th {\n",
       "        vertical-align: top;\n",
       "    }\n",
       "\n",
       "    .dataframe thead th {\n",
       "        text-align: right;\n",
       "    }\n",
       "</style>\n",
       "<table border=\"1\" class=\"dataframe\">\n",
       "  <thead>\n",
       "    <tr style=\"text-align: right;\">\n",
       "      <th>Ticker</th>\n",
       "      <th>BA</th>\n",
       "      <th>BTC-USD</th>\n",
       "      <th>EURUSD=X</th>\n",
       "      <th>GC=F</th>\n",
       "      <th>MSFT</th>\n",
       "      <th>^DJI</th>\n",
       "    </tr>\n",
       "    <tr>\n",
       "      <th>Date</th>\n",
       "      <th></th>\n",
       "      <th></th>\n",
       "      <th></th>\n",
       "      <th></th>\n",
       "      <th></th>\n",
       "      <th></th>\n",
       "    </tr>\n",
       "  </thead>\n",
       "  <tbody>\n",
       "    <tr>\n",
       "      <th>2014-10-01 00:00:00+00:00</th>\n",
       "      <td>124.6700</td>\n",
       "      <td>383.6150</td>\n",
       "      <td>1.2628</td>\n",
       "      <td>1214.6000</td>\n",
       "      <td>45.9000</td>\n",
       "      <td>16804.7109</td>\n",
       "    </tr>\n",
       "    <tr>\n",
       "      <th>2014-10-02 00:00:00+00:00</th>\n",
       "      <td>124.1700</td>\n",
       "      <td>375.0720</td>\n",
       "      <td>1.2624</td>\n",
       "      <td>1214.2000</td>\n",
       "      <td>45.7600</td>\n",
       "      <td>16801.0508</td>\n",
       "    </tr>\n",
       "    <tr>\n",
       "      <th>2014-10-03 00:00:00+00:00</th>\n",
       "      <td>126.3600</td>\n",
       "      <td>359.5120</td>\n",
       "      <td>1.2671</td>\n",
       "      <td>1192.2000</td>\n",
       "      <td>46.0900</td>\n",
       "      <td>17009.6895</td>\n",
       "    </tr>\n",
       "    <tr>\n",
       "      <th>2014-10-04 00:00:00+00:00</th>\n",
       "      <td>NaN</td>\n",
       "      <td>328.8660</td>\n",
       "      <td>NaN</td>\n",
       "      <td>NaN</td>\n",
       "      <td>NaN</td>\n",
       "      <td>NaN</td>\n",
       "    </tr>\n",
       "    <tr>\n",
       "      <th>2014-10-05 00:00:00+00:00</th>\n",
       "      <td>NaN</td>\n",
       "      <td>320.5100</td>\n",
       "      <td>NaN</td>\n",
       "      <td>NaN</td>\n",
       "      <td>NaN</td>\n",
       "      <td>NaN</td>\n",
       "    </tr>\n",
       "    <tr>\n",
       "      <th>...</th>\n",
       "      <td>...</td>\n",
       "      <td>...</td>\n",
       "      <td>...</td>\n",
       "      <td>...</td>\n",
       "      <td>...</td>\n",
       "      <td>...</td>\n",
       "    </tr>\n",
       "    <tr>\n",
       "      <th>2021-05-26 00:00:00+00:00</th>\n",
       "      <td>241.3700</td>\n",
       "      <td>39294.1992</td>\n",
       "      <td>1.2249</td>\n",
       "      <td>1901.3000</td>\n",
       "      <td>251.4900</td>\n",
       "      <td>34323.0508</td>\n",
       "    </tr>\n",
       "    <tr>\n",
       "      <th>2021-05-27 00:00:00+00:00</th>\n",
       "      <td>250.7000</td>\n",
       "      <td>38436.9688</td>\n",
       "      <td>1.2193</td>\n",
       "      <td>1895.7000</td>\n",
       "      <td>249.3100</td>\n",
       "      <td>34464.6406</td>\n",
       "    </tr>\n",
       "    <tr>\n",
       "      <th>2021-05-28 00:00:00+00:00</th>\n",
       "      <td>247.0200</td>\n",
       "      <td>35697.6055</td>\n",
       "      <td>1.2193</td>\n",
       "      <td>1902.5000</td>\n",
       "      <td>249.6800</td>\n",
       "      <td>34529.4492</td>\n",
       "    </tr>\n",
       "    <tr>\n",
       "      <th>2021-05-29 00:00:00+00:00</th>\n",
       "      <td>NaN</td>\n",
       "      <td>34616.0664</td>\n",
       "      <td>NaN</td>\n",
       "      <td>NaN</td>\n",
       "      <td>NaN</td>\n",
       "      <td>NaN</td>\n",
       "    </tr>\n",
       "    <tr>\n",
       "      <th>2021-05-30 00:00:00+00:00</th>\n",
       "      <td>NaN</td>\n",
       "      <td>35678.1289</td>\n",
       "      <td>NaN</td>\n",
       "      <td>NaN</td>\n",
       "      <td>NaN</td>\n",
       "      <td>NaN</td>\n",
       "    </tr>\n",
       "  </tbody>\n",
       "</table>\n",
       "<p>2434 rows × 6 columns</p>\n",
       "</div>"
      ],
      "text/plain": [
       "Ticker                          BA    BTC-USD  EURUSD=X      GC=F     MSFT  \\\n",
       "Date                                                                         \n",
       "2014-10-01 00:00:00+00:00 124.6700   383.6150    1.2628 1214.6000  45.9000   \n",
       "2014-10-02 00:00:00+00:00 124.1700   375.0720    1.2624 1214.2000  45.7600   \n",
       "2014-10-03 00:00:00+00:00 126.3600   359.5120    1.2671 1192.2000  46.0900   \n",
       "2014-10-04 00:00:00+00:00      NaN   328.8660       NaN       NaN      NaN   \n",
       "2014-10-05 00:00:00+00:00      NaN   320.5100       NaN       NaN      NaN   \n",
       "...                            ...        ...       ...       ...      ...   \n",
       "2021-05-26 00:00:00+00:00 241.3700 39294.1992    1.2249 1901.3000 251.4900   \n",
       "2021-05-27 00:00:00+00:00 250.7000 38436.9688    1.2193 1895.7000 249.3100   \n",
       "2021-05-28 00:00:00+00:00 247.0200 35697.6055    1.2193 1902.5000 249.6800   \n",
       "2021-05-29 00:00:00+00:00      NaN 34616.0664       NaN       NaN      NaN   \n",
       "2021-05-30 00:00:00+00:00      NaN 35678.1289       NaN       NaN      NaN   \n",
       "\n",
       "Ticker                          ^DJI  \n",
       "Date                                  \n",
       "2014-10-01 00:00:00+00:00 16804.7109  \n",
       "2014-10-02 00:00:00+00:00 16801.0508  \n",
       "2014-10-03 00:00:00+00:00 17009.6895  \n",
       "2014-10-04 00:00:00+00:00        NaN  \n",
       "2014-10-05 00:00:00+00:00        NaN  \n",
       "...                              ...  \n",
       "2021-05-26 00:00:00+00:00 34323.0508  \n",
       "2021-05-27 00:00:00+00:00 34464.6406  \n",
       "2021-05-28 00:00:00+00:00 34529.4492  \n",
       "2021-05-29 00:00:00+00:00        NaN  \n",
       "2021-05-30 00:00:00+00:00        NaN  \n",
       "\n",
       "[2434 rows x 6 columns]"
      ]
     },
     "execution_count": 31,
     "metadata": {},
     "output_type": "execute_result"
    }
   ],
   "source": [
    "close"
   ]
  },
  {
   "cell_type": "code",
   "execution_count": 32,
   "id": "537c5165",
   "metadata": {},
   "outputs": [
    {
     "data": {
      "text/plain": [
       "np.float64(124.66999816894533)"
      ]
     },
     "execution_count": 32,
     "metadata": {},
     "output_type": "execute_result"
    }
   ],
   "source": [
    "close.iloc[0,0] # first price BA"
   ]
  },
  {
   "cell_type": "code",
   "execution_count": 33,
   "id": "02fa70d9",
   "metadata": {
    "scrolled": true
   },
   "outputs": [
    {
     "data": {
      "text/plain": [
       "Date\n",
       "2014-10-01 00:00:00+00:00   100.0000\n",
       "2014-10-02 00:00:00+00:00    99.5989\n",
       "2014-10-03 00:00:00+00:00   101.3556\n",
       "2014-10-04 00:00:00+00:00        NaN\n",
       "2014-10-05 00:00:00+00:00        NaN\n",
       "                              ...   \n",
       "2021-05-26 00:00:00+00:00   193.6071\n",
       "2021-05-27 00:00:00+00:00   201.0909\n",
       "2021-05-28 00:00:00+00:00   198.1391\n",
       "2021-05-29 00:00:00+00:00        NaN\n",
       "2021-05-30 00:00:00+00:00        NaN\n",
       "Name: BA, Length: 2434, dtype: float64"
      ]
     },
     "execution_count": 33,
     "metadata": {},
     "output_type": "execute_result"
    }
   ],
   "source": [
    "close.BA.div(close.iloc[0,0]).mul(100)"
   ]
  },
  {
   "cell_type": "code",
   "execution_count": 34,
   "id": "22b0f5d9",
   "metadata": {
    "scrolled": true
   },
   "outputs": [
    {
     "data": {
      "text/plain": [
       "Ticker\n",
       "BA           124.6700\n",
       "BTC-USD      383.6150\n",
       "EURUSD=X       1.2628\n",
       "GC=F        1214.6000\n",
       "MSFT          45.9000\n",
       "^DJI       16804.7109\n",
       "Name: 2014-10-01 00:00:00+00:00, dtype: float64"
      ]
     },
     "execution_count": 34,
     "metadata": {},
     "output_type": "execute_result"
    }
   ],
   "source": [
    "close.iloc[0] # first Price all tickers"
   ]
  },
  {
   "cell_type": "code",
   "execution_count": 35,
   "id": "b7a3f3cf",
   "metadata": {},
   "outputs": [
    {
     "data": {
      "text/html": [
       "<div>\n",
       "<style scoped>\n",
       "    .dataframe tbody tr th:only-of-type {\n",
       "        vertical-align: middle;\n",
       "    }\n",
       "\n",
       "    .dataframe tbody tr th {\n",
       "        vertical-align: top;\n",
       "    }\n",
       "\n",
       "    .dataframe thead th {\n",
       "        text-align: right;\n",
       "    }\n",
       "</style>\n",
       "<table border=\"1\" class=\"dataframe\">\n",
       "  <thead>\n",
       "    <tr style=\"text-align: right;\">\n",
       "      <th>Ticker</th>\n",
       "      <th>BA</th>\n",
       "      <th>BTC-USD</th>\n",
       "      <th>EURUSD=X</th>\n",
       "      <th>GC=F</th>\n",
       "      <th>MSFT</th>\n",
       "      <th>^DJI</th>\n",
       "    </tr>\n",
       "    <tr>\n",
       "      <th>Date</th>\n",
       "      <th></th>\n",
       "      <th></th>\n",
       "      <th></th>\n",
       "      <th></th>\n",
       "      <th></th>\n",
       "      <th></th>\n",
       "    </tr>\n",
       "  </thead>\n",
       "  <tbody>\n",
       "    <tr>\n",
       "      <th>2014-10-01 00:00:00+00:00</th>\n",
       "      <td>100.0000</td>\n",
       "      <td>100.0000</td>\n",
       "      <td>100.0000</td>\n",
       "      <td>100.0000</td>\n",
       "      <td>100.0000</td>\n",
       "      <td>100.0000</td>\n",
       "    </tr>\n",
       "    <tr>\n",
       "      <th>2014-10-02 00:00:00+00:00</th>\n",
       "      <td>99.5989</td>\n",
       "      <td>97.7730</td>\n",
       "      <td>99.9672</td>\n",
       "      <td>99.9671</td>\n",
       "      <td>99.6950</td>\n",
       "      <td>99.9782</td>\n",
       "    </tr>\n",
       "    <tr>\n",
       "      <th>2014-10-03 00:00:00+00:00</th>\n",
       "      <td>101.3556</td>\n",
       "      <td>93.7169</td>\n",
       "      <td>100.3345</td>\n",
       "      <td>98.1558</td>\n",
       "      <td>100.4139</td>\n",
       "      <td>101.2198</td>\n",
       "    </tr>\n",
       "    <tr>\n",
       "      <th>2014-10-04 00:00:00+00:00</th>\n",
       "      <td>NaN</td>\n",
       "      <td>85.7281</td>\n",
       "      <td>NaN</td>\n",
       "      <td>NaN</td>\n",
       "      <td>NaN</td>\n",
       "      <td>NaN</td>\n",
       "    </tr>\n",
       "    <tr>\n",
       "      <th>2014-10-05 00:00:00+00:00</th>\n",
       "      <td>NaN</td>\n",
       "      <td>83.5499</td>\n",
       "      <td>NaN</td>\n",
       "      <td>NaN</td>\n",
       "      <td>NaN</td>\n",
       "      <td>NaN</td>\n",
       "    </tr>\n",
       "    <tr>\n",
       "      <th>...</th>\n",
       "      <td>...</td>\n",
       "      <td>...</td>\n",
       "      <td>...</td>\n",
       "      <td>...</td>\n",
       "      <td>...</td>\n",
       "      <td>...</td>\n",
       "    </tr>\n",
       "    <tr>\n",
       "      <th>2021-05-26 00:00:00+00:00</th>\n",
       "      <td>193.6071</td>\n",
       "      <td>10243.1344</td>\n",
       "      <td>96.9969</td>\n",
       "      <td>156.5371</td>\n",
       "      <td>547.9085</td>\n",
       "      <td>204.2466</td>\n",
       "    </tr>\n",
       "    <tr>\n",
       "      <th>2021-05-27 00:00:00+00:00</th>\n",
       "      <td>201.0909</td>\n",
       "      <td>10019.6733</td>\n",
       "      <td>96.5495</td>\n",
       "      <td>156.0761</td>\n",
       "      <td>543.1590</td>\n",
       "      <td>205.0892</td>\n",
       "    </tr>\n",
       "    <tr>\n",
       "      <th>2021-05-28 00:00:00+00:00</th>\n",
       "      <td>198.1391</td>\n",
       "      <td>9305.5815</td>\n",
       "      <td>96.5542</td>\n",
       "      <td>156.6359</td>\n",
       "      <td>543.9651</td>\n",
       "      <td>205.4748</td>\n",
       "    </tr>\n",
       "    <tr>\n",
       "      <th>2021-05-29 00:00:00+00:00</th>\n",
       "      <td>NaN</td>\n",
       "      <td>9023.6480</td>\n",
       "      <td>NaN</td>\n",
       "      <td>NaN</td>\n",
       "      <td>NaN</td>\n",
       "      <td>NaN</td>\n",
       "    </tr>\n",
       "    <tr>\n",
       "      <th>2021-05-30 00:00:00+00:00</th>\n",
       "      <td>NaN</td>\n",
       "      <td>9300.5044</td>\n",
       "      <td>NaN</td>\n",
       "      <td>NaN</td>\n",
       "      <td>NaN</td>\n",
       "      <td>NaN</td>\n",
       "    </tr>\n",
       "  </tbody>\n",
       "</table>\n",
       "<p>2434 rows × 6 columns</p>\n",
       "</div>"
      ],
      "text/plain": [
       "Ticker                          BA    BTC-USD  EURUSD=X     GC=F     MSFT  \\\n",
       "Date                                                                        \n",
       "2014-10-01 00:00:00+00:00 100.0000   100.0000  100.0000 100.0000 100.0000   \n",
       "2014-10-02 00:00:00+00:00  99.5989    97.7730   99.9672  99.9671  99.6950   \n",
       "2014-10-03 00:00:00+00:00 101.3556    93.7169  100.3345  98.1558 100.4139   \n",
       "2014-10-04 00:00:00+00:00      NaN    85.7281       NaN      NaN      NaN   \n",
       "2014-10-05 00:00:00+00:00      NaN    83.5499       NaN      NaN      NaN   \n",
       "...                            ...        ...       ...      ...      ...   \n",
       "2021-05-26 00:00:00+00:00 193.6071 10243.1344   96.9969 156.5371 547.9085   \n",
       "2021-05-27 00:00:00+00:00 201.0909 10019.6733   96.5495 156.0761 543.1590   \n",
       "2021-05-28 00:00:00+00:00 198.1391  9305.5815   96.5542 156.6359 543.9651   \n",
       "2021-05-29 00:00:00+00:00      NaN  9023.6480       NaN      NaN      NaN   \n",
       "2021-05-30 00:00:00+00:00      NaN  9300.5044       NaN      NaN      NaN   \n",
       "\n",
       "Ticker                        ^DJI  \n",
       "Date                                \n",
       "2014-10-01 00:00:00+00:00 100.0000  \n",
       "2014-10-02 00:00:00+00:00  99.9782  \n",
       "2014-10-03 00:00:00+00:00 101.2198  \n",
       "2014-10-04 00:00:00+00:00      NaN  \n",
       "2014-10-05 00:00:00+00:00      NaN  \n",
       "...                            ...  \n",
       "2021-05-26 00:00:00+00:00 204.2466  \n",
       "2021-05-27 00:00:00+00:00 205.0892  \n",
       "2021-05-28 00:00:00+00:00 205.4748  \n",
       "2021-05-29 00:00:00+00:00      NaN  \n",
       "2021-05-30 00:00:00+00:00      NaN  \n",
       "\n",
       "[2434 rows x 6 columns]"
      ]
     },
     "execution_count": 35,
     "metadata": {},
     "output_type": "execute_result"
    }
   ],
   "source": [
    "norm = close.div(close.iloc[0]).mul(100)\n",
    "norm"
   ]
  },
  {
   "cell_type": "code",
   "execution_count": 36,
   "id": "89ab020c",
   "metadata": {},
   "outputs": [
    {
     "data": {
      "image/png": "[encoded data removed]",
      "text/plain": [
       "<Figure size 1500x800 with 1 Axes>"
      ]
     },
     "metadata": {},
     "output_type": "display_data"
    }
   ],
   "source": [
    "norm.dropna().plot(figsize = (15, 8), fontsize = 13, logy = True)\n",
    "plt.legend(fontsize = 13)\n",
    "plt.show()"
   ]
  },
  {
   "cell_type": "markdown",
   "id": "9953498b",
   "metadata": {},
   "source": [
    "__Take Home: Normalized Prices help to compare Financial Instruments...<br>\n",
    "...but they are limited when it comes to measuring/comparing Performance in more detail.__"
   ]
  },
  {
   "cell_type": "code",
   "execution_count": 37,
   "id": "a7cdc3f4",
   "metadata": {},
   "outputs": [],
   "source": [
    "close.to_csv(\"close.csv\")"
   ]
  },
  {
   "cell_type": "code",
   "execution_count": null,
   "id": "b69ae6c0",
   "metadata": {},
   "outputs": [],
   "source": []
  },
  {
   "cell_type": "markdown",
   "id": "f8c9a562",
   "metadata": {},
   "source": [
    "---------------------------------------------"
   ]
  },
  {
   "cell_type": "markdown",
   "id": "84a9cdf4",
   "metadata": {},
   "source": [
    "__Coding Challenge #1__"
   ]
  },
  {
   "cell_type": "markdown",
   "id": "e46d6426",
   "metadata": {},
   "source": [
    "1. Load Stock Price Data for General Electric (GE) and another ticker symbol of your choice from 2015-01-02 until 2020-12-31.<br>\n",
    "Go to https://finance.yahoo.com/ and get the right ticker symbol. For instruments traded outside the US, you have to add a country/exchange suffix. <br>\n",
    "Check the suffix list here https://help.yahoo.com/kb/exchanges-data-providers-yahoo-finance-sln2310.html As an example, the suffix for the National Indian Stock Exchange is .NS -> Ticker Symbol for Reliance is Reliance.NS"
   ]
  },
  {
   "cell_type": "markdown",
   "id": "b6ff1425",
   "metadata": {},
   "source": [
    "2. Select Close prices only and create a price chart for GE."
   ]
  },
  {
   "cell_type": "markdown",
   "id": "34f50372",
   "metadata": {},
   "source": [
    "3. Normalize the stock prices for GE and the Ticker Symbol of your choice (Base Value: 1) and visualize! What´s the final normalized price for GE on 2020-12-30? "
   ]
  },
  {
   "cell_type": "markdown",
   "id": "359e6edd",
   "metadata": {},
   "source": [
    "_You can find the solution for the Coding Challenges at the end of this notebook_."
   ]
  },
  {
   "cell_type": "markdown",
   "id": "15712b3e",
   "metadata": {},
   "source": [
    "-----------------------------------------------------"
   ]
  },
  {
   "cell_type": "code",
   "execution_count": 38,
   "id": "a6e46e0b",
   "metadata": {},
   "outputs": [],
   "source": [
    "import pandas as pd\n",
    "import yfinance as yf\n",
    "import matplotlib.pyplot as plt\n",
    "pd.options.display.float_format = '{:.4f}'.format"
   ]
  },
  {
   "cell_type": "code",
   "execution_count": 39,
   "id": "8ea374e6-e42f-4c0f-b45a-f73ffd9a9096",
   "metadata": {},
   "outputs": [],
   "source": [
    "start = \"2014-10-01\"\n",
    "end = \"2021-05-31\""
   ]
  },
  {
   "cell_type": "code",
   "execution_count": 40,
   "id": "2054ff2a-df03-49a5-9037-fc4859b6577c",
   "metadata": {},
   "outputs": [],
   "source": [
    "symbol=\"GE\""
   ]
  },
  {
   "cell_type": "code",
   "execution_count": 41,
   "id": "15ae5c20-3472-4282-a769-4aab44cb9e8d",
   "metadata": {},
   "outputs": [
    {
     "name": "stderr",
     "output_type": "stream",
     "text": [
      "[*********************100%***********************]  1 of 1 completed\n"
     ]
    },
    {
     "data": {
      "text/html": [
       "<div>\n",
       "<style scoped>\n",
       "    .dataframe tbody tr th:only-of-type {\n",
       "        vertical-align: middle;\n",
       "    }\n",
       "\n",
       "    .dataframe tbody tr th {\n",
       "        vertical-align: top;\n",
       "    }\n",
       "\n",
       "    .dataframe thead th {\n",
       "        text-align: right;\n",
       "    }\n",
       "</style>\n",
       "<table border=\"1\" class=\"dataframe\">\n",
       "  <thead>\n",
       "    <tr style=\"text-align: right;\">\n",
       "      <th></th>\n",
       "      <th>Open</th>\n",
       "      <th>High</th>\n",
       "      <th>Low</th>\n",
       "      <th>Close</th>\n",
       "      <th>Adj Close</th>\n",
       "      <th>Volume</th>\n",
       "    </tr>\n",
       "    <tr>\n",
       "      <th>Date</th>\n",
       "      <th></th>\n",
       "      <th></th>\n",
       "      <th></th>\n",
       "      <th></th>\n",
       "      <th></th>\n",
       "      <th></th>\n",
       "    </tr>\n",
       "  </thead>\n",
       "  <tbody>\n",
       "    <tr>\n",
       "      <th>2014-10-01</th>\n",
       "      <td>121.8717</td>\n",
       "      <td>122.0634</td>\n",
       "      <td>120.1943</td>\n",
       "      <td>120.5777</td>\n",
       "      <td>102.9295</td>\n",
       "      <td>8780751</td>\n",
       "    </tr>\n",
       "    <tr>\n",
       "      <th>2014-10-02</th>\n",
       "      <td>120.7215</td>\n",
       "      <td>121.0090</td>\n",
       "      <td>119.8589</td>\n",
       "      <td>120.3860</td>\n",
       "      <td>102.7658</td>\n",
       "      <td>5946682</td>\n",
       "    </tr>\n",
       "    <tr>\n",
       "      <th>2014-10-03</th>\n",
       "      <td>121.2007</td>\n",
       "      <td>121.8717</td>\n",
       "      <td>120.5298</td>\n",
       "      <td>121.7279</td>\n",
       "      <td>103.9113</td>\n",
       "      <td>4519224</td>\n",
       "    </tr>\n",
       "    <tr>\n",
       "      <th>2014-10-06</th>\n",
       "      <td>122.6864</td>\n",
       "      <td>122.8302</td>\n",
       "      <td>120.1464</td>\n",
       "      <td>120.8653</td>\n",
       "      <td>103.1749</td>\n",
       "      <td>6362650</td>\n",
       "    </tr>\n",
       "    <tr>\n",
       "      <th>2014-10-07</th>\n",
       "      <td>120.2902</td>\n",
       "      <td>120.7215</td>\n",
       "      <td>118.8524</td>\n",
       "      <td>118.9004</td>\n",
       "      <td>101.4976</td>\n",
       "      <td>6674099</td>\n",
       "    </tr>\n",
       "    <tr>\n",
       "      <th>...</th>\n",
       "      <td>...</td>\n",
       "      <td>...</td>\n",
       "      <td>...</td>\n",
       "      <td>...</td>\n",
       "      <td>...</td>\n",
       "      <td>...</td>\n",
       "    </tr>\n",
       "    <tr>\n",
       "      <th>2021-05-24</th>\n",
       "      <td>66.2392</td>\n",
       "      <td>66.3388</td>\n",
       "      <td>65.3919</td>\n",
       "      <td>65.6909</td>\n",
       "      <td>64.8300</td>\n",
       "      <td>7827397</td>\n",
       "    </tr>\n",
       "    <tr>\n",
       "      <th>2021-05-25</th>\n",
       "      <td>65.7906</td>\n",
       "      <td>66.2392</td>\n",
       "      <td>65.2922</td>\n",
       "      <td>65.3919</td>\n",
       "      <td>64.5349</td>\n",
       "      <td>9496071</td>\n",
       "    </tr>\n",
       "    <tr>\n",
       "      <th>2021-05-26</th>\n",
       "      <td>65.3919</td>\n",
       "      <td>66.9369</td>\n",
       "      <td>64.9931</td>\n",
       "      <td>66.7874</td>\n",
       "      <td>65.9122</td>\n",
       "      <td>12092309</td>\n",
       "    </tr>\n",
       "    <tr>\n",
       "      <th>2021-05-27</th>\n",
       "      <td>67.7842</td>\n",
       "      <td>71.7715</td>\n",
       "      <td>67.7344</td>\n",
       "      <td>71.5223</td>\n",
       "      <td>70.5850</td>\n",
       "      <td>37035234</td>\n",
       "    </tr>\n",
       "    <tr>\n",
       "      <th>2021-05-28</th>\n",
       "      <td>71.2233</td>\n",
       "      <td>71.4725</td>\n",
       "      <td>69.9274</td>\n",
       "      <td>70.0769</td>\n",
       "      <td>69.1586</td>\n",
       "      <td>14560581</td>\n",
       "    </tr>\n",
       "  </tbody>\n",
       "</table>\n",
       "<p>1677 rows × 6 columns</p>\n",
       "</div>"
      ],
      "text/plain": [
       "               Open     High      Low    Close  Adj Close    Volume\n",
       "Date                                                               \n",
       "2014-10-01 121.8717 122.0634 120.1943 120.5777   102.9295   8780751\n",
       "2014-10-02 120.7215 121.0090 119.8589 120.3860   102.7658   5946682\n",
       "2014-10-03 121.2007 121.8717 120.5298 121.7279   103.9113   4519224\n",
       "2014-10-06 122.6864 122.8302 120.1464 120.8653   103.1749   6362650\n",
       "2014-10-07 120.2902 120.7215 118.8524 118.9004   101.4976   6674099\n",
       "...             ...      ...      ...      ...        ...       ...\n",
       "2021-05-24  66.2392  66.3388  65.3919  65.6909    64.8300   7827397\n",
       "2021-05-25  65.7906  66.2392  65.2922  65.3919    64.5349   9496071\n",
       "2021-05-26  65.3919  66.9369  64.9931  66.7874    65.9122  12092309\n",
       "2021-05-27  67.7842  71.7715  67.7344  71.5223    70.5850  37035234\n",
       "2021-05-28  71.2233  71.4725  69.9274  70.0769    69.1586  14560581\n",
       "\n",
       "[1677 rows x 6 columns]"
      ]
     },
     "execution_count": 41,
     "metadata": {},
     "output_type": "execute_result"
    }
   ],
   "source": [
    "df = yf.download(symbol, start, end)\n",
    "df"
   ]
  },
  {
   "cell_type": "code",
   "execution_count": 42,
   "id": "a68cd581-8c03-4347-ab1e-7c965063c260",
   "metadata": {},
   "outputs": [
    {
     "data": {
      "text/plain": [
       "Date\n",
       "2014-10-01   120.5777\n",
       "2014-10-02   120.3860\n",
       "2014-10-03   121.7279\n",
       "2014-10-06   120.8653\n",
       "2014-10-07   118.9004\n",
       "               ...   \n",
       "2021-05-24    65.6909\n",
       "2021-05-25    65.3919\n",
       "2021-05-26    66.7874\n",
       "2021-05-27    71.5223\n",
       "2021-05-28    70.0769\n",
       "Name: Close, Length: 1677, dtype: float64"
      ]
     },
     "execution_count": 42,
     "metadata": {},
     "output_type": "execute_result"
    }
   ],
   "source": [
    "close = df.Close.copy() # select daily close prices only\n",
    "close"
   ]
  },
  {
   "cell_type": "code",
   "execution_count": 43,
   "id": "ebd239c7-d0d7-42d4-9d89-8285c8d2cdb0",
   "metadata": {},
   "outputs": [
    {
     "data": {
      "image/png": "[encoded data removed]",
      "text/plain": [
       "<Figure size 1500x800 with 1 Axes>"
      ]
     },
     "metadata": {},
     "output_type": "display_data"
    }
   ],
   "source": [
    "close.dropna().plot(figsize = (15, 8), fontsize = 13)\n",
    "plt.legend(fontsize = 13)\n",
    "plt.show()"
   ]
  },
  {
   "cell_type": "code",
   "execution_count": 44,
   "id": "5d710235-3328-4e43-83de-9ff267d5384d",
   "metadata": {},
   "outputs": [
    {
     "data": {
      "text/plain": [
       "np.float64(120.57772064208984)"
      ]
     },
     "execution_count": 44,
     "metadata": {},
     "output_type": "execute_result"
    }
   ],
   "source": [
    "close.iloc[0] # first price GE"
   ]
  },
  {
   "cell_type": "code",
   "execution_count": 45,
   "id": "cd93555a-3898-4ccc-a141-6febc6f3b98b",
   "metadata": {},
   "outputs": [
    {
     "data": {
      "text/plain": [
       "Date\n",
       "2014-10-01   100.0000\n",
       "2014-10-02    99.8410\n",
       "2014-10-03   100.9539\n",
       "2014-10-06   100.2385\n",
       "2014-10-07    98.6089\n",
       "               ...   \n",
       "2021-05-24    54.4801\n",
       "2021-05-25    54.2321\n",
       "2021-05-26    55.3895\n",
       "2021-05-27    59.3164\n",
       "2021-05-28    58.1176\n",
       "Name: Close, Length: 1677, dtype: float64"
      ]
     },
     "execution_count": 45,
     "metadata": {},
     "output_type": "execute_result"
    }
   ],
   "source": [
    "norm = close.div(close.iloc[0]).mul(100)\n",
    "norm"
   ]
  },
  {
   "cell_type": "code",
   "execution_count": 46,
   "id": "2c8d1b92-f756-4354-ad53-96dd9ed25448",
   "metadata": {},
   "outputs": [
    {
     "data": {
      "image/png": "[encoded data removed]",
      "text/plain": [
       "<Figure size 1500x800 with 1 Axes>"
      ]
     },
     "metadata": {},
     "output_type": "display_data"
    }
   ],
   "source": [
    "norm.dropna().plot(figsize = (15, 8), fontsize = 13, logy = True)\n",
    "plt.legend(fontsize = 13)\n",
    "plt.show()"
   ]
  },
  {
   "cell_type": "markdown",
   "id": "36bbf662",
   "metadata": {},
   "source": [
    "## Price Changes and Financial Returns"
   ]
  },
  {
   "cell_type": "markdown",
   "id": "75be1d29",
   "metadata": {},
   "source": [
    "__More meaningful/useful than Prices: Price changes__"
   ]
  },
  {
   "cell_type": "code",
   "execution_count": 47,
   "id": "c2fa1dbc",
   "metadata": {},
   "outputs": [],
   "source": [
    "import pandas as pd\n",
    "import matplotlib.pyplot as plt\n",
    "pd.options.display.float_format = '{:.4f}'.format\n",
    "#plt.style.use(\"seaborn-v0_8\")"
   ]
  },
  {
   "cell_type": "code",
   "execution_count": 48,
   "id": "9d3224ef",
   "metadata": {},
   "outputs": [
    {
     "data": {
      "text/html": [
       "<div>\n",
       "<style scoped>\n",
       "    .dataframe tbody tr th:only-of-type {\n",
       "        vertical-align: middle;\n",
       "    }\n",
       "\n",
       "    .dataframe tbody tr th {\n",
       "        vertical-align: top;\n",
       "    }\n",
       "\n",
       "    .dataframe thead th {\n",
       "        text-align: right;\n",
       "    }\n",
       "</style>\n",
       "<table border=\"1\" class=\"dataframe\">\n",
       "  <thead>\n",
       "    <tr style=\"text-align: right;\">\n",
       "      <th></th>\n",
       "      <th>BA</th>\n",
       "      <th>BTC-USD</th>\n",
       "      <th>EURUSD=X</th>\n",
       "      <th>GC=F</th>\n",
       "      <th>MSFT</th>\n",
       "      <th>^DJI</th>\n",
       "    </tr>\n",
       "    <tr>\n",
       "      <th>Date</th>\n",
       "      <th></th>\n",
       "      <th></th>\n",
       "      <th></th>\n",
       "      <th></th>\n",
       "      <th></th>\n",
       "      <th></th>\n",
       "    </tr>\n",
       "  </thead>\n",
       "  <tbody>\n",
       "    <tr>\n",
       "      <th>2014-10-01 00:00:00+00:00</th>\n",
       "      <td>124.6700</td>\n",
       "      <td>383.6150</td>\n",
       "      <td>1.2628</td>\n",
       "      <td>1214.6000</td>\n",
       "      <td>45.9000</td>\n",
       "      <td>16804.7109</td>\n",
       "    </tr>\n",
       "    <tr>\n",
       "      <th>2014-10-02 00:00:00+00:00</th>\n",
       "      <td>124.1700</td>\n",
       "      <td>375.0720</td>\n",
       "      <td>1.2624</td>\n",
       "      <td>1214.2000</td>\n",
       "      <td>45.7600</td>\n",
       "      <td>16801.0508</td>\n",
       "    </tr>\n",
       "    <tr>\n",
       "      <th>2014-10-03 00:00:00+00:00</th>\n",
       "      <td>126.3600</td>\n",
       "      <td>359.5120</td>\n",
       "      <td>1.2671</td>\n",
       "      <td>1192.2000</td>\n",
       "      <td>46.0900</td>\n",
       "      <td>17009.6895</td>\n",
       "    </tr>\n",
       "    <tr>\n",
       "      <th>2014-10-04 00:00:00+00:00</th>\n",
       "      <td>NaN</td>\n",
       "      <td>328.8660</td>\n",
       "      <td>NaN</td>\n",
       "      <td>NaN</td>\n",
       "      <td>NaN</td>\n",
       "      <td>NaN</td>\n",
       "    </tr>\n",
       "    <tr>\n",
       "      <th>2014-10-05 00:00:00+00:00</th>\n",
       "      <td>NaN</td>\n",
       "      <td>320.5100</td>\n",
       "      <td>NaN</td>\n",
       "      <td>NaN</td>\n",
       "      <td>NaN</td>\n",
       "      <td>NaN</td>\n",
       "    </tr>\n",
       "    <tr>\n",
       "      <th>...</th>\n",
       "      <td>...</td>\n",
       "      <td>...</td>\n",
       "      <td>...</td>\n",
       "      <td>...</td>\n",
       "      <td>...</td>\n",
       "      <td>...</td>\n",
       "    </tr>\n",
       "    <tr>\n",
       "      <th>2021-05-26 00:00:00+00:00</th>\n",
       "      <td>241.3700</td>\n",
       "      <td>39294.1992</td>\n",
       "      <td>1.2249</td>\n",
       "      <td>1901.3000</td>\n",
       "      <td>251.4900</td>\n",
       "      <td>34323.0508</td>\n",
       "    </tr>\n",
       "    <tr>\n",
       "      <th>2021-05-27 00:00:00+00:00</th>\n",
       "      <td>250.7000</td>\n",
       "      <td>38436.9688</td>\n",
       "      <td>1.2193</td>\n",
       "      <td>1895.7000</td>\n",
       "      <td>249.3100</td>\n",
       "      <td>34464.6406</td>\n",
       "    </tr>\n",
       "    <tr>\n",
       "      <th>2021-05-28 00:00:00+00:00</th>\n",
       "      <td>247.0200</td>\n",
       "      <td>35697.6055</td>\n",
       "      <td>1.2193</td>\n",
       "      <td>1902.5000</td>\n",
       "      <td>249.6800</td>\n",
       "      <td>34529.4492</td>\n",
       "    </tr>\n",
       "    <tr>\n",
       "      <th>2021-05-29 00:00:00+00:00</th>\n",
       "      <td>NaN</td>\n",
       "      <td>34616.0664</td>\n",
       "      <td>NaN</td>\n",
       "      <td>NaN</td>\n",
       "      <td>NaN</td>\n",
       "      <td>NaN</td>\n",
       "    </tr>\n",
       "    <tr>\n",
       "      <th>2021-05-30 00:00:00+00:00</th>\n",
       "      <td>NaN</td>\n",
       "      <td>35678.1289</td>\n",
       "      <td>NaN</td>\n",
       "      <td>NaN</td>\n",
       "      <td>NaN</td>\n",
       "      <td>NaN</td>\n",
       "    </tr>\n",
       "  </tbody>\n",
       "</table>\n",
       "<p>2434 rows × 6 columns</p>\n",
       "</div>"
      ],
      "text/plain": [
       "                                BA    BTC-USD  EURUSD=X      GC=F     MSFT  \\\n",
       "Date                                                                         \n",
       "2014-10-01 00:00:00+00:00 124.6700   383.6150    1.2628 1214.6000  45.9000   \n",
       "2014-10-02 00:00:00+00:00 124.1700   375.0720    1.2624 1214.2000  45.7600   \n",
       "2014-10-03 00:00:00+00:00 126.3600   359.5120    1.2671 1192.2000  46.0900   \n",
       "2014-10-04 00:00:00+00:00      NaN   328.8660       NaN       NaN      NaN   \n",
       "2014-10-05 00:00:00+00:00      NaN   320.5100       NaN       NaN      NaN   \n",
       "...                            ...        ...       ...       ...      ...   \n",
       "2021-05-26 00:00:00+00:00 241.3700 39294.1992    1.2249 1901.3000 251.4900   \n",
       "2021-05-27 00:00:00+00:00 250.7000 38436.9688    1.2193 1895.7000 249.3100   \n",
       "2021-05-28 00:00:00+00:00 247.0200 35697.6055    1.2193 1902.5000 249.6800   \n",
       "2021-05-29 00:00:00+00:00      NaN 34616.0664       NaN       NaN      NaN   \n",
       "2021-05-30 00:00:00+00:00      NaN 35678.1289       NaN       NaN      NaN   \n",
       "\n",
       "                                ^DJI  \n",
       "Date                                  \n",
       "2014-10-01 00:00:00+00:00 16804.7109  \n",
       "2014-10-02 00:00:00+00:00 16801.0508  \n",
       "2014-10-03 00:00:00+00:00 17009.6895  \n",
       "2014-10-04 00:00:00+00:00        NaN  \n",
       "2014-10-05 00:00:00+00:00        NaN  \n",
       "...                              ...  \n",
       "2021-05-26 00:00:00+00:00 34323.0508  \n",
       "2021-05-27 00:00:00+00:00 34464.6406  \n",
       "2021-05-28 00:00:00+00:00 34529.4492  \n",
       "2021-05-29 00:00:00+00:00        NaN  \n",
       "2021-05-30 00:00:00+00:00        NaN  \n",
       "\n",
       "[2434 rows x 6 columns]"
      ]
     },
     "execution_count": 48,
     "metadata": {},
     "output_type": "execute_result"
    }
   ],
   "source": [
    "close = pd.read_csv(\"close.csv\", index_col = \"Date\", parse_dates = [\"Date\"])\n",
    "close"
   ]
  },
  {
   "cell_type": "code",
   "execution_count": 49,
   "id": "88a0cab0",
   "metadata": {},
   "outputs": [],
   "source": [
    "msft = close.MSFT.dropna().to_frame().copy()"
   ]
  },
  {
   "cell_type": "code",
   "execution_count": 50,
   "id": "21a0d0ee",
   "metadata": {},
   "outputs": [
    {
     "data": {
      "text/html": [
       "<div>\n",
       "<style scoped>\n",
       "    .dataframe tbody tr th:only-of-type {\n",
       "        vertical-align: middle;\n",
       "    }\n",
       "\n",
       "    .dataframe tbody tr th {\n",
       "        vertical-align: top;\n",
       "    }\n",
       "\n",
       "    .dataframe thead th {\n",
       "        text-align: right;\n",
       "    }\n",
       "</style>\n",
       "<table border=\"1\" class=\"dataframe\">\n",
       "  <thead>\n",
       "    <tr style=\"text-align: right;\">\n",
       "      <th></th>\n",
       "      <th>MSFT</th>\n",
       "    </tr>\n",
       "    <tr>\n",
       "      <th>Date</th>\n",
       "      <th></th>\n",
       "    </tr>\n",
       "  </thead>\n",
       "  <tbody>\n",
       "    <tr>\n",
       "      <th>2014-10-01 00:00:00+00:00</th>\n",
       "      <td>45.9000</td>\n",
       "    </tr>\n",
       "    <tr>\n",
       "      <th>2014-10-02 00:00:00+00:00</th>\n",
       "      <td>45.7600</td>\n",
       "    </tr>\n",
       "    <tr>\n",
       "      <th>2014-10-03 00:00:00+00:00</th>\n",
       "      <td>46.0900</td>\n",
       "    </tr>\n",
       "    <tr>\n",
       "      <th>2014-10-06 00:00:00+00:00</th>\n",
       "      <td>46.0900</td>\n",
       "    </tr>\n",
       "    <tr>\n",
       "      <th>2014-10-07 00:00:00+00:00</th>\n",
       "      <td>45.5300</td>\n",
       "    </tr>\n",
       "    <tr>\n",
       "      <th>...</th>\n",
       "      <td>...</td>\n",
       "    </tr>\n",
       "    <tr>\n",
       "      <th>2021-05-24 00:00:00+00:00</th>\n",
       "      <td>250.7800</td>\n",
       "    </tr>\n",
       "    <tr>\n",
       "      <th>2021-05-25 00:00:00+00:00</th>\n",
       "      <td>251.7200</td>\n",
       "    </tr>\n",
       "    <tr>\n",
       "      <th>2021-05-26 00:00:00+00:00</th>\n",
       "      <td>251.4900</td>\n",
       "    </tr>\n",
       "    <tr>\n",
       "      <th>2021-05-27 00:00:00+00:00</th>\n",
       "      <td>249.3100</td>\n",
       "    </tr>\n",
       "    <tr>\n",
       "      <th>2021-05-28 00:00:00+00:00</th>\n",
       "      <td>249.6800</td>\n",
       "    </tr>\n",
       "  </tbody>\n",
       "</table>\n",
       "<p>1677 rows × 1 columns</p>\n",
       "</div>"
      ],
      "text/plain": [
       "                              MSFT\n",
       "Date                              \n",
       "2014-10-01 00:00:00+00:00  45.9000\n",
       "2014-10-02 00:00:00+00:00  45.7600\n",
       "2014-10-03 00:00:00+00:00  46.0900\n",
       "2014-10-06 00:00:00+00:00  46.0900\n",
       "2014-10-07 00:00:00+00:00  45.5300\n",
       "...                            ...\n",
       "2021-05-24 00:00:00+00:00 250.7800\n",
       "2021-05-25 00:00:00+00:00 251.7200\n",
       "2021-05-26 00:00:00+00:00 251.4900\n",
       "2021-05-27 00:00:00+00:00 249.3100\n",
       "2021-05-28 00:00:00+00:00 249.6800\n",
       "\n",
       "[1677 rows x 1 columns]"
      ]
     },
     "execution_count": 50,
     "metadata": {},
     "output_type": "execute_result"
    }
   ],
   "source": [
    "msft"
   ]
  },
  {
   "cell_type": "code",
   "execution_count": 51,
   "id": "7a445860",
   "metadata": {},
   "outputs": [],
   "source": [
    "msft.rename(columns = {\"MSFT\":\"Price\"}, inplace = True)"
   ]
  },
  {
   "cell_type": "code",
   "execution_count": 52,
   "id": "1616df16",
   "metadata": {},
   "outputs": [
    {
     "data": {
      "text/html": [
       "<div>\n",
       "<style scoped>\n",
       "    .dataframe tbody tr th:only-of-type {\n",
       "        vertical-align: middle;\n",
       "    }\n",
       "\n",
       "    .dataframe tbody tr th {\n",
       "        vertical-align: top;\n",
       "    }\n",
       "\n",
       "    .dataframe thead th {\n",
       "        text-align: right;\n",
       "    }\n",
       "</style>\n",
       "<table border=\"1\" class=\"dataframe\">\n",
       "  <thead>\n",
       "    <tr style=\"text-align: right;\">\n",
       "      <th></th>\n",
       "      <th>Price</th>\n",
       "    </tr>\n",
       "    <tr>\n",
       "      <th>Date</th>\n",
       "      <th></th>\n",
       "    </tr>\n",
       "  </thead>\n",
       "  <tbody>\n",
       "    <tr>\n",
       "      <th>2014-10-01 00:00:00+00:00</th>\n",
       "      <td>45.9000</td>\n",
       "    </tr>\n",
       "    <tr>\n",
       "      <th>2014-10-02 00:00:00+00:00</th>\n",
       "      <td>45.7600</td>\n",
       "    </tr>\n",
       "    <tr>\n",
       "      <th>2014-10-03 00:00:00+00:00</th>\n",
       "      <td>46.0900</td>\n",
       "    </tr>\n",
       "    <tr>\n",
       "      <th>2014-10-06 00:00:00+00:00</th>\n",
       "      <td>46.0900</td>\n",
       "    </tr>\n",
       "    <tr>\n",
       "      <th>2014-10-07 00:00:00+00:00</th>\n",
       "      <td>45.5300</td>\n",
       "    </tr>\n",
       "    <tr>\n",
       "      <th>...</th>\n",
       "      <td>...</td>\n",
       "    </tr>\n",
       "    <tr>\n",
       "      <th>2021-05-24 00:00:00+00:00</th>\n",
       "      <td>250.7800</td>\n",
       "    </tr>\n",
       "    <tr>\n",
       "      <th>2021-05-25 00:00:00+00:00</th>\n",
       "      <td>251.7200</td>\n",
       "    </tr>\n",
       "    <tr>\n",
       "      <th>2021-05-26 00:00:00+00:00</th>\n",
       "      <td>251.4900</td>\n",
       "    </tr>\n",
       "    <tr>\n",
       "      <th>2021-05-27 00:00:00+00:00</th>\n",
       "      <td>249.3100</td>\n",
       "    </tr>\n",
       "    <tr>\n",
       "      <th>2021-05-28 00:00:00+00:00</th>\n",
       "      <td>249.6800</td>\n",
       "    </tr>\n",
       "  </tbody>\n",
       "</table>\n",
       "<p>1677 rows × 1 columns</p>\n",
       "</div>"
      ],
      "text/plain": [
       "                             Price\n",
       "Date                              \n",
       "2014-10-01 00:00:00+00:00  45.9000\n",
       "2014-10-02 00:00:00+00:00  45.7600\n",
       "2014-10-03 00:00:00+00:00  46.0900\n",
       "2014-10-06 00:00:00+00:00  46.0900\n",
       "2014-10-07 00:00:00+00:00  45.5300\n",
       "...                            ...\n",
       "2021-05-24 00:00:00+00:00 250.7800\n",
       "2021-05-25 00:00:00+00:00 251.7200\n",
       "2021-05-26 00:00:00+00:00 251.4900\n",
       "2021-05-27 00:00:00+00:00 249.3100\n",
       "2021-05-28 00:00:00+00:00 249.6800\n",
       "\n",
       "[1677 rows x 1 columns]"
      ]
     },
     "execution_count": 52,
     "metadata": {},
     "output_type": "execute_result"
    }
   ],
   "source": [
    "msft"
   ]
  },
  {
   "cell_type": "code",
   "execution_count": 53,
   "id": "4ac2d1d6",
   "metadata": {},
   "outputs": [
    {
     "data": {
      "text/html": [
       "<div>\n",
       "<style scoped>\n",
       "    .dataframe tbody tr th:only-of-type {\n",
       "        vertical-align: middle;\n",
       "    }\n",
       "\n",
       "    .dataframe tbody tr th {\n",
       "        vertical-align: top;\n",
       "    }\n",
       "\n",
       "    .dataframe thead th {\n",
       "        text-align: right;\n",
       "    }\n",
       "</style>\n",
       "<table border=\"1\" class=\"dataframe\">\n",
       "  <thead>\n",
       "    <tr style=\"text-align: right;\">\n",
       "      <th></th>\n",
       "      <th>Price</th>\n",
       "    </tr>\n",
       "    <tr>\n",
       "      <th>Date</th>\n",
       "      <th></th>\n",
       "    </tr>\n",
       "  </thead>\n",
       "  <tbody>\n",
       "    <tr>\n",
       "      <th>2014-10-01 00:00:00+00:00</th>\n",
       "      <td>NaN</td>\n",
       "    </tr>\n",
       "    <tr>\n",
       "      <th>2014-10-02 00:00:00+00:00</th>\n",
       "      <td>45.9000</td>\n",
       "    </tr>\n",
       "    <tr>\n",
       "      <th>2014-10-03 00:00:00+00:00</th>\n",
       "      <td>45.7600</td>\n",
       "    </tr>\n",
       "    <tr>\n",
       "      <th>2014-10-06 00:00:00+00:00</th>\n",
       "      <td>46.0900</td>\n",
       "    </tr>\n",
       "    <tr>\n",
       "      <th>2014-10-07 00:00:00+00:00</th>\n",
       "      <td>46.0900</td>\n",
       "    </tr>\n",
       "    <tr>\n",
       "      <th>...</th>\n",
       "      <td>...</td>\n",
       "    </tr>\n",
       "    <tr>\n",
       "      <th>2021-05-24 00:00:00+00:00</th>\n",
       "      <td>245.1700</td>\n",
       "    </tr>\n",
       "    <tr>\n",
       "      <th>2021-05-25 00:00:00+00:00</th>\n",
       "      <td>250.7800</td>\n",
       "    </tr>\n",
       "    <tr>\n",
       "      <th>2021-05-26 00:00:00+00:00</th>\n",
       "      <td>251.7200</td>\n",
       "    </tr>\n",
       "    <tr>\n",
       "      <th>2021-05-27 00:00:00+00:00</th>\n",
       "      <td>251.4900</td>\n",
       "    </tr>\n",
       "    <tr>\n",
       "      <th>2021-05-28 00:00:00+00:00</th>\n",
       "      <td>249.3100</td>\n",
       "    </tr>\n",
       "  </tbody>\n",
       "</table>\n",
       "<p>1677 rows × 1 columns</p>\n",
       "</div>"
      ],
      "text/plain": [
       "                             Price\n",
       "Date                              \n",
       "2014-10-01 00:00:00+00:00      NaN\n",
       "2014-10-02 00:00:00+00:00  45.9000\n",
       "2014-10-03 00:00:00+00:00  45.7600\n",
       "2014-10-06 00:00:00+00:00  46.0900\n",
       "2014-10-07 00:00:00+00:00  46.0900\n",
       "...                            ...\n",
       "2021-05-24 00:00:00+00:00 245.1700\n",
       "2021-05-25 00:00:00+00:00 250.7800\n",
       "2021-05-26 00:00:00+00:00 251.7200\n",
       "2021-05-27 00:00:00+00:00 251.4900\n",
       "2021-05-28 00:00:00+00:00 249.3100\n",
       "\n",
       "[1677 rows x 1 columns]"
      ]
     },
     "execution_count": 53,
     "metadata": {},
     "output_type": "execute_result"
    }
   ],
   "source": [
    "msft.shift(periods = 1)"
   ]
  },
  {
   "cell_type": "code",
   "execution_count": 54,
   "id": "872fc895",
   "metadata": {},
   "outputs": [
    {
     "data": {
      "text/html": [
       "<div>\n",
       "<style scoped>\n",
       "    .dataframe tbody tr th:only-of-type {\n",
       "        vertical-align: middle;\n",
       "    }\n",
       "\n",
       "    .dataframe tbody tr th {\n",
       "        vertical-align: top;\n",
       "    }\n",
       "\n",
       "    .dataframe thead th {\n",
       "        text-align: right;\n",
       "    }\n",
       "</style>\n",
       "<table border=\"1\" class=\"dataframe\">\n",
       "  <thead>\n",
       "    <tr style=\"text-align: right;\">\n",
       "      <th></th>\n",
       "      <th>Price</th>\n",
       "      <th>P_lag1</th>\n",
       "    </tr>\n",
       "    <tr>\n",
       "      <th>Date</th>\n",
       "      <th></th>\n",
       "      <th></th>\n",
       "    </tr>\n",
       "  </thead>\n",
       "  <tbody>\n",
       "    <tr>\n",
       "      <th>2014-10-01 00:00:00+00:00</th>\n",
       "      <td>45.9000</td>\n",
       "      <td>NaN</td>\n",
       "    </tr>\n",
       "    <tr>\n",
       "      <th>2014-10-02 00:00:00+00:00</th>\n",
       "      <td>45.7600</td>\n",
       "      <td>45.9000</td>\n",
       "    </tr>\n",
       "    <tr>\n",
       "      <th>2014-10-03 00:00:00+00:00</th>\n",
       "      <td>46.0900</td>\n",
       "      <td>45.7600</td>\n",
       "    </tr>\n",
       "    <tr>\n",
       "      <th>2014-10-06 00:00:00+00:00</th>\n",
       "      <td>46.0900</td>\n",
       "      <td>46.0900</td>\n",
       "    </tr>\n",
       "    <tr>\n",
       "      <th>2014-10-07 00:00:00+00:00</th>\n",
       "      <td>45.5300</td>\n",
       "      <td>46.0900</td>\n",
       "    </tr>\n",
       "    <tr>\n",
       "      <th>...</th>\n",
       "      <td>...</td>\n",
       "      <td>...</td>\n",
       "    </tr>\n",
       "    <tr>\n",
       "      <th>2021-05-24 00:00:00+00:00</th>\n",
       "      <td>250.7800</td>\n",
       "      <td>245.1700</td>\n",
       "    </tr>\n",
       "    <tr>\n",
       "      <th>2021-05-25 00:00:00+00:00</th>\n",
       "      <td>251.7200</td>\n",
       "      <td>250.7800</td>\n",
       "    </tr>\n",
       "    <tr>\n",
       "      <th>2021-05-26 00:00:00+00:00</th>\n",
       "      <td>251.4900</td>\n",
       "      <td>251.7200</td>\n",
       "    </tr>\n",
       "    <tr>\n",
       "      <th>2021-05-27 00:00:00+00:00</th>\n",
       "      <td>249.3100</td>\n",
       "      <td>251.4900</td>\n",
       "    </tr>\n",
       "    <tr>\n",
       "      <th>2021-05-28 00:00:00+00:00</th>\n",
       "      <td>249.6800</td>\n",
       "      <td>249.3100</td>\n",
       "    </tr>\n",
       "  </tbody>\n",
       "</table>\n",
       "<p>1677 rows × 2 columns</p>\n",
       "</div>"
      ],
      "text/plain": [
       "                             Price   P_lag1\n",
       "Date                                       \n",
       "2014-10-01 00:00:00+00:00  45.9000      NaN\n",
       "2014-10-02 00:00:00+00:00  45.7600  45.9000\n",
       "2014-10-03 00:00:00+00:00  46.0900  45.7600\n",
       "2014-10-06 00:00:00+00:00  46.0900  46.0900\n",
       "2014-10-07 00:00:00+00:00  45.5300  46.0900\n",
       "...                            ...      ...\n",
       "2021-05-24 00:00:00+00:00 250.7800 245.1700\n",
       "2021-05-25 00:00:00+00:00 251.7200 250.7800\n",
       "2021-05-26 00:00:00+00:00 251.4900 251.7200\n",
       "2021-05-27 00:00:00+00:00 249.3100 251.4900\n",
       "2021-05-28 00:00:00+00:00 249.6800 249.3100\n",
       "\n",
       "[1677 rows x 2 columns]"
      ]
     },
     "execution_count": 54,
     "metadata": {},
     "output_type": "execute_result"
    }
   ],
   "source": [
    "msft[\"P_lag1\"] = msft.shift(periods = 1)\n",
    "msft"
   ]
  },
  {
   "cell_type": "markdown",
   "id": "27b4686f",
   "metadata": {},
   "source": [
    "__Absolute Price Changes__ (Difference)"
   ]
  },
  {
   "cell_type": "code",
   "execution_count": 55,
   "id": "1e526b73",
   "metadata": {},
   "outputs": [],
   "source": [
    "msft[\"P_diff\"] = msft.Price.sub(msft.P_lag1) # Alternative 1"
   ]
  },
  {
   "cell_type": "code",
   "execution_count": 56,
   "id": "339f14ba",
   "metadata": {},
   "outputs": [
    {
     "data": {
      "text/html": [
       "<div>\n",
       "<style scoped>\n",
       "    .dataframe tbody tr th:only-of-type {\n",
       "        vertical-align: middle;\n",
       "    }\n",
       "\n",
       "    .dataframe tbody tr th {\n",
       "        vertical-align: top;\n",
       "    }\n",
       "\n",
       "    .dataframe thead th {\n",
       "        text-align: right;\n",
       "    }\n",
       "</style>\n",
       "<table border=\"1\" class=\"dataframe\">\n",
       "  <thead>\n",
       "    <tr style=\"text-align: right;\">\n",
       "      <th></th>\n",
       "      <th>Price</th>\n",
       "      <th>P_lag1</th>\n",
       "      <th>P_diff</th>\n",
       "    </tr>\n",
       "    <tr>\n",
       "      <th>Date</th>\n",
       "      <th></th>\n",
       "      <th></th>\n",
       "      <th></th>\n",
       "    </tr>\n",
       "  </thead>\n",
       "  <tbody>\n",
       "    <tr>\n",
       "      <th>2014-10-01 00:00:00+00:00</th>\n",
       "      <td>45.9000</td>\n",
       "      <td>NaN</td>\n",
       "      <td>NaN</td>\n",
       "    </tr>\n",
       "    <tr>\n",
       "      <th>2014-10-02 00:00:00+00:00</th>\n",
       "      <td>45.7600</td>\n",
       "      <td>45.9000</td>\n",
       "      <td>-0.1400</td>\n",
       "    </tr>\n",
       "    <tr>\n",
       "      <th>2014-10-03 00:00:00+00:00</th>\n",
       "      <td>46.0900</td>\n",
       "      <td>45.7600</td>\n",
       "      <td>0.3300</td>\n",
       "    </tr>\n",
       "    <tr>\n",
       "      <th>2014-10-06 00:00:00+00:00</th>\n",
       "      <td>46.0900</td>\n",
       "      <td>46.0900</td>\n",
       "      <td>0.0000</td>\n",
       "    </tr>\n",
       "    <tr>\n",
       "      <th>2014-10-07 00:00:00+00:00</th>\n",
       "      <td>45.5300</td>\n",
       "      <td>46.0900</td>\n",
       "      <td>-0.5600</td>\n",
       "    </tr>\n",
       "    <tr>\n",
       "      <th>...</th>\n",
       "      <td>...</td>\n",
       "      <td>...</td>\n",
       "      <td>...</td>\n",
       "    </tr>\n",
       "    <tr>\n",
       "      <th>2021-05-24 00:00:00+00:00</th>\n",
       "      <td>250.7800</td>\n",
       "      <td>245.1700</td>\n",
       "      <td>5.6100</td>\n",
       "    </tr>\n",
       "    <tr>\n",
       "      <th>2021-05-25 00:00:00+00:00</th>\n",
       "      <td>251.7200</td>\n",
       "      <td>250.7800</td>\n",
       "      <td>0.9400</td>\n",
       "    </tr>\n",
       "    <tr>\n",
       "      <th>2021-05-26 00:00:00+00:00</th>\n",
       "      <td>251.4900</td>\n",
       "      <td>251.7200</td>\n",
       "      <td>-0.2300</td>\n",
       "    </tr>\n",
       "    <tr>\n",
       "      <th>2021-05-27 00:00:00+00:00</th>\n",
       "      <td>249.3100</td>\n",
       "      <td>251.4900</td>\n",
       "      <td>-2.1800</td>\n",
       "    </tr>\n",
       "    <tr>\n",
       "      <th>2021-05-28 00:00:00+00:00</th>\n",
       "      <td>249.6800</td>\n",
       "      <td>249.3100</td>\n",
       "      <td>0.3700</td>\n",
       "    </tr>\n",
       "  </tbody>\n",
       "</table>\n",
       "<p>1677 rows × 3 columns</p>\n",
       "</div>"
      ],
      "text/plain": [
       "                             Price   P_lag1  P_diff\n",
       "Date                                               \n",
       "2014-10-01 00:00:00+00:00  45.9000      NaN     NaN\n",
       "2014-10-02 00:00:00+00:00  45.7600  45.9000 -0.1400\n",
       "2014-10-03 00:00:00+00:00  46.0900  45.7600  0.3300\n",
       "2014-10-06 00:00:00+00:00  46.0900  46.0900  0.0000\n",
       "2014-10-07 00:00:00+00:00  45.5300  46.0900 -0.5600\n",
       "...                            ...      ...     ...\n",
       "2021-05-24 00:00:00+00:00 250.7800 245.1700  5.6100\n",
       "2021-05-25 00:00:00+00:00 251.7200 250.7800  0.9400\n",
       "2021-05-26 00:00:00+00:00 251.4900 251.7200 -0.2300\n",
       "2021-05-27 00:00:00+00:00 249.3100 251.4900 -2.1800\n",
       "2021-05-28 00:00:00+00:00 249.6800 249.3100  0.3700\n",
       "\n",
       "[1677 rows x 3 columns]"
      ]
     },
     "execution_count": 56,
     "metadata": {},
     "output_type": "execute_result"
    }
   ],
   "source": [
    "msft"
   ]
  },
  {
   "cell_type": "code",
   "execution_count": 57,
   "id": "e8e21a68",
   "metadata": {
    "scrolled": true
   },
   "outputs": [],
   "source": [
    "msft[\"P_diff2\"] = msft.Price.diff(periods = 1)  # Alternative 2"
   ]
  },
  {
   "cell_type": "code",
   "execution_count": 58,
   "id": "9e2cceeb",
   "metadata": {},
   "outputs": [
    {
     "data": {
      "text/html": [
       "<div>\n",
       "<style scoped>\n",
       "    .dataframe tbody tr th:only-of-type {\n",
       "        vertical-align: middle;\n",
       "    }\n",
       "\n",
       "    .dataframe tbody tr th {\n",
       "        vertical-align: top;\n",
       "    }\n",
       "\n",
       "    .dataframe thead th {\n",
       "        text-align: right;\n",
       "    }\n",
       "</style>\n",
       "<table border=\"1\" class=\"dataframe\">\n",
       "  <thead>\n",
       "    <tr style=\"text-align: right;\">\n",
       "      <th></th>\n",
       "      <th>Price</th>\n",
       "      <th>P_lag1</th>\n",
       "      <th>P_diff</th>\n",
       "      <th>P_diff2</th>\n",
       "    </tr>\n",
       "    <tr>\n",
       "      <th>Date</th>\n",
       "      <th></th>\n",
       "      <th></th>\n",
       "      <th></th>\n",
       "      <th></th>\n",
       "    </tr>\n",
       "  </thead>\n",
       "  <tbody>\n",
       "    <tr>\n",
       "      <th>2014-10-01 00:00:00+00:00</th>\n",
       "      <td>45.9000</td>\n",
       "      <td>NaN</td>\n",
       "      <td>NaN</td>\n",
       "      <td>NaN</td>\n",
       "    </tr>\n",
       "    <tr>\n",
       "      <th>2014-10-02 00:00:00+00:00</th>\n",
       "      <td>45.7600</td>\n",
       "      <td>45.9000</td>\n",
       "      <td>-0.1400</td>\n",
       "      <td>-0.1400</td>\n",
       "    </tr>\n",
       "    <tr>\n",
       "      <th>2014-10-03 00:00:00+00:00</th>\n",
       "      <td>46.0900</td>\n",
       "      <td>45.7600</td>\n",
       "      <td>0.3300</td>\n",
       "      <td>0.3300</td>\n",
       "    </tr>\n",
       "    <tr>\n",
       "      <th>2014-10-06 00:00:00+00:00</th>\n",
       "      <td>46.0900</td>\n",
       "      <td>46.0900</td>\n",
       "      <td>0.0000</td>\n",
       "      <td>0.0000</td>\n",
       "    </tr>\n",
       "    <tr>\n",
       "      <th>2014-10-07 00:00:00+00:00</th>\n",
       "      <td>45.5300</td>\n",
       "      <td>46.0900</td>\n",
       "      <td>-0.5600</td>\n",
       "      <td>-0.5600</td>\n",
       "    </tr>\n",
       "    <tr>\n",
       "      <th>...</th>\n",
       "      <td>...</td>\n",
       "      <td>...</td>\n",
       "      <td>...</td>\n",
       "      <td>...</td>\n",
       "    </tr>\n",
       "    <tr>\n",
       "      <th>2021-05-24 00:00:00+00:00</th>\n",
       "      <td>250.7800</td>\n",
       "      <td>245.1700</td>\n",
       "      <td>5.6100</td>\n",
       "      <td>5.6100</td>\n",
       "    </tr>\n",
       "    <tr>\n",
       "      <th>2021-05-25 00:00:00+00:00</th>\n",
       "      <td>251.7200</td>\n",
       "      <td>250.7800</td>\n",
       "      <td>0.9400</td>\n",
       "      <td>0.9400</td>\n",
       "    </tr>\n",
       "    <tr>\n",
       "      <th>2021-05-26 00:00:00+00:00</th>\n",
       "      <td>251.4900</td>\n",
       "      <td>251.7200</td>\n",
       "      <td>-0.2300</td>\n",
       "      <td>-0.2300</td>\n",
       "    </tr>\n",
       "    <tr>\n",
       "      <th>2021-05-27 00:00:00+00:00</th>\n",
       "      <td>249.3100</td>\n",
       "      <td>251.4900</td>\n",
       "      <td>-2.1800</td>\n",
       "      <td>-2.1800</td>\n",
       "    </tr>\n",
       "    <tr>\n",
       "      <th>2021-05-28 00:00:00+00:00</th>\n",
       "      <td>249.6800</td>\n",
       "      <td>249.3100</td>\n",
       "      <td>0.3700</td>\n",
       "      <td>0.3700</td>\n",
       "    </tr>\n",
       "  </tbody>\n",
       "</table>\n",
       "<p>1677 rows × 4 columns</p>\n",
       "</div>"
      ],
      "text/plain": [
       "                             Price   P_lag1  P_diff  P_diff2\n",
       "Date                                                        \n",
       "2014-10-01 00:00:00+00:00  45.9000      NaN     NaN      NaN\n",
       "2014-10-02 00:00:00+00:00  45.7600  45.9000 -0.1400  -0.1400\n",
       "2014-10-03 00:00:00+00:00  46.0900  45.7600  0.3300   0.3300\n",
       "2014-10-06 00:00:00+00:00  46.0900  46.0900  0.0000   0.0000\n",
       "2014-10-07 00:00:00+00:00  45.5300  46.0900 -0.5600  -0.5600\n",
       "...                            ...      ...     ...      ...\n",
       "2021-05-24 00:00:00+00:00 250.7800 245.1700  5.6100   5.6100\n",
       "2021-05-25 00:00:00+00:00 251.7200 250.7800  0.9400   0.9400\n",
       "2021-05-26 00:00:00+00:00 251.4900 251.7200 -0.2300  -0.2300\n",
       "2021-05-27 00:00:00+00:00 249.3100 251.4900 -2.1800  -2.1800\n",
       "2021-05-28 00:00:00+00:00 249.6800 249.3100  0.3700   0.3700\n",
       "\n",
       "[1677 rows x 4 columns]"
      ]
     },
     "execution_count": 58,
     "metadata": {},
     "output_type": "execute_result"
    }
   ],
   "source": [
    "msft"
   ]
  },
  {
   "cell_type": "code",
   "execution_count": 59,
   "id": "27a26eaf",
   "metadata": {},
   "outputs": [
    {
     "data": {
      "text/plain": [
       "True"
      ]
     },
     "execution_count": 59,
     "metadata": {},
     "output_type": "execute_result"
    }
   ],
   "source": [
    "msft.P_diff.equals(msft.P_diff2)"
   ]
  },
  {
   "cell_type": "markdown",
   "id": "5f357e28",
   "metadata": {},
   "source": [
    "__-> Absolute Price Changes are not meaningful__"
   ]
  },
  {
   "cell_type": "markdown",
   "id": "d5c33844",
   "metadata": {},
   "source": [
    "__Relative/Percentage Price Changes__ (Returns)"
   ]
  },
  {
   "cell_type": "code",
   "execution_count": 60,
   "id": "bed7b86b",
   "metadata": {},
   "outputs": [
    {
     "data": {
      "text/plain": [
       "Date\n",
       "2014-10-01 00:00:00+00:00       NaN\n",
       "2014-10-02 00:00:00+00:00   -0.0031\n",
       "2014-10-03 00:00:00+00:00    0.0072\n",
       "2014-10-06 00:00:00+00:00    0.0000\n",
       "2014-10-07 00:00:00+00:00   -0.0122\n",
       "                              ...  \n",
       "2021-05-24 00:00:00+00:00    0.0229\n",
       "2021-05-25 00:00:00+00:00    0.0037\n",
       "2021-05-26 00:00:00+00:00   -0.0009\n",
       "2021-05-27 00:00:00+00:00   -0.0087\n",
       "2021-05-28 00:00:00+00:00    0.0015\n",
       "Length: 1677, dtype: float64"
      ]
     },
     "execution_count": 60,
     "metadata": {},
     "output_type": "execute_result"
    }
   ],
   "source": [
    "msft.Price.div(msft.P_lag1) - 1 # Alternative 1"
   ]
  },
  {
   "cell_type": "code",
   "execution_count": 61,
   "id": "7d58b822",
   "metadata": {},
   "outputs": [
    {
     "data": {
      "text/html": [
       "<div>\n",
       "<style scoped>\n",
       "    .dataframe tbody tr th:only-of-type {\n",
       "        vertical-align: middle;\n",
       "    }\n",
       "\n",
       "    .dataframe tbody tr th {\n",
       "        vertical-align: top;\n",
       "    }\n",
       "\n",
       "    .dataframe thead th {\n",
       "        text-align: right;\n",
       "    }\n",
       "</style>\n",
       "<table border=\"1\" class=\"dataframe\">\n",
       "  <thead>\n",
       "    <tr style=\"text-align: right;\">\n",
       "      <th></th>\n",
       "      <th>Price</th>\n",
       "      <th>P_lag1</th>\n",
       "      <th>P_diff</th>\n",
       "      <th>P_diff2</th>\n",
       "      <th>Returns</th>\n",
       "    </tr>\n",
       "    <tr>\n",
       "      <th>Date</th>\n",
       "      <th></th>\n",
       "      <th></th>\n",
       "      <th></th>\n",
       "      <th></th>\n",
       "      <th></th>\n",
       "    </tr>\n",
       "  </thead>\n",
       "  <tbody>\n",
       "    <tr>\n",
       "      <th>2014-10-01 00:00:00+00:00</th>\n",
       "      <td>45.9000</td>\n",
       "      <td>NaN</td>\n",
       "      <td>NaN</td>\n",
       "      <td>NaN</td>\n",
       "      <td>NaN</td>\n",
       "    </tr>\n",
       "    <tr>\n",
       "      <th>2014-10-02 00:00:00+00:00</th>\n",
       "      <td>45.7600</td>\n",
       "      <td>45.9000</td>\n",
       "      <td>-0.1400</td>\n",
       "      <td>-0.1400</td>\n",
       "      <td>-0.0031</td>\n",
       "    </tr>\n",
       "    <tr>\n",
       "      <th>2014-10-03 00:00:00+00:00</th>\n",
       "      <td>46.0900</td>\n",
       "      <td>45.7600</td>\n",
       "      <td>0.3300</td>\n",
       "      <td>0.3300</td>\n",
       "      <td>0.0072</td>\n",
       "    </tr>\n",
       "    <tr>\n",
       "      <th>2014-10-06 00:00:00+00:00</th>\n",
       "      <td>46.0900</td>\n",
       "      <td>46.0900</td>\n",
       "      <td>0.0000</td>\n",
       "      <td>0.0000</td>\n",
       "      <td>0.0000</td>\n",
       "    </tr>\n",
       "    <tr>\n",
       "      <th>2014-10-07 00:00:00+00:00</th>\n",
       "      <td>45.5300</td>\n",
       "      <td>46.0900</td>\n",
       "      <td>-0.5600</td>\n",
       "      <td>-0.5600</td>\n",
       "      <td>-0.0122</td>\n",
       "    </tr>\n",
       "    <tr>\n",
       "      <th>...</th>\n",
       "      <td>...</td>\n",
       "      <td>...</td>\n",
       "      <td>...</td>\n",
       "      <td>...</td>\n",
       "      <td>...</td>\n",
       "    </tr>\n",
       "    <tr>\n",
       "      <th>2021-05-24 00:00:00+00:00</th>\n",
       "      <td>250.7800</td>\n",
       "      <td>245.1700</td>\n",
       "      <td>5.6100</td>\n",
       "      <td>5.6100</td>\n",
       "      <td>0.0229</td>\n",
       "    </tr>\n",
       "    <tr>\n",
       "      <th>2021-05-25 00:00:00+00:00</th>\n",
       "      <td>251.7200</td>\n",
       "      <td>250.7800</td>\n",
       "      <td>0.9400</td>\n",
       "      <td>0.9400</td>\n",
       "      <td>0.0037</td>\n",
       "    </tr>\n",
       "    <tr>\n",
       "      <th>2021-05-26 00:00:00+00:00</th>\n",
       "      <td>251.4900</td>\n",
       "      <td>251.7200</td>\n",
       "      <td>-0.2300</td>\n",
       "      <td>-0.2300</td>\n",
       "      <td>-0.0009</td>\n",
       "    </tr>\n",
       "    <tr>\n",
       "      <th>2021-05-27 00:00:00+00:00</th>\n",
       "      <td>249.3100</td>\n",
       "      <td>251.4900</td>\n",
       "      <td>-2.1800</td>\n",
       "      <td>-2.1800</td>\n",
       "      <td>-0.0087</td>\n",
       "    </tr>\n",
       "    <tr>\n",
       "      <th>2021-05-28 00:00:00+00:00</th>\n",
       "      <td>249.6800</td>\n",
       "      <td>249.3100</td>\n",
       "      <td>0.3700</td>\n",
       "      <td>0.3700</td>\n",
       "      <td>0.0015</td>\n",
       "    </tr>\n",
       "  </tbody>\n",
       "</table>\n",
       "<p>1677 rows × 5 columns</p>\n",
       "</div>"
      ],
      "text/plain": [
       "                             Price   P_lag1  P_diff  P_diff2  Returns\n",
       "Date                                                                 \n",
       "2014-10-01 00:00:00+00:00  45.9000      NaN     NaN      NaN      NaN\n",
       "2014-10-02 00:00:00+00:00  45.7600  45.9000 -0.1400  -0.1400  -0.0031\n",
       "2014-10-03 00:00:00+00:00  46.0900  45.7600  0.3300   0.3300   0.0072\n",
       "2014-10-06 00:00:00+00:00  46.0900  46.0900  0.0000   0.0000   0.0000\n",
       "2014-10-07 00:00:00+00:00  45.5300  46.0900 -0.5600  -0.5600  -0.0122\n",
       "...                            ...      ...     ...      ...      ...\n",
       "2021-05-24 00:00:00+00:00 250.7800 245.1700  5.6100   5.6100   0.0229\n",
       "2021-05-25 00:00:00+00:00 251.7200 250.7800  0.9400   0.9400   0.0037\n",
       "2021-05-26 00:00:00+00:00 251.4900 251.7200 -0.2300  -0.2300  -0.0009\n",
       "2021-05-27 00:00:00+00:00 249.3100 251.4900 -2.1800  -2.1800  -0.0087\n",
       "2021-05-28 00:00:00+00:00 249.6800 249.3100  0.3700   0.3700   0.0015\n",
       "\n",
       "[1677 rows x 5 columns]"
      ]
     },
     "execution_count": 61,
     "metadata": {},
     "output_type": "execute_result"
    }
   ],
   "source": [
    "msft[\"Returns\"] = msft.Price.pct_change(periods = 1) # Alternative 2\n",
    "msft"
   ]
  },
  {
   "cell_type": "code",
   "execution_count": 62,
   "id": "c1e88090",
   "metadata": {},
   "outputs": [
    {
     "data": {
      "text/plain": [
       "0.007211538461538547"
      ]
     },
     "execution_count": 62,
     "metadata": {},
     "output_type": "execute_result"
    }
   ],
   "source": [
    "46.0900 / 45.7600 - 1"
   ]
  },
  {
   "cell_type": "code",
   "execution_count": 63,
   "id": "31d04169",
   "metadata": {},
   "outputs": [
    {
     "data": {
      "text/plain": [
       "0.7211538461538547"
      ]
     },
     "execution_count": 63,
     "metadata": {},
     "output_type": "execute_result"
    }
   ],
   "source": [
    "(46.0900 / 45.7600 - 1) * 100"
   ]
  },
  {
   "cell_type": "markdown",
   "id": "68659911",
   "metadata": {},
   "source": [
    "__Take Home: Relative Price Changes (Returns) are meaningful and comparable across instruments__"
   ]
  },
  {
   "cell_type": "code",
   "execution_count": 64,
   "id": "790bbf10",
   "metadata": {},
   "outputs": [],
   "source": [
    "msft.drop(columns = [\"P_lag1\", \"P_diff\", \"P_diff2\"], inplace = True)"
   ]
  },
  {
   "cell_type": "code",
   "execution_count": 65,
   "id": "168b1d02",
   "metadata": {},
   "outputs": [
    {
     "data": {
      "text/html": [
       "<div>\n",
       "<style scoped>\n",
       "    .dataframe tbody tr th:only-of-type {\n",
       "        vertical-align: middle;\n",
       "    }\n",
       "\n",
       "    .dataframe tbody tr th {\n",
       "        vertical-align: top;\n",
       "    }\n",
       "\n",
       "    .dataframe thead th {\n",
       "        text-align: right;\n",
       "    }\n",
       "</style>\n",
       "<table border=\"1\" class=\"dataframe\">\n",
       "  <thead>\n",
       "    <tr style=\"text-align: right;\">\n",
       "      <th></th>\n",
       "      <th>Price</th>\n",
       "      <th>Returns</th>\n",
       "    </tr>\n",
       "    <tr>\n",
       "      <th>Date</th>\n",
       "      <th></th>\n",
       "      <th></th>\n",
       "    </tr>\n",
       "  </thead>\n",
       "  <tbody>\n",
       "    <tr>\n",
       "      <th>2014-10-01 00:00:00+00:00</th>\n",
       "      <td>45.9000</td>\n",
       "      <td>NaN</td>\n",
       "    </tr>\n",
       "    <tr>\n",
       "      <th>2014-10-02 00:00:00+00:00</th>\n",
       "      <td>45.7600</td>\n",
       "      <td>-0.0031</td>\n",
       "    </tr>\n",
       "    <tr>\n",
       "      <th>2014-10-03 00:00:00+00:00</th>\n",
       "      <td>46.0900</td>\n",
       "      <td>0.0072</td>\n",
       "    </tr>\n",
       "    <tr>\n",
       "      <th>2014-10-06 00:00:00+00:00</th>\n",
       "      <td>46.0900</td>\n",
       "      <td>0.0000</td>\n",
       "    </tr>\n",
       "    <tr>\n",
       "      <th>2014-10-07 00:00:00+00:00</th>\n",
       "      <td>45.5300</td>\n",
       "      <td>-0.0122</td>\n",
       "    </tr>\n",
       "    <tr>\n",
       "      <th>...</th>\n",
       "      <td>...</td>\n",
       "      <td>...</td>\n",
       "    </tr>\n",
       "    <tr>\n",
       "      <th>2021-05-24 00:00:00+00:00</th>\n",
       "      <td>250.7800</td>\n",
       "      <td>0.0229</td>\n",
       "    </tr>\n",
       "    <tr>\n",
       "      <th>2021-05-25 00:00:00+00:00</th>\n",
       "      <td>251.7200</td>\n",
       "      <td>0.0037</td>\n",
       "    </tr>\n",
       "    <tr>\n",
       "      <th>2021-05-26 00:00:00+00:00</th>\n",
       "      <td>251.4900</td>\n",
       "      <td>-0.0009</td>\n",
       "    </tr>\n",
       "    <tr>\n",
       "      <th>2021-05-27 00:00:00+00:00</th>\n",
       "      <td>249.3100</td>\n",
       "      <td>-0.0087</td>\n",
       "    </tr>\n",
       "    <tr>\n",
       "      <th>2021-05-28 00:00:00+00:00</th>\n",
       "      <td>249.6800</td>\n",
       "      <td>0.0015</td>\n",
       "    </tr>\n",
       "  </tbody>\n",
       "</table>\n",
       "<p>1677 rows × 2 columns</p>\n",
       "</div>"
      ],
      "text/plain": [
       "                             Price  Returns\n",
       "Date                                       \n",
       "2014-10-01 00:00:00+00:00  45.9000      NaN\n",
       "2014-10-02 00:00:00+00:00  45.7600  -0.0031\n",
       "2014-10-03 00:00:00+00:00  46.0900   0.0072\n",
       "2014-10-06 00:00:00+00:00  46.0900   0.0000\n",
       "2014-10-07 00:00:00+00:00  45.5300  -0.0122\n",
       "...                            ...      ...\n",
       "2021-05-24 00:00:00+00:00 250.7800   0.0229\n",
       "2021-05-25 00:00:00+00:00 251.7200   0.0037\n",
       "2021-05-26 00:00:00+00:00 251.4900  -0.0009\n",
       "2021-05-27 00:00:00+00:00 249.3100  -0.0087\n",
       "2021-05-28 00:00:00+00:00 249.6800   0.0015\n",
       "\n",
       "[1677 rows x 2 columns]"
      ]
     },
     "execution_count": 65,
     "metadata": {},
     "output_type": "execute_result"
    }
   ],
   "source": [
    "msft"
   ]
  },
  {
   "cell_type": "code",
   "execution_count": 66,
   "id": "514d9fef",
   "metadata": {},
   "outputs": [],
   "source": [
    "msft.to_csv(\"msft.csv\")"
   ]
  },
  {
   "cell_type": "code",
   "execution_count": null,
   "id": "74d1ef67",
   "metadata": {},
   "outputs": [],
   "source": []
  },
  {
   "cell_type": "markdown",
   "id": "be1330ba",
   "metadata": {},
   "source": [
    "## Measuring Reward and Risk of an Investment"
   ]
  },
  {
   "cell_type": "markdown",
   "id": "7ab5f212",
   "metadata": {},
   "source": [
    "__General Rule in Finance/Investing: Higher Risk must be rewarded with higher Returns__."
   ]
  },
  {
   "cell_type": "code",
   "execution_count": 67,
   "id": "1dda24ed",
   "metadata": {},
   "outputs": [],
   "source": [
    "import pandas as pd\n",
    "import numpy as np\n",
    "import matplotlib.pyplot as plt\n",
    "pd.options.display.float_format = '{:.4f}'.format\n",
    "#plt.style.use(\"seaborn-v0_8\")"
   ]
  },
  {
   "cell_type": "code",
   "execution_count": 68,
   "id": "87b46753",
   "metadata": {},
   "outputs": [
    {
     "data": {
      "text/html": [
       "<div>\n",
       "<style scoped>\n",
       "    .dataframe tbody tr th:only-of-type {\n",
       "        vertical-align: middle;\n",
       "    }\n",
       "\n",
       "    .dataframe tbody tr th {\n",
       "        vertical-align: top;\n",
       "    }\n",
       "\n",
       "    .dataframe thead th {\n",
       "        text-align: right;\n",
       "    }\n",
       "</style>\n",
       "<table border=\"1\" class=\"dataframe\">\n",
       "  <thead>\n",
       "    <tr style=\"text-align: right;\">\n",
       "      <th></th>\n",
       "      <th>Price</th>\n",
       "      <th>Returns</th>\n",
       "    </tr>\n",
       "    <tr>\n",
       "      <th>Date</th>\n",
       "      <th></th>\n",
       "      <th></th>\n",
       "    </tr>\n",
       "  </thead>\n",
       "  <tbody>\n",
       "    <tr>\n",
       "      <th>2014-10-01 00:00:00+00:00</th>\n",
       "      <td>45.9000</td>\n",
       "      <td>NaN</td>\n",
       "    </tr>\n",
       "    <tr>\n",
       "      <th>2014-10-02 00:00:00+00:00</th>\n",
       "      <td>45.7600</td>\n",
       "      <td>-0.0031</td>\n",
       "    </tr>\n",
       "    <tr>\n",
       "      <th>2014-10-03 00:00:00+00:00</th>\n",
       "      <td>46.0900</td>\n",
       "      <td>0.0072</td>\n",
       "    </tr>\n",
       "    <tr>\n",
       "      <th>2014-10-06 00:00:00+00:00</th>\n",
       "      <td>46.0900</td>\n",
       "      <td>0.0000</td>\n",
       "    </tr>\n",
       "    <tr>\n",
       "      <th>2014-10-07 00:00:00+00:00</th>\n",
       "      <td>45.5300</td>\n",
       "      <td>-0.0122</td>\n",
       "    </tr>\n",
       "    <tr>\n",
       "      <th>...</th>\n",
       "      <td>...</td>\n",
       "      <td>...</td>\n",
       "    </tr>\n",
       "    <tr>\n",
       "      <th>2021-05-24 00:00:00+00:00</th>\n",
       "      <td>250.7800</td>\n",
       "      <td>0.0229</td>\n",
       "    </tr>\n",
       "    <tr>\n",
       "      <th>2021-05-25 00:00:00+00:00</th>\n",
       "      <td>251.7200</td>\n",
       "      <td>0.0037</td>\n",
       "    </tr>\n",
       "    <tr>\n",
       "      <th>2021-05-26 00:00:00+00:00</th>\n",
       "      <td>251.4900</td>\n",
       "      <td>-0.0009</td>\n",
       "    </tr>\n",
       "    <tr>\n",
       "      <th>2021-05-27 00:00:00+00:00</th>\n",
       "      <td>249.3100</td>\n",
       "      <td>-0.0087</td>\n",
       "    </tr>\n",
       "    <tr>\n",
       "      <th>2021-05-28 00:00:00+00:00</th>\n",
       "      <td>249.6800</td>\n",
       "      <td>0.0015</td>\n",
       "    </tr>\n",
       "  </tbody>\n",
       "</table>\n",
       "<p>1677 rows × 2 columns</p>\n",
       "</div>"
      ],
      "text/plain": [
       "                             Price  Returns\n",
       "Date                                       \n",
       "2014-10-01 00:00:00+00:00  45.9000      NaN\n",
       "2014-10-02 00:00:00+00:00  45.7600  -0.0031\n",
       "2014-10-03 00:00:00+00:00  46.0900   0.0072\n",
       "2014-10-06 00:00:00+00:00  46.0900   0.0000\n",
       "2014-10-07 00:00:00+00:00  45.5300  -0.0122\n",
       "...                            ...      ...\n",
       "2021-05-24 00:00:00+00:00 250.7800   0.0229\n",
       "2021-05-25 00:00:00+00:00 251.7200   0.0037\n",
       "2021-05-26 00:00:00+00:00 251.4900  -0.0009\n",
       "2021-05-27 00:00:00+00:00 249.3100  -0.0087\n",
       "2021-05-28 00:00:00+00:00 249.6800   0.0015\n",
       "\n",
       "[1677 rows x 2 columns]"
      ]
     },
     "execution_count": 68,
     "metadata": {},
     "output_type": "execute_result"
    }
   ],
   "source": [
    "msft = pd.read_csv(\"msft.csv\", index_col = \"Date\", parse_dates = [\"Date\"])\n",
    "msft"
   ]
  },
  {
   "cell_type": "code",
   "execution_count": 69,
   "id": "69422325",
   "metadata": {},
   "outputs": [
    {
     "data": {
      "image/png": "[encoded data removed]",
      "text/plain": [
       "<Figure size 1500x800 with 1 Axes>"
      ]
     },
     "metadata": {},
     "output_type": "display_data"
    }
   ],
   "source": [
    "msft.Price.plot(figsize = (15, 8), fontsize = 13)\n",
    "plt.legend(fontsize = 13)\n",
    "plt.show()"
   ]
  },
  {
   "cell_type": "markdown",
   "id": "9e2399cd",
   "metadata": {},
   "source": [
    "- Reward: Positive Returns\n",
    "- Risk: Volatility of Returns"
   ]
  },
  {
   "cell_type": "code",
   "execution_count": 70,
   "id": "eb5ba868",
   "metadata": {},
   "outputs": [
    {
     "data": {
      "text/html": [
       "<div>\n",
       "<style scoped>\n",
       "    .dataframe tbody tr th:only-of-type {\n",
       "        vertical-align: middle;\n",
       "    }\n",
       "\n",
       "    .dataframe tbody tr th {\n",
       "        vertical-align: top;\n",
       "    }\n",
       "\n",
       "    .dataframe thead th {\n",
       "        text-align: right;\n",
       "    }\n",
       "</style>\n",
       "<table border=\"1\" class=\"dataframe\">\n",
       "  <thead>\n",
       "    <tr style=\"text-align: right;\">\n",
       "      <th></th>\n",
       "      <th>Price</th>\n",
       "      <th>Returns</th>\n",
       "    </tr>\n",
       "  </thead>\n",
       "  <tbody>\n",
       "    <tr>\n",
       "      <th>count</th>\n",
       "      <td>1677.0000</td>\n",
       "      <td>1676.0000</td>\n",
       "    </tr>\n",
       "    <tr>\n",
       "      <th>mean</th>\n",
       "      <td>106.3144</td>\n",
       "      <td>0.0012</td>\n",
       "    </tr>\n",
       "    <tr>\n",
       "      <th>std</th>\n",
       "      <td>60.7722</td>\n",
       "      <td>0.0173</td>\n",
       "    </tr>\n",
       "    <tr>\n",
       "      <th>min</th>\n",
       "      <td>40.2900</td>\n",
       "      <td>-0.1474</td>\n",
       "    </tr>\n",
       "    <tr>\n",
       "      <th>25%</th>\n",
       "      <td>54.8300</td>\n",
       "      <td>-0.0062</td>\n",
       "    </tr>\n",
       "    <tr>\n",
       "      <th>50%</th>\n",
       "      <td>89.7100</td>\n",
       "      <td>0.0009</td>\n",
       "    </tr>\n",
       "    <tr>\n",
       "      <th>75%</th>\n",
       "      <td>138.9000</td>\n",
       "      <td>0.0091</td>\n",
       "    </tr>\n",
       "    <tr>\n",
       "      <th>max</th>\n",
       "      <td>261.9700</td>\n",
       "      <td>0.1422</td>\n",
       "    </tr>\n",
       "  </tbody>\n",
       "</table>\n",
       "</div>"
      ],
      "text/plain": [
       "          Price   Returns\n",
       "count 1677.0000 1676.0000\n",
       "mean   106.3144    0.0012\n",
       "std     60.7722    0.0173\n",
       "min     40.2900   -0.1474\n",
       "25%     54.8300   -0.0062\n",
       "50%     89.7100    0.0009\n",
       "75%    138.9000    0.0091\n",
       "max    261.9700    0.1422"
      ]
     },
     "execution_count": 70,
     "metadata": {},
     "output_type": "execute_result"
    }
   ],
   "source": [
    "msft.describe()"
   ]
  },
  {
   "cell_type": "code",
   "execution_count": 71,
   "id": "7d4dab6d",
   "metadata": {},
   "outputs": [
    {
     "data": {
      "text/plain": [
       "np.float64(0.001159781798206695)"
      ]
     },
     "execution_count": 71,
     "metadata": {},
     "output_type": "execute_result"
    }
   ],
   "source": [
    "mu = msft.Returns.mean() # arithmetic mean return -> Reward\n",
    "mu"
   ]
  },
  {
   "cell_type": "code",
   "execution_count": 72,
   "id": "57ef6ba0",
   "metadata": {},
   "outputs": [
    {
     "data": {
      "text/plain": [
       "np.float64(0.01725607843347787)"
      ]
     },
     "execution_count": 72,
     "metadata": {},
     "output_type": "execute_result"
    }
   ],
   "source": [
    "sigma = msft.Returns.std() # standard deviation of returns -> Risk/Volatility\n",
    "sigma"
   ]
  },
  {
   "cell_type": "code",
   "execution_count": 73,
   "id": "7e6ce734",
   "metadata": {},
   "outputs": [
    {
     "data": {
      "text/plain": [
       "np.float64(0.01725607843347787)"
      ]
     },
     "execution_count": 73,
     "metadata": {},
     "output_type": "execute_result"
    }
   ],
   "source": [
    "np.sqrt(msft.Returns.var())"
   ]
  },
  {
   "cell_type": "code",
   "execution_count": null,
   "id": "b284a1c0",
   "metadata": {},
   "outputs": [],
   "source": []
  },
  {
   "cell_type": "markdown",
   "id": "11187d1b",
   "metadata": {},
   "source": [
    "----------------------------------------"
   ]
  },
  {
   "cell_type": "markdown",
   "id": "282d8e9a",
   "metadata": {},
   "source": [
    "__Coding Challenge #2__"
   ]
  },
  {
   "cell_type": "markdown",
   "id": "b0f32a67",
   "metadata": {},
   "source": [
    "1. Calculate daily returns for Bitcoin."
   ]
  },
  {
   "cell_type": "code",
   "execution_count": 80,
   "id": "dcf18ed2-d8f3-4c03-a4a9-c84390876c4f",
   "metadata": {},
   "outputs": [
    {
     "data": {
      "text/html": [
       "<div>\n",
       "<style scoped>\n",
       "    .dataframe tbody tr th:only-of-type {\n",
       "        vertical-align: middle;\n",
       "    }\n",
       "\n",
       "    .dataframe tbody tr th {\n",
       "        vertical-align: top;\n",
       "    }\n",
       "\n",
       "    .dataframe thead th {\n",
       "        text-align: right;\n",
       "    }\n",
       "</style>\n",
       "<table border=\"1\" class=\"dataframe\">\n",
       "  <thead>\n",
       "    <tr style=\"text-align: right;\">\n",
       "      <th></th>\n",
       "      <th>Price</th>\n",
       "      <th>Returns</th>\n",
       "    </tr>\n",
       "    <tr>\n",
       "      <th>Date</th>\n",
       "      <th></th>\n",
       "      <th></th>\n",
       "    </tr>\n",
       "  </thead>\n",
       "  <tbody>\n",
       "    <tr>\n",
       "      <th>2014-10-01 00:00:00+00:00</th>\n",
       "      <td>383.6150</td>\n",
       "      <td>NaN</td>\n",
       "    </tr>\n",
       "    <tr>\n",
       "      <th>2014-10-02 00:00:00+00:00</th>\n",
       "      <td>375.0720</td>\n",
       "      <td>-0.0223</td>\n",
       "    </tr>\n",
       "    <tr>\n",
       "      <th>2014-10-03 00:00:00+00:00</th>\n",
       "      <td>359.5120</td>\n",
       "      <td>-0.0415</td>\n",
       "    </tr>\n",
       "    <tr>\n",
       "      <th>2014-10-04 00:00:00+00:00</th>\n",
       "      <td>328.8660</td>\n",
       "      <td>-0.0852</td>\n",
       "    </tr>\n",
       "    <tr>\n",
       "      <th>2014-10-05 00:00:00+00:00</th>\n",
       "      <td>320.5100</td>\n",
       "      <td>-0.0254</td>\n",
       "    </tr>\n",
       "    <tr>\n",
       "      <th>...</th>\n",
       "      <td>...</td>\n",
       "      <td>...</td>\n",
       "    </tr>\n",
       "    <tr>\n",
       "      <th>2021-05-26 00:00:00+00:00</th>\n",
       "      <td>39294.1992</td>\n",
       "      <td>0.0232</td>\n",
       "    </tr>\n",
       "    <tr>\n",
       "      <th>2021-05-27 00:00:00+00:00</th>\n",
       "      <td>38436.9688</td>\n",
       "      <td>-0.0218</td>\n",
       "    </tr>\n",
       "    <tr>\n",
       "      <th>2021-05-28 00:00:00+00:00</th>\n",
       "      <td>35697.6055</td>\n",
       "      <td>-0.0713</td>\n",
       "    </tr>\n",
       "    <tr>\n",
       "      <th>2021-05-29 00:00:00+00:00</th>\n",
       "      <td>34616.0664</td>\n",
       "      <td>-0.0303</td>\n",
       "    </tr>\n",
       "    <tr>\n",
       "      <th>2021-05-30 00:00:00+00:00</th>\n",
       "      <td>35678.1289</td>\n",
       "      <td>0.0307</td>\n",
       "    </tr>\n",
       "  </tbody>\n",
       "</table>\n",
       "<p>2434 rows × 2 columns</p>\n",
       "</div>"
      ],
      "text/plain": [
       "                               Price  Returns\n",
       "Date                                         \n",
       "2014-10-01 00:00:00+00:00   383.6150      NaN\n",
       "2014-10-02 00:00:00+00:00   375.0720  -0.0223\n",
       "2014-10-03 00:00:00+00:00   359.5120  -0.0415\n",
       "2014-10-04 00:00:00+00:00   328.8660  -0.0852\n",
       "2014-10-05 00:00:00+00:00   320.5100  -0.0254\n",
       "...                              ...      ...\n",
       "2021-05-26 00:00:00+00:00 39294.1992   0.0232\n",
       "2021-05-27 00:00:00+00:00 38436.9688  -0.0218\n",
       "2021-05-28 00:00:00+00:00 35697.6055  -0.0713\n",
       "2021-05-29 00:00:00+00:00 34616.0664  -0.0303\n",
       "2021-05-30 00:00:00+00:00 35678.1289   0.0307\n",
       "\n",
       "[2434 rows x 2 columns]"
      ]
     },
     "execution_count": 80,
     "metadata": {},
     "output_type": "execute_result"
    }
   ],
   "source": [
    "btcUsd = close[\"BTC-USD\"].dropna().to_frame().copy()\n",
    "btcUsd\n",
    "btcUsd.rename(columns = {\"BTC-USD\":\"Price\"}, inplace = True)\n",
    "btcUsd[\"Returns\"] = btcUsd.Price.pct_change(periods = 1) # Alternative 2\n",
    "btcUsd"
   ]
  },
  {
   "cell_type": "markdown",
   "id": "683b2760",
   "metadata": {},
   "source": [
    "2. Calculate the arithmetic mean return and the standard deviation of returns for Bitcoin. "
   ]
  },
  {
   "cell_type": "code",
   "execution_count": 81,
   "id": "32301691-10df-4b77-b29e-72e982630321",
   "metadata": {},
   "outputs": [
    {
     "data": {
      "text/plain": [
       "np.float64(0.002637756696334039)"
      ]
     },
     "execution_count": 81,
     "metadata": {},
     "output_type": "execute_result"
    }
   ],
   "source": [
    "btcUsd.Returns.mean()"
   ]
  },
  {
   "cell_type": "markdown",
   "id": "c5a569ac",
   "metadata": {},
   "source": [
    "3. Compare Bitcoin with Microsoft (mu = 0.00116, sigma = 0.01726). Does the rule \"Higher Risk -> Higher Reward\" hold?"
   ]
  },
  {
   "cell_type": "code",
   "execution_count": null,
   "id": "dd64f70d-7f51-45e8-9f43-3f0cc109e8f5",
   "metadata": {},
   "outputs": [],
   "source": [
    "btcUsd.Returns.mean()"
   ]
  },
  {
   "cell_type": "markdown",
   "id": "7515a771",
   "metadata": {},
   "source": [
    "-----------------------------------"
   ]
  },
  {
   "cell_type": "code",
   "execution_count": 82,
   "id": "0be0c5bd",
   "metadata": {},
   "outputs": [
    {
     "data": {
      "text/plain": [
       "np.float64(0.03912052480629264)"
      ]
     },
     "execution_count": 82,
     "metadata": {},
     "output_type": "execute_result"
    }
   ],
   "source": [
    "sigma = btcUsd.Returns.std() # standard deviation of returns -> Risk/Volatility\n",
    "sigma"
   ]
  },
  {
   "cell_type": "code",
   "execution_count": 85,
   "id": "748e365d-2683-4eec-8485-57cab53a9c56",
   "metadata": {},
   "outputs": [
    {
     "data": {
      "text/plain": [
       "np.float64(0.03912052480629264)"
      ]
     },
     "execution_count": 85,
     "metadata": {},
     "output_type": "execute_result"
    }
   ],
   "source": [
    "np.sqrt(btcUsd.Returns.var()) # Value same as above sigma"
   ]
  },
  {
   "cell_type": "markdown",
   "id": "e9e2c678",
   "metadata": {},
   "source": [
    "## Investment Multiple and CAGR "
   ]
  },
  {
   "cell_type": "markdown",
   "id": "f7e0c34f",
   "metadata": {},
   "source": [
    "__Two alternative reward metrics that are more intuitive and easier to interpret.__"
   ]
  },
  {
   "cell_type": "code",
   "execution_count": null,
   "id": "edb6cd5f",
   "metadata": {},
   "outputs": [],
   "source": [
    "import pandas as pd\n",
    "import numpy as np\n",
    "import matplotlib.pyplot as plt\n",
    "pd.options.display.float_format = '{:.4f}'.format\n",
    "#plt.style.use(\"seaborn-v0_8\")"
   ]
  },
  {
   "cell_type": "code",
   "execution_count": null,
   "id": "999d9e39",
   "metadata": {},
   "outputs": [],
   "source": [
    "msft = pd.read_csv(\"msft.csv\", index_col = \"Date\", parse_dates = [\"Date\"])\n",
    "msft"
   ]
  },
  {
   "cell_type": "markdown",
   "id": "df96f609",
   "metadata": {},
   "source": [
    "__Investment Multiple__: Ending Value of 1 [Dollar] invested. <br>\n",
    "Multiple = Ending Value / Initial Investment"
   ]
  },
  {
   "cell_type": "code",
   "execution_count": null,
   "id": "52111a93",
   "metadata": {},
   "outputs": [],
   "source": [
    "multiple = (msft.Price[-1] / msft.Price[0])\n",
    "multiple"
   ]
  },
  {
   "cell_type": "markdown",
   "id": "2e839546",
   "metadata": {},
   "source": [
    "__Price Increase (in %)__"
   ]
  },
  {
   "cell_type": "code",
   "execution_count": null,
   "id": "1822a98c",
   "metadata": {},
   "outputs": [],
   "source": [
    "(multiple - 1) * 100"
   ]
  },
  {
   "cell_type": "code",
   "execution_count": null,
   "id": "36e87338",
   "metadata": {},
   "outputs": [],
   "source": [
    "msft.Price / msft.Price[0] # similar/identical concept: Normalized Price with Base Value 1"
   ]
  },
  {
   "cell_type": "markdown",
   "id": "be23fbfa",
   "metadata": {},
   "source": [
    "__Drawback of Investment Multiple: Doesn´t take into account investment Period. Meaningful only in conjunction with Investment Period.__"
   ]
  },
  {
   "cell_type": "markdown",
   "id": "b7ca2105",
   "metadata": {},
   "source": [
    "__Compound Annual Growth Rate (CAGR)__: The (constant annual) rate of return that would be required for an investment to grow from its beginning balance to its ending balance, assuming the profits were reinvested at the end of each year of the investment's lifespan. (Wikipedia)"
   ]
  },
  {
   "cell_type": "code",
   "execution_count": null,
   "id": "b35a008d",
   "metadata": {},
   "outputs": [],
   "source": [
    "start = msft.index[0]\n",
    "start"
   ]
  },
  {
   "cell_type": "code",
   "execution_count": null,
   "id": "54bf2f80",
   "metadata": {},
   "outputs": [],
   "source": [
    "end = msft.index[-1]\n",
    "end"
   ]
  },
  {
   "cell_type": "code",
   "execution_count": null,
   "id": "d699afe0",
   "metadata": {},
   "outputs": [],
   "source": [
    "td = end - start\n",
    "td"
   ]
  },
  {
   "cell_type": "code",
   "execution_count": null,
   "id": "b8d9e91b",
   "metadata": {},
   "outputs": [],
   "source": [
    "td_years = td.days / 365.25\n",
    "td_years"
   ]
  },
  {
   "cell_type": "code",
   "execution_count": null,
   "id": "8be87362",
   "metadata": {},
   "outputs": [],
   "source": [
    "cagr = multiple**(1 / td_years) - 1 # short version\n",
    "cagr"
   ]
  },
  {
   "cell_type": "code",
   "execution_count": null,
   "id": "d08ece32",
   "metadata": {},
   "outputs": [],
   "source": [
    "cagr = (msft.Price[-1]/msft.Price[0])**(1/((msft.index[-1] - msft.index[0]).days / 365.25)) - 1 # long\n",
    "cagr"
   ]
  },
  {
   "cell_type": "code",
   "execution_count": null,
   "id": "f72df091",
   "metadata": {
    "scrolled": true
   },
   "outputs": [],
   "source": [
    "(1 + cagr)**(td_years) # alternative #2 to calculate multiple (cagr)"
   ]
  },
  {
   "cell_type": "markdown",
   "id": "519e336f",
   "metadata": {},
   "source": [
    "__-> CAGR can be used to compare Investments with different investment horizons.__"
   ]
  },
  {
   "cell_type": "code",
   "execution_count": null,
   "id": "b434e3ba",
   "metadata": {},
   "outputs": [],
   "source": []
  },
  {
   "cell_type": "markdown",
   "id": "e1cf612b",
   "metadata": {},
   "source": [
    "## Compound Returns & Geometric Mean Return"
   ]
  },
  {
   "cell_type": "code",
   "execution_count": null,
   "id": "90e0790d",
   "metadata": {},
   "outputs": [],
   "source": [
    "msft"
   ]
  },
  {
   "cell_type": "code",
   "execution_count": null,
   "id": "d8e56942",
   "metadata": {},
   "outputs": [],
   "source": [
    "multiple = (1 + msft.Returns).prod() # alternative #3 to calculate multiple (compounding daily returns)\n",
    "multiple"
   ]
  },
  {
   "cell_type": "code",
   "execution_count": null,
   "id": "62826914",
   "metadata": {},
   "outputs": [],
   "source": [
    "n = msft.Returns.count()\n",
    "n"
   ]
  },
  {
   "cell_type": "code",
   "execution_count": null,
   "id": "a0f07b44",
   "metadata": {},
   "outputs": [],
   "source": [
    "geo_mean = multiple**(1/n) - 1 # Geometric mean return (daily)\n",
    "geo_mean"
   ]
  },
  {
   "cell_type": "code",
   "execution_count": null,
   "id": "c62035a8",
   "metadata": {},
   "outputs": [],
   "source": [
    "(1 + geo_mean)**n # alternative #4 to calculate multiple (geometric mean)"
   ]
  },
  {
   "cell_type": "markdown",
   "id": "4a40b79a",
   "metadata": {},
   "source": [
    "__-> Compound returns, CAGR & geometric mean return are closely related concepts__."
   ]
  },
  {
   "cell_type": "code",
   "execution_count": null,
   "id": "225aae5a",
   "metadata": {},
   "outputs": [],
   "source": [
    "mu = msft.Returns.mean() # arithmetic mean return\n",
    "mu"
   ]
  },
  {
   "cell_type": "markdown",
   "id": "29babea4",
   "metadata": {},
   "source": [
    "__The arithmetic mean return is always greater than the geometric mean return... and less useful__. "
   ]
  },
  {
   "cell_type": "code",
   "execution_count": null,
   "id": "d5ad145e",
   "metadata": {},
   "outputs": [],
   "source": [
    "(1 + mu)**n # calculate multiple? not possible with arithmetic mean!"
   ]
  },
  {
   "cell_type": "code",
   "execution_count": null,
   "id": "8821af89",
   "metadata": {},
   "outputs": [],
   "source": []
  },
  {
   "cell_type": "markdown",
   "id": "d2fd98bb",
   "metadata": {},
   "source": [
    "----------------------------"
   ]
  },
  {
   "cell_type": "markdown",
   "id": "72f3b84a",
   "metadata": {},
   "source": [
    "__Coding Challenge #3__"
   ]
  },
  {
   "cell_type": "markdown",
   "id": "99165f98",
   "metadata": {},
   "source": [
    "1. Calculate Boeing´s Investment Multiple "
   ]
  },
  {
   "cell_type": "markdown",
   "id": "9e4bc538",
   "metadata": {},
   "source": [
    "2. Calculate Boeing´s CAGR"
   ]
  },
  {
   "cell_type": "markdown",
   "id": "41fcf5fa",
   "metadata": {},
   "source": [
    "3. Calculate Boeing´s Geometric Mean Return"
   ]
  },
  {
   "cell_type": "markdown",
   "id": "959966d1",
   "metadata": {},
   "source": [
    "4. Calculate Boeing´s Investment Multiple with compound daily returns"
   ]
  },
  {
   "cell_type": "markdown",
   "id": "fe0f938f",
   "metadata": {},
   "source": [
    "----------------------------------"
   ]
  },
  {
   "cell_type": "code",
   "execution_count": null,
   "id": "6ba7005e",
   "metadata": {},
   "outputs": [],
   "source": []
  },
  {
   "cell_type": "markdown",
   "id": "4d1c1d40",
   "metadata": {},
   "source": [
    "## Preview: Simple Returns vs. Logarithmic Returns (log returns)"
   ]
  },
  {
   "cell_type": "markdown",
   "id": "12a7af64",
   "metadata": {},
   "source": [
    "Very often log returns are used instead of simple returns.<br>\n",
    "- favourable characteristics of log returns\n",
    "- drawbacks of simple returns"
   ]
  },
  {
   "cell_type": "markdown",
   "id": "46ea6f9e",
   "metadata": {},
   "source": [
    "Problem: Many Students / Practitioners feel uncomfortable with log returns. <br>\n",
    "-> more detailed background on log returns in the next two Lectures (Discrete vs. Continuous Compounding)"
   ]
  },
  {
   "cell_type": "code",
   "execution_count": null,
   "id": "d0b363fe",
   "metadata": {},
   "outputs": [],
   "source": []
  },
  {
   "cell_type": "markdown",
   "id": "b31cacf8",
   "metadata": {},
   "source": [
    "## Discrete Compounding"
   ]
  },
  {
   "cell_type": "markdown",
   "id": "ab790e99",
   "metadata": {},
   "source": [
    "__Annual Compounding__ -> Interests accrue once a year at the end of the year"
   ]
  },
  {
   "cell_type": "markdown",
   "id": "f0f7946a",
   "metadata": {},
   "source": [
    "Your Savings Bank offers an interest rate of __8% p.a. (stated rate)__ with __annual compounding__ on your savings (__USD 100__).<br>\n",
    "Calculate the __value__ of your savings account __after one year__ and the corresponding __effective annual interest rate__. "
   ]
  },
  {
   "cell_type": "markdown",
   "id": "73d7a5b6",
   "metadata": {},
   "source": [
    "__-> Interests are calculated and added to your savings account once at the end of each year.__"
   ]
  },
  {
   "cell_type": "code",
   "execution_count": null,
   "id": "606a1519",
   "metadata": {},
   "outputs": [],
   "source": [
    "PV = 100\n",
    "r = 0.08\n",
    "n = 1"
   ]
  },
  {
   "cell_type": "code",
   "execution_count": null,
   "id": "ac5b11d3",
   "metadata": {},
   "outputs": [],
   "source": [
    "100 * 1.08"
   ]
  },
  {
   "cell_type": "code",
   "execution_count": null,
   "id": "74ab7526",
   "metadata": {},
   "outputs": [],
   "source": [
    "FV = PV * (1 + r)**n\n",
    "FV"
   ]
  },
  {
   "cell_type": "code",
   "execution_count": null,
   "id": "ec54e725",
   "metadata": {},
   "outputs": [],
   "source": [
    "effective_annual_rate = (FV / PV)**(1/n) - 1 \n",
    "effective_annual_rate"
   ]
  },
  {
   "cell_type": "code",
   "execution_count": null,
   "id": "3197f22f",
   "metadata": {},
   "outputs": [],
   "source": []
  },
  {
   "cell_type": "markdown",
   "id": "d0a07a4f",
   "metadata": {},
   "source": [
    "__Quarterly Compounding__ -> Interests accrue once a quarter at the end of the quarter"
   ]
  },
  {
   "cell_type": "markdown",
   "id": "daa65e20",
   "metadata": {},
   "source": [
    "Your Savings Bank offers an interest rate of __8% p.a. (stated rate)__ with __quarterly compounding__ on your savings (__USD 100__).<br>\n",
    "Calculate the __value__ of your savings account __after one year__ and the corresponding __effective annual interest rate__. "
   ]
  },
  {
   "cell_type": "markdown",
   "id": "e61445a8",
   "metadata": {},
   "source": [
    "__-> Interests are calculated and added to your savings account at the end of each quarter.__"
   ]
  },
  {
   "cell_type": "code",
   "execution_count": null,
   "id": "43bcff3e",
   "metadata": {},
   "outputs": [],
   "source": [
    "PV = 100\n",
    "r = 0.08\n",
    "n = 1\n",
    "m = 4"
   ]
  },
  {
   "cell_type": "code",
   "execution_count": null,
   "id": "323e70ef",
   "metadata": {},
   "outputs": [],
   "source": [
    "100 * 1.02 * 1.02 * 1.02 * 1.02"
   ]
  },
  {
   "cell_type": "code",
   "execution_count": null,
   "id": "90535e79",
   "metadata": {},
   "outputs": [],
   "source": [
    "FV = PV * (1 + r/m)**(n*m)\n",
    "FV"
   ]
  },
  {
   "cell_type": "code",
   "execution_count": null,
   "id": "86ee1a91",
   "metadata": {},
   "outputs": [],
   "source": [
    "effective_annual_rate = (FV / PV)**(1/n) - 1 \n",
    "effective_annual_rate"
   ]
  },
  {
   "cell_type": "markdown",
   "id": "e3e5af74",
   "metadata": {},
   "source": [
    "__-> Quarterly compounding is favourable (everything else equal) as we earn compound interest (interest on interest).__"
   ]
  },
  {
   "cell_type": "code",
   "execution_count": null,
   "id": "3be09664",
   "metadata": {},
   "outputs": [],
   "source": []
  },
  {
   "cell_type": "markdown",
   "id": "05a5bee9",
   "metadata": {},
   "source": [
    "__Monthly Compounding__ -> Interests accrue once a month at the end of the month"
   ]
  },
  {
   "cell_type": "markdown",
   "id": "c84fa2b1",
   "metadata": {},
   "source": [
    "Your Savings Bank offers an interest rate of __8% p.a. (stated rate)__ with __monthly compounding__ on your savings (__USD 100__).<br>\n",
    "Calculate the __value__ of your savings account __after one year__ and the corresponding __effective annual interest rate__. "
   ]
  },
  {
   "cell_type": "markdown",
   "id": "37739b5a",
   "metadata": {},
   "source": [
    "__-> Interests are calculated and added to your savings account at the end of each month.__"
   ]
  },
  {
   "cell_type": "code",
   "execution_count": null,
   "id": "828fa20a",
   "metadata": {},
   "outputs": [],
   "source": [
    "PV = 100\n",
    "r = 0.08\n",
    "n = 1\n",
    "m = 12"
   ]
  },
  {
   "cell_type": "code",
   "execution_count": null,
   "id": "f28f7594",
   "metadata": {},
   "outputs": [],
   "source": [
    "FV = PV * (1 + r/m)**(n*m)\n",
    "FV"
   ]
  },
  {
   "cell_type": "code",
   "execution_count": null,
   "id": "fbad2a6f",
   "metadata": {},
   "outputs": [],
   "source": [
    "effective_annual_rate = ((FV / PV)**(1/n) - 1) \n",
    "effective_annual_rate"
   ]
  },
  {
   "cell_type": "code",
   "execution_count": null,
   "id": "5469b5a8",
   "metadata": {},
   "outputs": [],
   "source": []
  },
  {
   "cell_type": "markdown",
   "id": "cd626d18",
   "metadata": {},
   "source": [
    "## Continuous Compounding "
   ]
  },
  {
   "cell_type": "code",
   "execution_count": null,
   "id": "ba4e84d1",
   "metadata": {},
   "outputs": [],
   "source": [
    "import numpy as np"
   ]
  },
  {
   "cell_type": "markdown",
   "id": "08d7c0c6",
   "metadata": {},
   "source": [
    "Your Savings Bank offers an interest rate of __8% p.a. (stated rate)__ with __continuous compounding__ on your savings (__USD 100__).<br>\n",
    "Calculate the __value__ of your savings account __after one year__ and the corresponding __effective annual interest rate__. "
   ]
  },
  {
   "cell_type": "markdown",
   "id": "15d66c94",
   "metadata": {},
   "source": [
    "__-> Interests are calculated and added to your savings account continuously (infinitely large number of compounding events).__ -> continuous exponential growth that can be observed in nature"
   ]
  },
  {
   "cell_type": "code",
   "execution_count": null,
   "id": "e144d9b2",
   "metadata": {},
   "outputs": [],
   "source": [
    "PV = 100\n",
    "r = 0.08\n",
    "n = 1\n",
    "m = 100000 # approx.infinity"
   ]
  },
  {
   "cell_type": "code",
   "execution_count": null,
   "id": "d82d62ab",
   "metadata": {},
   "outputs": [],
   "source": [
    "FV = PV * (1 + r/m)**(n*m) # approx. with large m\n",
    "FV"
   ]
  },
  {
   "cell_type": "code",
   "execution_count": null,
   "id": "7b2b9a40",
   "metadata": {},
   "outputs": [],
   "source": [
    "FV = PV * np.exp(n * r) # exact math with e (euler number)\n",
    "FV"
   ]
  },
  {
   "cell_type": "code",
   "execution_count": null,
   "id": "94f98500",
   "metadata": {},
   "outputs": [],
   "source": [
    "euler = np.exp(1)\n",
    "euler"
   ]
  },
  {
   "cell_type": "code",
   "execution_count": null,
   "id": "a91bbe5f",
   "metadata": {},
   "outputs": [],
   "source": [
    "PV * euler**(n * r)"
   ]
  },
  {
   "cell_type": "code",
   "execution_count": null,
   "id": "37b71241",
   "metadata": {},
   "outputs": [],
   "source": [
    "effective_annual_rate = ((FV / PV)**(1/n) - 1) # Alt 1\n",
    "effective_annual_rate"
   ]
  },
  {
   "cell_type": "code",
   "execution_count": null,
   "id": "27d87e89",
   "metadata": {},
   "outputs": [],
   "source": [
    "effective_annual_rate = np.exp(r) - 1 # Alt 2\n",
    "effective_annual_rate"
   ]
  },
  {
   "cell_type": "markdown",
   "id": "f51b1f87",
   "metadata": {},
   "source": [
    "Let´s assume we only observe PV and FV, how to calculate the stated rate/continuously compounded rate of 8%?"
   ]
  },
  {
   "cell_type": "code",
   "execution_count": null,
   "id": "6558ce10",
   "metadata": {},
   "outputs": [],
   "source": [
    "r = np.log(FV / PV) # inverse calculation -> use log (Alt 1)\n",
    "r"
   ]
  },
  {
   "cell_type": "code",
   "execution_count": null,
   "id": "28475db5",
   "metadata": {},
   "outputs": [],
   "source": [
    "r = np.log(effective_annual_rate + 1) # inverse calculation -> use log (Alt 2)\n",
    "r"
   ]
  },
  {
   "cell_type": "markdown",
   "id": "a5d8ac80",
   "metadata": {},
   "source": [
    "__Take Home: Prices of traded Financial Instruments change (approx.) continuously. <br>\n",
    "-> Intuitively, it makes a lot of sense to work with log returns.__ "
   ]
  },
  {
   "cell_type": "code",
   "execution_count": null,
   "id": "52758a86",
   "metadata": {},
   "outputs": [],
   "source": []
  },
  {
   "cell_type": "markdown",
   "id": "96b19065",
   "metadata": {},
   "source": [
    "## Log Returns"
   ]
  },
  {
   "cell_type": "code",
   "execution_count": null,
   "id": "7c82f315",
   "metadata": {},
   "outputs": [],
   "source": [
    "import pandas as pd\n",
    "import numpy as np\n",
    "pd.options.display.float_format = '{:.6f}'.format"
   ]
  },
  {
   "cell_type": "code",
   "execution_count": null,
   "id": "27c72f01",
   "metadata": {},
   "outputs": [],
   "source": [
    "msft = pd.read_csv(\"msft.csv\", index_col = \"Date\", parse_dates = [\"Date\"])\n",
    "msft"
   ]
  },
  {
   "cell_type": "code",
   "execution_count": null,
   "id": "42d84e69",
   "metadata": {},
   "outputs": [],
   "source": [
    "msft[\"log_ret\"] = np.log(msft.Price / msft.Price.shift()) # daily log returns"
   ]
  },
  {
   "cell_type": "code",
   "execution_count": null,
   "id": "79b241ac",
   "metadata": {},
   "outputs": [],
   "source": [
    "msft"
   ]
  },
  {
   "cell_type": "code",
   "execution_count": null,
   "id": "0362b297",
   "metadata": {},
   "outputs": [],
   "source": [
    "msft.describe()"
   ]
  },
  {
   "cell_type": "code",
   "execution_count": null,
   "id": "dd00259f",
   "metadata": {},
   "outputs": [],
   "source": [
    "mu = msft.log_ret.mean() # mean log return -> Reward\n",
    "mu"
   ]
  },
  {
   "cell_type": "code",
   "execution_count": null,
   "id": "6cc4afb2",
   "metadata": {},
   "outputs": [],
   "source": [
    "sigma = msft.log_ret.std() # standard deviation of log returns -> Risk/Volatility\n",
    "sigma"
   ]
  },
  {
   "cell_type": "code",
   "execution_count": null,
   "id": "6276d1f3",
   "metadata": {},
   "outputs": [],
   "source": []
  },
  {
   "cell_type": "markdown",
   "id": "d91b4326",
   "metadata": {},
   "source": [
    "## Simple Returns vs Log Returns ( Part 1)"
   ]
  },
  {
   "cell_type": "code",
   "execution_count": null,
   "id": "6d3cfdeb",
   "metadata": {},
   "outputs": [],
   "source": [
    "import pandas as pd\n",
    "import numpy as np\n",
    "pd.options.display.float_format = '{:.6f}'.format"
   ]
  },
  {
   "cell_type": "code",
   "execution_count": null,
   "id": "9f28e219",
   "metadata": {},
   "outputs": [],
   "source": [
    "df = pd.DataFrame(data = [100, 50, 90], columns = [\"Price\"])\n",
    "df"
   ]
  },
  {
   "cell_type": "code",
   "execution_count": null,
   "id": "4f8cda44",
   "metadata": {},
   "outputs": [],
   "source": [
    "df[\"SR\"] = df.Price.pct_change() # simple returns"
   ]
  },
  {
   "cell_type": "code",
   "execution_count": null,
   "id": "9eaaa4bd",
   "metadata": {},
   "outputs": [],
   "source": [
    "df[\"LR\"] = np.log(df.Price / df.Price.shift()) # log returns"
   ]
  },
  {
   "cell_type": "code",
   "execution_count": null,
   "id": "d97332ce",
   "metadata": {},
   "outputs": [],
   "source": [
    "df"
   ]
  },
  {
   "cell_type": "code",
   "execution_count": null,
   "id": "c9fff857",
   "metadata": {},
   "outputs": [],
   "source": [
    "periods = df.SR.count()\n",
    "periods"
   ]
  },
  {
   "cell_type": "markdown",
   "id": "e6d64f86",
   "metadata": {},
   "source": [
    "__The arithmetic mean of simple returns can be misleading!__"
   ]
  },
  {
   "cell_type": "code",
   "execution_count": null,
   "id": "378c1131",
   "metadata": {},
   "outputs": [],
   "source": [
    "mean_sr = df.SR.mean()\n",
    "mean_sr"
   ]
  },
  {
   "cell_type": "code",
   "execution_count": null,
   "id": "9bbac9e4",
   "metadata": {},
   "outputs": [],
   "source": [
    "100 * (1 + mean_sr)**periods # wrong!!!"
   ]
  },
  {
   "cell_type": "markdown",
   "id": "be27832e",
   "metadata": {},
   "source": [
    "__We should use Compound Simple Returns / Geometric Mean, or even better...__"
   ]
  },
  {
   "cell_type": "code",
   "execution_count": null,
   "id": "0355f254",
   "metadata": {},
   "outputs": [],
   "source": [
    "geo_mean = (1 + df.SR).prod()**(1 / periods) - 1\n",
    "geo_mean"
   ]
  },
  {
   "cell_type": "code",
   "execution_count": null,
   "id": "88119da8",
   "metadata": {},
   "outputs": [],
   "source": [
    "100 * (1 + geo_mean)**periods # correct!!!"
   ]
  },
  {
   "cell_type": "markdown",
   "id": "9aa0f2fd",
   "metadata": {},
   "source": [
    "__...Log Returns which are additive over time!__"
   ]
  },
  {
   "cell_type": "code",
   "execution_count": null,
   "id": "9399f506",
   "metadata": {},
   "outputs": [],
   "source": [
    "sum_lr = df.LR.sum()\n",
    "sum_lr"
   ]
  },
  {
   "cell_type": "code",
   "execution_count": null,
   "id": "47361d04",
   "metadata": {},
   "outputs": [],
   "source": [
    "100 * np.exp(sum_lr) # correct!!!"
   ]
  },
  {
   "cell_type": "code",
   "execution_count": null,
   "id": "4d94bdf3",
   "metadata": {},
   "outputs": [],
   "source": [
    "mean_lr = df.LR.mean()\n",
    "mean_lr"
   ]
  },
  {
   "cell_type": "code",
   "execution_count": null,
   "id": "47fac2ea",
   "metadata": {},
   "outputs": [],
   "source": [
    "100 * np.exp(mean_lr * periods) # correct!!!"
   ]
  },
  {
   "cell_type": "markdown",
   "id": "595ad7f6",
   "metadata": {},
   "source": [
    "__Take Home: Log Returns are additive over time. Simple Returns are not additive over time (but they can be multiplied/compounded)__"
   ]
  },
  {
   "cell_type": "code",
   "execution_count": null,
   "id": "22b37a14",
   "metadata": {},
   "outputs": [],
   "source": []
  },
  {
   "cell_type": "markdown",
   "id": "652d274f",
   "metadata": {},
   "source": [
    "## Simple Returns vs. Log Returns (Part 2)"
   ]
  },
  {
   "cell_type": "code",
   "execution_count": null,
   "id": "7ec82fd5",
   "metadata": {},
   "outputs": [],
   "source": [
    "import pandas as pd\n",
    "import numpy as np\n",
    "pd.options.display.float_format = '{:.6f}'.format"
   ]
  },
  {
   "cell_type": "code",
   "execution_count": null,
   "id": "3a8c5e51",
   "metadata": {},
   "outputs": [],
   "source": [
    "msft = pd.read_csv(\"msft.csv\", index_col = \"Date\", parse_dates = [\"Date\"])"
   ]
  },
  {
   "cell_type": "code",
   "execution_count": null,
   "id": "254fc71e",
   "metadata": {},
   "outputs": [],
   "source": [
    "msft[\"log_ret\"] = np.log(msft.Price / msft.Price.shift())"
   ]
  },
  {
   "cell_type": "code",
   "execution_count": null,
   "id": "c8ad7fa3",
   "metadata": {},
   "outputs": [],
   "source": [
    "msft"
   ]
  },
  {
   "cell_type": "markdown",
   "id": "62f97501",
   "metadata": {},
   "source": [
    "__Investment Multiple__"
   ]
  },
  {
   "cell_type": "code",
   "execution_count": null,
   "id": "fd5a9b95",
   "metadata": {},
   "outputs": [],
   "source": [
    "msft.Returns.add(1).prod() # compounding simple returns (\"compound returns\")"
   ]
  },
  {
   "cell_type": "code",
   "execution_count": null,
   "id": "25050efd",
   "metadata": {},
   "outputs": [],
   "source": [
    "np.exp(msft.log_ret.sum())  # adding log returns (\"cumulative returns\")"
   ]
  },
  {
   "cell_type": "markdown",
   "id": "6c1767d2",
   "metadata": {},
   "source": [
    "__Normalized Prices with Base 1__"
   ]
  },
  {
   "cell_type": "code",
   "execution_count": null,
   "id": "76468313",
   "metadata": {},
   "outputs": [],
   "source": [
    "msft.Returns.add(1).cumprod() # compounding simple returns (\"compound returns\")"
   ]
  },
  {
   "cell_type": "code",
   "execution_count": null,
   "id": "32c08e10",
   "metadata": {},
   "outputs": [],
   "source": [
    "np.exp(msft.log_ret.cumsum()) # adding log returns (\"cumulative returns\")"
   ]
  },
  {
   "cell_type": "code",
   "execution_count": null,
   "id": "559bdc54",
   "metadata": {},
   "outputs": [],
   "source": [
    "msft.log_ret.cumsum().apply(np.exp) # adding log returns (\"cumulative returns\")"
   ]
  },
  {
   "cell_type": "markdown",
   "id": "41e734da",
   "metadata": {},
   "source": [
    "__CAGR__"
   ]
  },
  {
   "cell_type": "code",
   "execution_count": null,
   "id": "e2b17fb6",
   "metadata": {},
   "outputs": [],
   "source": [
    "(msft.Price[-1]/msft.Price[0])**(1/((msft.index[-1] - msft.index[0]).days / 365.25)) - 1"
   ]
  },
  {
   "cell_type": "code",
   "execution_count": null,
   "id": "b5992ae9",
   "metadata": {},
   "outputs": [],
   "source": [
    "trading_days_year = msft.Returns.count() / ((msft.index[-1] - msft.index[0]).days / 365.25)\n",
    "trading_days_year"
   ]
  },
  {
   "cell_type": "code",
   "execution_count": null,
   "id": "9acda5d7",
   "metadata": {},
   "outputs": [],
   "source": [
    "np.exp(msft.log_ret.mean() * trading_days_year) - 1 # correct with mean of daily log returns!"
   ]
  },
  {
   "cell_type": "code",
   "execution_count": null,
   "id": "6b484e17",
   "metadata": {},
   "outputs": [],
   "source": [
    "msft.Returns.mean() * trading_days_year # incorrect with mean of daily simple returns!"
   ]
  },
  {
   "cell_type": "code",
   "execution_count": null,
   "id": "78da063e",
   "metadata": {},
   "outputs": [],
   "source": [
    "np.exp(msft.log_ret.mean() * 252) - 1 # good approximation (for us stocks)"
   ]
  },
  {
   "cell_type": "code",
   "execution_count": null,
   "id": "5d8c66cf",
   "metadata": {},
   "outputs": [],
   "source": []
  },
  {
   "cell_type": "markdown",
   "id": "0643d65e",
   "metadata": {},
   "source": [
    "--------------------------------------------"
   ]
  },
  {
   "cell_type": "markdown",
   "id": "9ecb9e67",
   "metadata": {},
   "source": [
    "__Coding Challenge #4__"
   ]
  },
  {
   "cell_type": "markdown",
   "id": "0d247fe7",
   "metadata": {},
   "source": [
    "1. Calculate daily log returns for Boeing."
   ]
  },
  {
   "cell_type": "markdown",
   "id": "aaf8edc1",
   "metadata": {},
   "source": [
    "2. Use Boeing´s log returns to calculate \n",
    "- Investment Multiple\n",
    "- CAGR (assuming 252 trading days)\n",
    "- Normalized Prices (Base = 1)"
   ]
  },
  {
   "cell_type": "markdown",
   "id": "4f496b69",
   "metadata": {},
   "source": [
    "---------------------------------------------"
   ]
  },
  {
   "cell_type": "code",
   "execution_count": null,
   "id": "a5712971",
   "metadata": {},
   "outputs": [],
   "source": []
  },
  {
   "cell_type": "markdown",
   "id": "b31a152d",
   "metadata": {},
   "source": [
    "## Performance Comparison"
   ]
  },
  {
   "cell_type": "markdown",
   "id": "6bad891f",
   "metadata": {},
   "source": [
    "__General Rule in Finance/Investing: Higher Risk must be rewarded with higher Returns__."
   ]
  },
  {
   "cell_type": "markdown",
   "id": "97266cd6",
   "metadata": {},
   "source": [
    "__Which instrument(s) performed best/worst in the past in terms of risk & return?__"
   ]
  },
  {
   "cell_type": "code",
   "execution_count": null,
   "id": "d8c6ba2a",
   "metadata": {},
   "outputs": [],
   "source": [
    "import pandas as pd\n",
    "import numpy as np\n",
    "pd.options.display.float_format = '{:.4f}'.format\n",
    "import matplotlib.pyplot as plt\n",
    "#plt.style.use(\"seaborn-v0_8\")"
   ]
  },
  {
   "cell_type": "code",
   "execution_count": null,
   "id": "502adcd4",
   "metadata": {},
   "outputs": [],
   "source": [
    "close = pd.read_csv(\"close.csv\", index_col = \"Date\", parse_dates = [\"Date\"])\n",
    "close"
   ]
  },
  {
   "cell_type": "code",
   "execution_count": null,
   "id": "84d364bd",
   "metadata": {},
   "outputs": [],
   "source": [
    "close.info()"
   ]
  },
  {
   "cell_type": "code",
   "execution_count": null,
   "id": "b2efa2b1",
   "metadata": {},
   "outputs": [],
   "source": [
    "close.dropna().plot(figsize = (15, 8), fontsize = 13)\n",
    "plt.legend(fontsize = 13)\n",
    "plt.show()"
   ]
  },
  {
   "cell_type": "code",
   "execution_count": null,
   "id": "d4a4a889",
   "metadata": {},
   "outputs": [],
   "source": [
    "np.log(close / close.shift()).info() # keep NaN"
   ]
  },
  {
   "cell_type": "code",
   "execution_count": null,
   "id": "a99b01f6",
   "metadata": {},
   "outputs": [],
   "source": [
    "close.apply(lambda x: np.log(x.dropna() / x.dropna().shift())).info() # remove NaN"
   ]
  },
  {
   "cell_type": "code",
   "execution_count": null,
   "id": "dd4c2b38",
   "metadata": {},
   "outputs": [],
   "source": [
    "returns = close.apply(lambda x: np.log(x.dropna() / x.dropna().shift()))\n",
    "returns"
   ]
  },
  {
   "cell_type": "code",
   "execution_count": null,
   "id": "21015808",
   "metadata": {},
   "outputs": [],
   "source": [
    "returns.info()"
   ]
  },
  {
   "cell_type": "code",
   "execution_count": null,
   "id": "6f6ecab0",
   "metadata": {},
   "outputs": [],
   "source": [
    "returns.describe()"
   ]
  },
  {
   "cell_type": "code",
   "execution_count": null,
   "id": "bd8c3895",
   "metadata": {},
   "outputs": [],
   "source": [
    "summary = returns.agg([\"mean\", \"std\"]).T\n",
    "summary"
   ]
  },
  {
   "cell_type": "code",
   "execution_count": null,
   "id": "5242b620",
   "metadata": {},
   "outputs": [],
   "source": [
    "summary.columns = [\"Mean\", \"Std\"]\n",
    "summary"
   ]
  },
  {
   "cell_type": "code",
   "execution_count": null,
   "id": "6dc0b4a7",
   "metadata": {},
   "outputs": [],
   "source": [
    "summary.plot(kind = \"scatter\", x = \"Std\", y = \"Mean\", figsize = (15,12), s = 50, fontsize = 15)\n",
    "for i in summary.index:\n",
    "    plt.annotate(i, xy=(summary.loc[i, \"Std\"]+0.00005, summary.loc[i, \"Mean\"]+0.00005), size = 15)\n",
    "plt.xlabel(\"Risk (std)\", fontsize = 15)\n",
    "plt.ylabel(\"Mean Return\", fontsize = 15)\n",
    "plt.title(\"Mean-Variance Analysis\", fontsize = 20)\n",
    "plt.show()"
   ]
  },
  {
   "cell_type": "markdown",
   "id": "478a900b",
   "metadata": {},
   "source": [
    "-> There is __no clear \"best-performer\"__ among [\"EURUSD=X\", \"GC=F\", \"^DJI\", \"MSFT\", \"BTC-USD\"] (without further analysis). __Higher risk__ is getting rewarded with __higher returns__. __BA underperformed__."
   ]
  },
  {
   "cell_type": "code",
   "execution_count": null,
   "id": "4ab9109b",
   "metadata": {},
   "outputs": [],
   "source": []
  },
  {
   "cell_type": "markdown",
   "id": "a4ac92fe",
   "metadata": {},
   "source": [
    "__Take Home: Mean-Variance Analysis has one major shortcoming: It assumes that financial returns follow a Normal Distribution. That´s (typically) not True.<br> -> Standard Deviation of Returns underestimates the true/full risk of an Investment as it fails to measure \"Tail Risks\".__ "
   ]
  },
  {
   "cell_type": "code",
   "execution_count": null,
   "id": "58baeef9",
   "metadata": {},
   "outputs": [],
   "source": []
  },
  {
   "cell_type": "markdown",
   "id": "536ab4f2",
   "metadata": {},
   "source": [
    "## Normality of Financial Returns "
   ]
  },
  {
   "cell_type": "code",
   "execution_count": null,
   "id": "c26d4842",
   "metadata": {},
   "outputs": [],
   "source": [
    "import pandas as pd\n",
    "import numpy as np\n",
    "pd.options.display.float_format = '{:.4f}'.format\n",
    "import matplotlib.pyplot as plt\n",
    "#plt.style.use(\"seaborn-v0_8\")"
   ]
  },
  {
   "cell_type": "code",
   "execution_count": null,
   "id": "7264ef5b",
   "metadata": {},
   "outputs": [],
   "source": [
    "msft = pd.read_csv(\"msft.csv\", index_col = \"Date\", parse_dates = [\"Date\"])\n",
    "msft"
   ]
  },
  {
   "cell_type": "code",
   "execution_count": null,
   "id": "03ded835",
   "metadata": {},
   "outputs": [],
   "source": [
    "msft[\"log_ret\"] = np.log(msft.Price / msft.Price.shift()) \n",
    "msft"
   ]
  },
  {
   "cell_type": "code",
   "execution_count": null,
   "id": "b0856b5a",
   "metadata": {
    "scrolled": true
   },
   "outputs": [],
   "source": [
    "msft.describe()"
   ]
  },
  {
   "cell_type": "code",
   "execution_count": null,
   "id": "3b3f3818",
   "metadata": {},
   "outputs": [],
   "source": [
    "msft.log_ret.plot(kind = \"hist\", figsize = (15 ,8), bins = 100, fontsize = 15, density = False) # Frequency Distribution of log returns\n",
    "plt.xlabel(\"Daily Returns\", fontsize = 15)\n",
    "plt.ylabel(\"Frequency\", fontsize = 15)\n",
    "plt.title(\"Frequency Distribution of Returns\", fontsize = 20)\n",
    "plt.show()"
   ]
  },
  {
   "cell_type": "markdown",
   "id": "e3b65671",
   "metadata": {},
   "source": [
    "__Do MSFT Returns follow a Normal Distribution?__ <br><br>\n",
    "A normally distributed random variable can be fully described by its \n",
    "- mean\n",
    "- standard deviation"
   ]
  },
  {
   "cell_type": "markdown",
   "id": "a9a3b024",
   "metadata": {},
   "source": [
    "Higher Central Moments are zero:\n",
    "- Skew = 0 (measures symmetrie around the mean)\n",
    "- (Excess) Kurtosis = 0 (positve excess Kurtosis -> more observations in the \"tails\")"
   ]
  },
  {
   "cell_type": "code",
   "execution_count": null,
   "id": "9c2dc85f",
   "metadata": {
    "scrolled": true
   },
   "outputs": [],
   "source": [
    "mu = msft.log_ret.mean()\n",
    "mu"
   ]
  },
  {
   "cell_type": "code",
   "execution_count": null,
   "id": "7085eab9",
   "metadata": {},
   "outputs": [],
   "source": [
    "sigma = msft.log_ret.std()\n",
    "sigma"
   ]
  },
  {
   "cell_type": "code",
   "execution_count": null,
   "id": "d4d2420b",
   "metadata": {},
   "outputs": [],
   "source": [
    "import scipy.stats as stats"
   ]
  },
  {
   "cell_type": "code",
   "execution_count": null,
   "id": "6a46461d",
   "metadata": {},
   "outputs": [],
   "source": [
    "stats.skew(msft.log_ret.dropna()) # in a Normal Distribution: skew == 0"
   ]
  },
  {
   "cell_type": "code",
   "execution_count": null,
   "id": "37046a63",
   "metadata": {},
   "outputs": [],
   "source": [
    "stats.kurtosis(msft.log_ret.dropna(), fisher = True) # in a Normal Distribution: (fisher) kurtosis == 0"
   ]
  },
  {
   "cell_type": "markdown",
   "id": "83174c71",
   "metadata": {},
   "source": [
    "__-> MSFT Returns exhibit \"Fat Tails\" (extreme positive/negative outcomes).__"
   ]
  },
  {
   "cell_type": "code",
   "execution_count": null,
   "id": "44fb9229",
   "metadata": {},
   "outputs": [],
   "source": [
    "x = np.linspace(msft.log_ret.min(), msft.log_ret.max(), 10000)\n",
    "x"
   ]
  },
  {
   "cell_type": "code",
   "execution_count": null,
   "id": "799fc3d7",
   "metadata": {},
   "outputs": [],
   "source": [
    "y = stats.norm.pdf(x, loc = mu, scale = sigma) # creating y values a for normal distribution with mu, sigma\n",
    "y"
   ]
  },
  {
   "cell_type": "code",
   "execution_count": null,
   "id": "5aa754c1",
   "metadata": {},
   "outputs": [],
   "source": [
    "plt.figure(figsize = (20, 8))\n",
    "plt.hist(msft.log_ret, bins = 500, density = True, label = \"Frequency Distribution of daily Returns (MSFT)\")\n",
    "plt.plot(x, y, linewidth = 3, color = \"red\", label = \"Normal Distribution\")\n",
    "plt.title(\"Normal Distribution\", fontsize = 20)\n",
    "plt.xlabel(\"Daily Returns\", fontsize = 15)\n",
    "plt.ylabel(\"pdf\", fontsize = 15)\n",
    "plt.legend(fontsize = 15)\n",
    "plt.show()"
   ]
  },
  {
   "cell_type": "markdown",
   "id": "03f2a07c",
   "metadata": {},
   "source": [
    "__-> MSFT Returns exhibit \"Fat Tails\" (extreme positive/negative outcomes).__ "
   ]
  },
  {
   "cell_type": "code",
   "execution_count": null,
   "id": "0d566e2f",
   "metadata": {},
   "outputs": [],
   "source": []
  },
  {
   "cell_type": "markdown",
   "id": "a5f095f3",
   "metadata": {},
   "source": [
    "__Testing the normality of MSFT Returns based on the sample (Oct 2014 to May 2021):__ <br>\n",
    "__-> Hypothesis Test with H0 Hypothesis: MSFT Returns (full population) follow a normal Distribution.__ "
   ]
  },
  {
   "cell_type": "code",
   "execution_count": null,
   "id": "c017f284",
   "metadata": {},
   "outputs": [],
   "source": [
    "z_stat, p_value = stats.normaltest(msft.log_ret.dropna())"
   ]
  },
  {
   "cell_type": "code",
   "execution_count": null,
   "id": "ce0461c5",
   "metadata": {},
   "outputs": [],
   "source": [
    "z_stat # high values -> reject H0"
   ]
  },
  {
   "cell_type": "code",
   "execution_count": null,
   "id": "78516f83",
   "metadata": {},
   "outputs": [],
   "source": [
    "p_value # low values (close to zero) -> reject H0"
   ]
  },
  {
   "cell_type": "code",
   "execution_count": null,
   "id": "435ea9b9",
   "metadata": {},
   "outputs": [],
   "source": [
    "round(p_value, 10)"
   ]
  },
  {
   "cell_type": "markdown",
   "id": "e368f4d0",
   "metadata": {},
   "source": [
    "__-> Assuming that MSFT Returns (generally) follow a Normal Distribution, there is 0% probability that we get that extreme outcomes in a sample.__ "
   ]
  },
  {
   "cell_type": "markdown",
   "id": "19318eb4",
   "metadata": {},
   "source": [
    "__Take Home: MSFT Returns don´t follow a Normal Distribution as they exhibit \"Fat Tails\". Extreme Events/Outcomes are not reflected in the Mean-Variance Analysis. The Standard Deviation of Returns underestimates true Risk.__"
   ]
  },
  {
   "cell_type": "code",
   "execution_count": null,
   "id": "db50fcab",
   "metadata": {},
   "outputs": [],
   "source": []
  },
  {
   "cell_type": "markdown",
   "id": "a1efca54",
   "metadata": {},
   "source": [
    "## Annualizing Mean Return and Std of Returns"
   ]
  },
  {
   "cell_type": "code",
   "execution_count": null,
   "id": "48573467",
   "metadata": {},
   "outputs": [],
   "source": [
    "import pandas as pd\n",
    "import numpy as np\n",
    "import matplotlib.pyplot as plt\n",
    "pd.options.display.float_format = '{:.6f}'.format\n",
    "#plt.style.use(\"seaborn-v0_8\")"
   ]
  },
  {
   "cell_type": "code",
   "execution_count": null,
   "id": "0d79f085",
   "metadata": {},
   "outputs": [],
   "source": [
    "msft = pd.read_csv(\"msft.csv\", index_col = \"Date\", parse_dates = [\"Date\"], usecols = [\"Date\", \"Price\"])"
   ]
  },
  {
   "cell_type": "code",
   "execution_count": null,
   "id": "4b3144f6",
   "metadata": {},
   "outputs": [],
   "source": [
    "msft"
   ]
  },
  {
   "cell_type": "code",
   "execution_count": null,
   "id": "9579f6bd",
   "metadata": {},
   "outputs": [],
   "source": [
    "msft[\"log_ret\"] = np.log(msft.Price / msft.Price.shift())"
   ]
  },
  {
   "cell_type": "code",
   "execution_count": null,
   "id": "2a9e9408",
   "metadata": {},
   "outputs": [],
   "source": [
    "msft.log_ret.agg([\"mean\", \"std\"]) # mean and std based on daily returns"
   ]
  },
  {
   "cell_type": "code",
   "execution_count": null,
   "id": "5c474c31",
   "metadata": {},
   "outputs": [],
   "source": [
    "ann_mu = msft.log_ret.mean() * 252 \n",
    "ann_mu"
   ]
  },
  {
   "cell_type": "code",
   "execution_count": null,
   "id": "657fbdc5",
   "metadata": {},
   "outputs": [],
   "source": [
    "cagr = np.exp(ann_mu) - 1 # don´t mix up with cagr\n",
    "cagr"
   ]
  },
  {
   "cell_type": "code",
   "execution_count": null,
   "id": "9e9449d4",
   "metadata": {},
   "outputs": [],
   "source": [
    "ann_std = msft.log_ret.std() * np.sqrt(252) \n",
    "ann_std"
   ]
  },
  {
   "cell_type": "code",
   "execution_count": null,
   "id": "6ec01979",
   "metadata": {},
   "outputs": [],
   "source": [
    "ann_std = np.sqrt(msft.log_ret.var() * 252) # annualized std of returns (Alt 2)\n",
    "ann_std"
   ]
  },
  {
   "cell_type": "code",
   "execution_count": null,
   "id": "85797853",
   "metadata": {},
   "outputs": [],
   "source": []
  },
  {
   "cell_type": "markdown",
   "id": "1b1d9e1d",
   "metadata": {},
   "source": [
    "## Resampling / Smoothing"
   ]
  },
  {
   "cell_type": "code",
   "execution_count": null,
   "id": "011f3bcc",
   "metadata": {},
   "outputs": [],
   "source": [
    "msft.Price.plot(figsize = (12, 8))\n",
    "plt.legend()\n",
    "plt.show()"
   ]
  },
  {
   "cell_type": "code",
   "execution_count": null,
   "id": "08fc5193",
   "metadata": {},
   "outputs": [],
   "source": [
    "monthly = msft.Price.resample(\"M\").last() ## resample to monthly (month end)\n",
    "monthly"
   ]
  },
  {
   "cell_type": "code",
   "execution_count": null,
   "id": "b2b442d2",
   "metadata": {},
   "outputs": [],
   "source": [
    "monthly.plot(figsize = (12, 8))\n",
    "plt.legend()\n",
    "plt.show()"
   ]
  },
  {
   "cell_type": "markdown",
   "id": "54b0535e",
   "metadata": {},
   "source": [
    "__How will the Mean-Variance Analysis change with smoothed data?__"
   ]
  },
  {
   "cell_type": "code",
   "execution_count": null,
   "id": "674f0bfe",
   "metadata": {},
   "outputs": [],
   "source": [
    "freqs = [\"A\", \"Q\", \"M\", \"W-Fri\", \"D\"]\n",
    "periods = [1, 4, 12, 52, 252]\n",
    "ann_mean = []\n",
    "ann_std = []"
   ]
  },
  {
   "cell_type": "code",
   "execution_count": null,
   "id": "1fa8554f",
   "metadata": {},
   "outputs": [],
   "source": [
    "for i in range(5):\n",
    "    resamp = msft.Price.resample(freqs[i]).last() # resample\n",
    "    ann_mean.append(np.log(resamp / resamp.shift()).mean() * periods[i]) # calc. annualized mean\n",
    "    ann_std.append(np.log(resamp / resamp.shift()).std() * np.sqrt(periods[i])) # calc. annualized std"
   ]
  },
  {
   "cell_type": "code",
   "execution_count": null,
   "id": "b9b4fcae",
   "metadata": {},
   "outputs": [],
   "source": [
    "ann_mean"
   ]
  },
  {
   "cell_type": "code",
   "execution_count": null,
   "id": "21006017",
   "metadata": {},
   "outputs": [],
   "source": [
    "summary = pd.DataFrame(data = {\"ann_std\":ann_std, \"ann_mean\":ann_mean}, index = freqs)\n",
    "summary"
   ]
  },
  {
   "cell_type": "code",
   "execution_count": null,
   "id": "13778d53",
   "metadata": {},
   "outputs": [],
   "source": [
    "summary.plot(kind = \"scatter\", x = \"ann_std\", y = \"ann_mean\", figsize = (15,12), s = 50, fontsize = 15)\n",
    "for i in summary.index:\n",
    "    plt.annotate(i, xy=(summary.loc[i, \"ann_std\"]+0.001, summary.loc[i, \"ann_mean\"]+0.001), size = 15)\n",
    "plt.ylim(0, 0.3)\n",
    "plt.xlabel(\"ann. Risk(std)\", fontsize = 15)\n",
    "plt.ylabel(\"ann. Return\", fontsize = 15)\n",
    "plt.title(\"Risk/Return\", fontsize = 20)\n",
    "plt.show()"
   ]
  },
  {
   "cell_type": "markdown",
   "id": "de6c42b0",
   "metadata": {},
   "source": [
    "__-> Smoothing reduces (observed) Risk__. "
   ]
  },
  {
   "cell_type": "markdown",
   "id": "c8e16920",
   "metadata": {},
   "source": [
    "Dubious practices:\n",
    "- Managing (Manipulating) Performance in Performance Reportings.\n",
    "- Comparing assets with different granularity and pricing mechanisms -> e.g. non-listed (alternative assets) vs. listed assets \n",
    "- Adjusting granularity to investor´s (average) holding period -> Volatility is still there."
   ]
  },
  {
   "cell_type": "code",
   "execution_count": null,
   "id": "88b327d3",
   "metadata": {},
   "outputs": [],
   "source": []
  },
  {
   "cell_type": "markdown",
   "id": "79664c0c",
   "metadata": {},
   "source": [
    "## Rolling Statistics"
   ]
  },
  {
   "cell_type": "markdown",
   "id": "e0cc78b5",
   "metadata": {},
   "source": [
    "__(Another) general Rule in Finance/Investing: Past performance is not an indicator of future performance__."
   ]
  },
  {
   "cell_type": "code",
   "execution_count": null,
   "id": "5b2c5f5e",
   "metadata": {},
   "outputs": [],
   "source": [
    "msft"
   ]
  },
  {
   "cell_type": "code",
   "execution_count": null,
   "id": "57aca39b",
   "metadata": {},
   "outputs": [],
   "source": [
    "ann_mu = msft.log_ret.mean() * 252 # annualized mean return\n",
    "ann_mu"
   ]
  },
  {
   "cell_type": "code",
   "execution_count": null,
   "id": "2cd35648",
   "metadata": {},
   "outputs": [],
   "source": [
    "ann_std = msft.log_ret.std() * np.sqrt(252) # annualized std of returns (Alt 1)\n",
    "ann_std"
   ]
  },
  {
   "cell_type": "markdown",
   "id": "fade509a",
   "metadata": {},
   "source": [
    "__Are Return and Risk constant over time? No, of course not! They change over time.__"
   ]
  },
  {
   "cell_type": "markdown",
   "id": "4249b6e5",
   "metadata": {},
   "source": [
    "__Let´s measure/quantify this with rolling statistics!__"
   ]
  },
  {
   "cell_type": "code",
   "execution_count": null,
   "id": "ff0a7754",
   "metadata": {},
   "outputs": [],
   "source": [
    "window = 252 # rolling window 252 trading days (~ 1 Year)"
   ]
  },
  {
   "cell_type": "code",
   "execution_count": null,
   "id": "43799b82",
   "metadata": {},
   "outputs": [],
   "source": [
    "msft.log_ret.rolling(window = 252)"
   ]
  },
  {
   "cell_type": "code",
   "execution_count": null,
   "id": "70f8b5c8",
   "metadata": {},
   "outputs": [],
   "source": [
    "msft.log_ret.rolling(window = 252).sum() # Alt 1"
   ]
  },
  {
   "cell_type": "code",
   "execution_count": null,
   "id": "514392a0",
   "metadata": {},
   "outputs": [],
   "source": [
    "roll_mean = msft.log_ret.rolling(window = 252).mean() * 252 # Alt 2\n",
    "roll_mean"
   ]
  },
  {
   "cell_type": "code",
   "execution_count": null,
   "id": "21ef3ad9",
   "metadata": {},
   "outputs": [],
   "source": [
    "roll_mean.iloc[250:]"
   ]
  },
  {
   "cell_type": "code",
   "execution_count": null,
   "id": "754483f4",
   "metadata": {},
   "outputs": [],
   "source": [
    "roll_mean.plot(figsize = (12, 8))\n",
    "plt.show()"
   ]
  },
  {
   "cell_type": "code",
   "execution_count": null,
   "id": "2bdff238",
   "metadata": {},
   "outputs": [],
   "source": [
    "roll_std = msft.log_ret.rolling(window = 252).std() * np.sqrt(252)\n",
    "roll_std"
   ]
  },
  {
   "cell_type": "code",
   "execution_count": null,
   "id": "e3ae40ce",
   "metadata": {},
   "outputs": [],
   "source": [
    "roll_std.plot(figsize = (12, 8))\n",
    "plt.show()"
   ]
  },
  {
   "cell_type": "code",
   "execution_count": null,
   "id": "fa4d7119",
   "metadata": {},
   "outputs": [],
   "source": [
    "roll_mean.plot(figsize = (12, 8))\n",
    "roll_std.plot()\n",
    "plt.show()"
   ]
  },
  {
   "cell_type": "markdown",
   "id": "92f475b9",
   "metadata": {},
   "source": [
    "__Take Home__: Be careful, you´ll always find (sub-)periods with __low returns & high risk__ and __high returns & low risk__. "
   ]
  },
  {
   "cell_type": "markdown",
   "id": "f6656322",
   "metadata": {},
   "source": [
    "- Analysis Period must be __sufficiently long__ to reduce impact of random noise. <br>\n",
    "- Analysis Period should be __as short as possible__ and should only include the __latest trends / regimes__.\n",
    "- Commonly used reporting period: __3 Years / 36 Months__"
   ]
  },
  {
   "cell_type": "markdown",
   "id": "8f2fd353",
   "metadata": {},
   "source": [
    "__Another Example: Simple Moving Average (Prices) - SMA__"
   ]
  },
  {
   "cell_type": "code",
   "execution_count": null,
   "id": "c68c9001",
   "metadata": {},
   "outputs": [],
   "source": [
    "sma_window = 50"
   ]
  },
  {
   "cell_type": "code",
   "execution_count": null,
   "id": "55187bd8",
   "metadata": {},
   "outputs": [],
   "source": [
    "msft.Price.plot(figsize = (12, 8))\n",
    "msft.Price.rolling(sma_window).mean().plot()\n",
    "plt.show()"
   ]
  },
  {
   "cell_type": "code",
   "execution_count": null,
   "id": "4f4a4559",
   "metadata": {},
   "outputs": [],
   "source": []
  },
  {
   "cell_type": "markdown",
   "id": "b1bef586",
   "metadata": {},
   "source": [
    "--------------------------------------------"
   ]
  },
  {
   "cell_type": "markdown",
   "id": "d9a671cf",
   "metadata": {},
   "source": [
    "__Coding Challenge #5__"
   ]
  },
  {
   "cell_type": "markdown",
   "id": "fa7b5c75",
   "metadata": {},
   "source": [
    "1. Calculate daily log returns for Boeing.\n",
    "\n",
    "2. Use Boeing´s daily log returns to calculate the annualized mean and annualized std (assume 252 trading days per year).\n",
    "\n",
    "3. Resample to monthly prices and compare the annualized std (monthly) with the annualized std (daily). Any differences?\n",
    "\n",
    "4. Keep working with monthly data and calculate/visualize the rolling 36 months mean return (annualized)."
   ]
  },
  {
   "cell_type": "markdown",
   "id": "c5f5af66",
   "metadata": {},
   "source": [
    "---------------------------------------------"
   ]
  },
  {
   "cell_type": "code",
   "execution_count": null,
   "id": "63849fad",
   "metadata": {},
   "outputs": [],
   "source": []
  },
  {
   "cell_type": "markdown",
   "id": "8346ef58",
   "metadata": {},
   "source": [
    "## Short Selling / Short Positions (Part 1)"
   ]
  },
  {
   "cell_type": "markdown",
   "id": "82987a01",
   "metadata": {},
   "source": [
    "What´s the rational behind short selling an instrument? <br>\n",
    "__-> making profits/positive returns when prices fall.__"
   ]
  },
  {
   "cell_type": "markdown",
   "id": "576c3041",
   "metadata": {},
   "source": [
    "__Stocks Example:__"
   ]
  },
  {
   "cell_type": "markdown",
   "id": "a64d7598",
   "metadata": {},
   "source": [
    "Today an Investor __buys__ the ABC Stock for USD 100. One day later he __sells__ the stock for USD 110. <br> \n",
    "__-> Profit: USD 10__ <br>\n",
    "->__Long Position__ (benefit from rising prices):"
   ]
  },
  {
   "cell_type": "markdown",
   "id": "c463120a",
   "metadata": {},
   "source": [
    "Today an Investor __borrows__ the ABC Stock from another Investor and __sells__ it for USD 100. One day later he __buys__ the stock for USD 90 and __returns__ it to the lender.<br>\n",
    "__-> Profit: USD 10__  <br>\n",
    "->__Short Position__ (benefit from falling prices):"
   ]
  },
  {
   "cell_type": "markdown",
   "id": "c82b4639",
   "metadata": {},
   "source": [
    "In some countries (and for some instruments like stocks) short selling is prohibited. <br>\n",
    "Most intuitive/popular use case for short selling: __Currencies (Forex)__"
   ]
  },
  {
   "cell_type": "code",
   "execution_count": null,
   "id": "77d79a46",
   "metadata": {},
   "outputs": [],
   "source": []
  },
  {
   "cell_type": "markdown",
   "id": "8db012e2",
   "metadata": {},
   "source": [
    "## Short Selling / Short Positions (Part 2)"
   ]
  },
  {
   "cell_type": "markdown",
   "id": "b09d3d71",
   "metadata": {},
   "source": [
    "__EUR/USD__ (\"Long Euro\" == \"Short USD\")"
   ]
  },
  {
   "cell_type": "code",
   "execution_count": null,
   "id": "2f00f156",
   "metadata": {},
   "outputs": [],
   "source": [
    "t0 = 1.10\n",
    "t1 = 1.25"
   ]
  },
  {
   "cell_type": "markdown",
   "id": "e2fe1b3a",
   "metadata": {},
   "source": [
    "Today an Investor __buys__ EUR 1 and pays USD 1.10. One day later he __sells__ EUR 1 for USD 1.25 <br>\n",
    "__-> Profit: USD 0.15__  <br>\n",
    "->__Long Position Euro__ (benefit from rising EUR prices):"
   ]
  },
  {
   "cell_type": "code",
   "execution_count": null,
   "id": "7c8e6ac7",
   "metadata": {},
   "outputs": [],
   "source": [
    "t1 / t0 - 1 # The EUR appreciates by 13.64% relative to USD (simple return)"
   ]
  },
  {
   "cell_type": "markdown",
   "id": "e7f468ad",
   "metadata": {},
   "source": [
    "-> EUR __Long__ Position returns __+13.64%__ (simple return) "
   ]
  },
  {
   "cell_type": "markdown",
   "id": "085ac6a7",
   "metadata": {},
   "source": [
    "What return would you expect for the corresponding EUR __Short__ position? That´s a \"no brainer\": __-13.64%__, right? "
   ]
  },
  {
   "cell_type": "markdown",
   "id": "2279597f",
   "metadata": {},
   "source": [
    "__Surprisingly, that´s incorrect!!!__"
   ]
  },
  {
   "cell_type": "code",
   "execution_count": null,
   "id": "cc82eb85",
   "metadata": {},
   "outputs": [],
   "source": []
  },
  {
   "cell_type": "markdown",
   "id": "b70bd922",
   "metadata": {},
   "source": [
    "Inverse Rate: __USD/EUR__ (\"Short Euro\" == \"Long USD\")"
   ]
  },
  {
   "cell_type": "code",
   "execution_count": null,
   "id": "8d470416",
   "metadata": {},
   "outputs": [],
   "source": [
    "t0 = 1 / 1.10\n",
    "t1 = 1 / 1.25"
   ]
  },
  {
   "cell_type": "code",
   "execution_count": null,
   "id": "55371bba",
   "metadata": {},
   "outputs": [],
   "source": [
    "print(t0, t1)"
   ]
  },
  {
   "cell_type": "markdown",
   "id": "6c880408",
   "metadata": {},
   "source": [
    "Today an Investor __buys__ USD 1 and pays 0.9091 Euro. One day later he __sells__ USD 1 for EUR 0.8 __<br>\n",
    "-> Loss: EUR 0.1091__  <br>"
   ]
  },
  {
   "cell_type": "code",
   "execution_count": null,
   "id": "38df904d",
   "metadata": {},
   "outputs": [],
   "source": [
    "t1 / t0 - 1 # The USD depreciates by 12.0% relative to EUR"
   ]
  },
  {
   "cell_type": "markdown",
   "id": "5bf61aa5",
   "metadata": {},
   "source": [
    "-> EUR __Short__ Position returns __-12.0%__ (simple return)"
   ]
  },
  {
   "cell_type": "markdown",
   "id": "1fee9e1d",
   "metadata": {},
   "source": [
    "__Take Home: When using simple returns, long position return != short position return * (-1)__ <br>\n",
    "__-> Use log returns!__"
   ]
  },
  {
   "cell_type": "code",
   "execution_count": null,
   "id": "218ce9b7",
   "metadata": {},
   "outputs": [],
   "source": []
  },
  {
   "cell_type": "markdown",
   "id": "5d5485db",
   "metadata": {},
   "source": [
    "## Short Selling / Short Positions (Part 3)"
   ]
  },
  {
   "cell_type": "code",
   "execution_count": null,
   "id": "bfa716c8",
   "metadata": {},
   "outputs": [],
   "source": [
    "import pandas as pd\n",
    "import numpy as np\n",
    "import matplotlib.pyplot as plt\n",
    "pd.options.display.float_format = '{:.6f}'.format\n",
    "#plt.style.use(\"seaborn-v0_8\")"
   ]
  },
  {
   "cell_type": "code",
   "execution_count": null,
   "id": "6943db4a",
   "metadata": {},
   "outputs": [],
   "source": [
    "close = pd.read_csv(\"close.csv\", index_col = \"Date\", parse_dates = [\"Date\"])\n",
    "close"
   ]
  },
  {
   "cell_type": "code",
   "execution_count": null,
   "id": "676ca33e",
   "metadata": {},
   "outputs": [],
   "source": [
    "close[\"USDEUR=X\"] = 1/close[\"EURUSD=X\"]"
   ]
  },
  {
   "cell_type": "code",
   "execution_count": null,
   "id": "6ec4577c",
   "metadata": {},
   "outputs": [],
   "source": [
    "close"
   ]
  },
  {
   "cell_type": "code",
   "execution_count": null,
   "id": "ace97635",
   "metadata": {},
   "outputs": [],
   "source": [
    "fx = close[[\"EURUSD=X\", \"USDEUR=X\"]].dropna().copy()"
   ]
  },
  {
   "cell_type": "code",
   "execution_count": null,
   "id": "067e7984",
   "metadata": {},
   "outputs": [],
   "source": [
    "fx"
   ]
  },
  {
   "cell_type": "code",
   "execution_count": null,
   "id": "ddc89855",
   "metadata": {},
   "outputs": [],
   "source": [
    "fx.plot(figsize = (12,8), fontsize = 13)\n",
    "plt.legend(fontsize = 13)\n",
    "plt.show()"
   ]
  },
  {
   "cell_type": "code",
   "execution_count": null,
   "id": "d6f970d8",
   "metadata": {},
   "outputs": [],
   "source": [
    "simple_ret = fx.pct_change() # simple returns\n",
    "simple_ret"
   ]
  },
  {
   "cell_type": "code",
   "execution_count": null,
   "id": "566d2668",
   "metadata": {},
   "outputs": [],
   "source": [
    "simple_ret.add(1).prod() - 1 # compound simple returns"
   ]
  },
  {
   "cell_type": "markdown",
   "id": "4f5612b5",
   "metadata": {},
   "source": [
    "__-> For simple returns: long position returns != short position returns * (-1)__"
   ]
  },
  {
   "cell_type": "code",
   "execution_count": null,
   "id": "57b05553",
   "metadata": {},
   "outputs": [],
   "source": [
    "log_ret = np.log(fx / fx.shift()) # log returns\n",
    "log_ret"
   ]
  },
  {
   "cell_type": "code",
   "execution_count": null,
   "id": "7b786eb8",
   "metadata": {},
   "outputs": [],
   "source": [
    "log_ret.sum() # cumulative log returns"
   ]
  },
  {
   "cell_type": "markdown",
   "id": "91ddfaa1",
   "metadata": {},
   "source": [
    "__-> For log returns: long position returns == short position returns * (-1)__"
   ]
  },
  {
   "cell_type": "code",
   "execution_count": null,
   "id": "35d43416",
   "metadata": {},
   "outputs": [],
   "source": [
    "norm_fx = log_ret.cumsum().apply(np.exp) # normalized prices (Base 1)\n",
    "norm_fx"
   ]
  },
  {
   "cell_type": "code",
   "execution_count": null,
   "id": "7fca5ed0",
   "metadata": {},
   "outputs": [],
   "source": [
    "norm_fx.iloc[0] = [1, 1]"
   ]
  },
  {
   "cell_type": "code",
   "execution_count": null,
   "id": "c2c26e4b",
   "metadata": {},
   "outputs": [],
   "source": [
    "norm_fx"
   ]
  },
  {
   "cell_type": "code",
   "execution_count": null,
   "id": "d0c27767",
   "metadata": {},
   "outputs": [],
   "source": [
    "norm_fx.plot(figsize = (12,8), fontsize = 13)\n",
    "plt.legend(fontsize = 13)\n",
    "plt.show()"
   ]
  },
  {
   "cell_type": "code",
   "execution_count": null,
   "id": "a1b2a767",
   "metadata": {},
   "outputs": [],
   "source": []
  },
  {
   "cell_type": "markdown",
   "id": "9ed022d5",
   "metadata": {},
   "source": [
    "--------------------------------------------"
   ]
  },
  {
   "cell_type": "markdown",
   "id": "cf21f249",
   "metadata": {},
   "source": [
    "__Coding Challenge #6__"
   ]
  },
  {
   "cell_type": "markdown",
   "id": "ce3409fc",
   "metadata": {},
   "source": [
    "1. Calculate daily log returns for Boeing.\n",
    "\n",
    "2. Calculate the annualized mean and annualized std (assume 252 trading days per year) for a short position in Boeing (ignore Trading and Borrowing Costs)."
   ]
  },
  {
   "cell_type": "markdown",
   "id": "e186bffe",
   "metadata": {},
   "source": [
    "---------------------------------------------"
   ]
  },
  {
   "cell_type": "code",
   "execution_count": null,
   "id": "10489de9",
   "metadata": {},
   "outputs": [],
   "source": []
  },
  {
   "cell_type": "markdown",
   "id": "7e90f89c",
   "metadata": {},
   "source": [
    "## Covariance and Correlation"
   ]
  },
  {
   "cell_type": "markdown",
   "id": "8e19f137",
   "metadata": {},
   "source": [
    "Do instruments/assets __move together__ (and to what extent)? <br>\n",
    "\n",
    "Three cases:\n",
    "- unrelated (__no__ relationship/correlation)\n",
    "- moving together (__positive__ relationship/correlation)\n",
    "- moving in opposite directions (__negative__ relationship/correlation) "
   ]
  },
  {
   "cell_type": "markdown",
   "id": "dd2e87dc",
   "metadata": {},
   "source": [
    "__-> Correlation between instruments/assets play an important role in portfolio management.__"
   ]
  },
  {
   "cell_type": "code",
   "execution_count": null,
   "id": "f0025956",
   "metadata": {},
   "outputs": [],
   "source": [
    "import pandas as pd\n",
    "import numpy as np\n",
    "pd.options.display.float_format = '{:.4f}'.format\n",
    "import matplotlib.pyplot as plt\n",
    "#plt.style.use(\"seaborn-v0_8\")"
   ]
  },
  {
   "cell_type": "code",
   "execution_count": null,
   "id": "3ab21e16",
   "metadata": {},
   "outputs": [],
   "source": [
    "close = pd.read_csv(\"close.csv\", index_col = \"Date\", parse_dates = [\"Date\"])\n",
    "close"
   ]
  },
  {
   "cell_type": "code",
   "execution_count": null,
   "id": "9c3c1c36",
   "metadata": {},
   "outputs": [],
   "source": [
    "close[\"USDEUR=X\"] = 1/close[\"EURUSD=X\"]\n",
    "close"
   ]
  },
  {
   "cell_type": "code",
   "execution_count": null,
   "id": "f8502148",
   "metadata": {},
   "outputs": [],
   "source": [
    "returns = close.apply(lambda x: np.log(x.dropna() / x.dropna().shift()))\n",
    "returns"
   ]
  },
  {
   "cell_type": "code",
   "execution_count": null,
   "id": "dc7993fd",
   "metadata": {},
   "outputs": [],
   "source": [
    "returns.cov() # covariance (hard to interpret)"
   ]
  },
  {
   "cell_type": "code",
   "execution_count": null,
   "id": "15caf37f",
   "metadata": {},
   "outputs": [],
   "source": [
    "returns.corr() # correlation coefficient (easy to interpret)"
   ]
  },
  {
   "cell_type": "markdown",
   "id": "162a25f7",
   "metadata": {},
   "source": [
    "Three cases:\n",
    "- no correlation: __correlation coefficient == 0__\n",
    "- moving together: __0 < correlation coefficient <= 1__ (positive)\n",
    "- moving in opposite directions: __-1 <= correlation coefficient < 0__ (negative)"
   ]
  },
  {
   "cell_type": "code",
   "execution_count": null,
   "id": "bde11c1f",
   "metadata": {},
   "outputs": [],
   "source": [
    "import seaborn as sns"
   ]
  },
  {
   "cell_type": "code",
   "execution_count": null,
   "id": "c281faae",
   "metadata": {},
   "outputs": [],
   "source": [
    "plt.figure(figsize=(12,8))\n",
    "sns.set(font_scale=1.4)\n",
    "sns.heatmap(returns.corr(), cmap = \"RdYlBu_r\", annot = True, annot_kws={\"size\":15}, vmin = -1, vmax = 1)\n",
    "plt.show()"
   ]
  },
  {
   "cell_type": "markdown",
   "id": "8e85e4e4",
   "metadata": {},
   "source": [
    "__Take Home: Similar assets are (highly) positive correlated. Different assets exhibit low/no/negative correlation.__ <br>\n",
    "-> In portfolio management it´s beneficial to have assets with low/no/negative correlation (portfolio diversification effect)."
   ]
  },
  {
   "cell_type": "code",
   "execution_count": null,
   "id": "b83618c9",
   "metadata": {},
   "outputs": [],
   "source": []
  },
  {
   "cell_type": "markdown",
   "id": "d10aa0f1",
   "metadata": {},
   "source": [
    "## Portfolio of Assets and Portfolio Returns"
   ]
  },
  {
   "cell_type": "code",
   "execution_count": null,
   "id": "f79bbd8a",
   "metadata": {},
   "outputs": [],
   "source": [
    "import pandas as pd\n",
    "import numpy as np"
   ]
  },
  {
   "cell_type": "code",
   "execution_count": null,
   "id": "6890be7a",
   "metadata": {},
   "outputs": [],
   "source": [
    "prices = pd.DataFrame(data = {\"Asset_A\": [100, 112], \"Asset_B\":[100, 104]}, index = [0, 1])\n",
    "prices"
   ]
  },
  {
   "cell_type": "code",
   "execution_count": null,
   "id": "ed5c96d7",
   "metadata": {},
   "outputs": [],
   "source": [
    "prices[\"Total\"] = prices.Asset_A + prices.Asset_B"
   ]
  },
  {
   "cell_type": "code",
   "execution_count": null,
   "id": "75e30f04",
   "metadata": {},
   "outputs": [],
   "source": [
    "prices"
   ]
  },
  {
   "cell_type": "code",
   "execution_count": null,
   "id": "ea29ceed",
   "metadata": {},
   "outputs": [],
   "source": [
    "returns = prices.pct_change() # simple returns\n",
    "returns"
   ]
  },
  {
   "cell_type": "code",
   "execution_count": null,
   "id": "fc6a9283",
   "metadata": {},
   "outputs": [],
   "source": [
    "0.5 * 0.12 + 0.5 * 0.04 # correct (portfolio return == weighted average of simple returns)"
   ]
  },
  {
   "cell_type": "code",
   "execution_count": null,
   "id": "81f48cb0",
   "metadata": {},
   "outputs": [],
   "source": [
    "log_returns = np.log(prices / prices.shift()) # log returns\n",
    "log_returns"
   ]
  },
  {
   "cell_type": "code",
   "execution_count": null,
   "id": "69a5f99f",
   "metadata": {},
   "outputs": [],
   "source": [
    "0.5 * log_returns.iloc[1,0] + 0.5 * log_returns.iloc[1,1] # incorrect (portfolio return != weighted average of log returns)"
   ]
  },
  {
   "cell_type": "markdown",
   "id": "9d27eb46",
   "metadata": {},
   "source": [
    "__Take Home: While log returns are time-additive, they are not asset-additive.__ <br>\n",
    "(While simple returns are not time-additive, they are asset-additive.)"
   ]
  },
  {
   "cell_type": "code",
   "execution_count": null,
   "id": "8cb0a355",
   "metadata": {},
   "outputs": [],
   "source": []
  },
  {
   "cell_type": "markdown",
   "id": "e71f16b9",
   "metadata": {},
   "source": [
    "## Margin Trading & Levered Returns (Part 1)"
   ]
  },
  {
   "cell_type": "markdown",
   "id": "2e88160c",
   "metadata": {},
   "source": [
    "__Definition__: \"Margin trading refers to the practice of using __borrowed funds__ from a broker to trade a financial asset, which forms the collateral for the loan from the broker.\" (Investopedia.com) "
   ]
  },
  {
   "cell_type": "markdown",
   "id": "a70c794c",
   "metadata": {},
   "source": [
    "In Simple Words: Investors __don´t pay the full price__ but they get the full benefit (less borrowing costs)."
   ]
  },
  {
   "cell_type": "markdown",
   "id": "e0a8bf96",
   "metadata": {},
   "source": [
    "It´s a two edged sword: Leverage __amplifies both gains and losses__. <br> In the event of a loss, the collateral gets reduced and the Investor either posts additional margin or the brokers closes the position."
   ]
  },
  {
   "cell_type": "markdown",
   "id": "746f4aad",
   "metadata": {},
   "source": [
    "__Example__"
   ]
  },
  {
   "cell_type": "markdown",
   "id": "16e5d162",
   "metadata": {},
   "source": [
    "A Trader buys a stock (stock price: 100) __on margin (50%)__. After one day the price increases to 110.<br>\n",
    "Calculate __unlevered return__ and __levered return__."
   ]
  },
  {
   "cell_type": "code",
   "execution_count": null,
   "id": "cc5ba735",
   "metadata": {},
   "outputs": [],
   "source": [
    "P0 = 100\n",
    "P1 = 110\n",
    "leverage = 2\n",
    "margin = P0/2"
   ]
  },
  {
   "cell_type": "code",
   "execution_count": null,
   "id": "6faa4790",
   "metadata": {},
   "outputs": [],
   "source": [
    "margin"
   ]
  },
  {
   "cell_type": "code",
   "execution_count": null,
   "id": "1333aa39",
   "metadata": {},
   "outputs": [],
   "source": [
    "unlev_return = (P1 - P0) / P0 # simple return\n",
    "unlev_return"
   ]
  },
  {
   "cell_type": "code",
   "execution_count": null,
   "id": "594bd3e6",
   "metadata": {},
   "outputs": [],
   "source": [
    "lev_return = (P1 - P0) / margin # simple return \n",
    "lev_return"
   ]
  },
  {
   "cell_type": "code",
   "execution_count": null,
   "id": "1fd2ad80",
   "metadata": {},
   "outputs": [],
   "source": [
    "lev_return == unlev_return * leverage # this relationship is true for simple returns..."
   ]
  },
  {
   "cell_type": "code",
   "execution_count": null,
   "id": "9ed32cd5",
   "metadata": {},
   "outputs": [],
   "source": [
    "unlev_return = np.log((P1 - P0) / P0 + 1) # log return\n",
    "unlev_return"
   ]
  },
  {
   "cell_type": "code",
   "execution_count": null,
   "id": "c147a8aa",
   "metadata": {},
   "outputs": [],
   "source": [
    "lev_return = np.log((P1 - P0) / margin + 1) # log return\n",
    "lev_return"
   ]
  },
  {
   "cell_type": "code",
   "execution_count": null,
   "id": "73881b7b",
   "metadata": {
    "scrolled": true
   },
   "outputs": [],
   "source": [
    "lev_return == unlev_return * leverage # this relationship does not hold for log returns..."
   ]
  },
  {
   "cell_type": "markdown",
   "id": "1707e9db",
   "metadata": {},
   "source": [
    "__Take Home: To calculate levered returns, don´t multiply leverage with log returns!__"
   ]
  },
  {
   "cell_type": "code",
   "execution_count": null,
   "id": "66928ffb",
   "metadata": {},
   "outputs": [],
   "source": []
  },
  {
   "cell_type": "markdown",
   "id": "63baa682",
   "metadata": {},
   "source": [
    "## Margin Trading & Levered Returns (Part 2)"
   ]
  },
  {
   "cell_type": "markdown",
   "id": "da4e088c",
   "metadata": {},
   "source": [
    "__Hypothesis: For (highly) profitable Investment: The more leverage, the better?__"
   ]
  },
  {
   "cell_type": "code",
   "execution_count": null,
   "id": "bd1ffd56",
   "metadata": {},
   "outputs": [],
   "source": [
    "import pandas as pd\n",
    "import numpy as np\n",
    "pd.options.display.float_format = '{:.4f}'.format\n",
    "import matplotlib.pyplot as plt\n",
    "#plt.style.use(\"seaborn-v0_8\")"
   ]
  },
  {
   "cell_type": "code",
   "execution_count": null,
   "id": "5d639f24",
   "metadata": {},
   "outputs": [],
   "source": [
    "msft = pd.read_csv(\"msft.csv\", index_col = \"Date\", parse_dates = [\"Date\"])\n",
    "msft"
   ]
  },
  {
   "cell_type": "code",
   "execution_count": null,
   "id": "0c55b20b",
   "metadata": {},
   "outputs": [],
   "source": [
    "msft[\"Simple_Ret\"] = msft.Price.pct_change() # simple returns"
   ]
  },
  {
   "cell_type": "code",
   "execution_count": null,
   "id": "8ccde2b3",
   "metadata": {},
   "outputs": [],
   "source": [
    "leverage = 2"
   ]
  },
  {
   "cell_type": "markdown",
   "id": "72704910",
   "metadata": {},
   "source": [
    "(Simplified) __Assumptions__:\n",
    "- Restore leverage on a daily basis (by buying/selling shares)\n",
    "- no trading costs\n",
    "- no borrowing costs"
   ]
  },
  {
   "cell_type": "code",
   "execution_count": null,
   "id": "901b3aa1",
   "metadata": {},
   "outputs": [],
   "source": [
    "msft[\"Lev_Returns\"] = msft.Returns.mul(leverage) # levered simple returns\n",
    "msft"
   ]
  },
  {
   "cell_type": "code",
   "execution_count": null,
   "id": "cf0c4ebe",
   "metadata": {},
   "outputs": [],
   "source": [
    "msft[\"Lev_Returns\"] = np.where(msft[\"Lev_Returns\"] < -1, -1, msft[\"Lev_Returns\"])"
   ]
  },
  {
   "cell_type": "code",
   "execution_count": null,
   "id": "158a959c",
   "metadata": {},
   "outputs": [],
   "source": [
    "msft"
   ]
  },
  {
   "cell_type": "code",
   "execution_count": null,
   "id": "918db0aa",
   "metadata": {},
   "outputs": [],
   "source": [
    "msft[[\"Returns\", \"Lev_Returns\"]].add(1).cumprod().plot(figsize = (15, 8), fontsize = 13)\n",
    "plt.legend(fontsize = 13)\n",
    "plt.show()"
   ]
  },
  {
   "cell_type": "code",
   "execution_count": null,
   "id": "a0b84d5e",
   "metadata": {},
   "outputs": [],
   "source": [
    "msft.Simple_Ret.max()"
   ]
  },
  {
   "cell_type": "code",
   "execution_count": null,
   "id": "fac25a57",
   "metadata": {},
   "outputs": [],
   "source": [
    "msft.Lev_Returns.max()"
   ]
  },
  {
   "cell_type": "code",
   "execution_count": null,
   "id": "8792eef4",
   "metadata": {},
   "outputs": [],
   "source": [
    "msft.Simple_Ret.min()"
   ]
  },
  {
   "cell_type": "code",
   "execution_count": null,
   "id": "4326269a",
   "metadata": {},
   "outputs": [],
   "source": [
    "msft.Lev_Returns.min()"
   ]
  },
  {
   "cell_type": "markdown",
   "id": "185b3a07",
   "metadata": {},
   "source": [
    "__What happens when leverage greater than...?__"
   ]
  },
  {
   "cell_type": "code",
   "execution_count": null,
   "id": "11577981",
   "metadata": {},
   "outputs": [],
   "source": [
    "-1 / msft.Simple_Ret.min()"
   ]
  },
  {
   "cell_type": "code",
   "execution_count": null,
   "id": "86b0e909",
   "metadata": {},
   "outputs": [],
   "source": []
  },
  {
   "cell_type": "markdown",
   "id": "1afedf9d",
   "metadata": {},
   "source": [
    "__Take Home:__\n",
    "1. With Leverage you can (theoretically) __lose more than the initial Margin__ (in practice: margin call / margin closeout before)\n",
    "2. Even for (highly) profitable instruments: __\"The more leverage the better\" does not hold__.\n",
    "3. It´s a two edged (__non-symmetrical__) sword: __Leverage amplifies losses more than it amplifies gains__."
   ]
  },
  {
   "cell_type": "code",
   "execution_count": null,
   "id": "1da06613",
   "metadata": {},
   "outputs": [],
   "source": []
  },
  {
   "cell_type": "markdown",
   "id": "4774ec80",
   "metadata": {},
   "source": [
    "--------------------------------"
   ]
  },
  {
   "cell_type": "markdown",
   "id": "13b663ae",
   "metadata": {},
   "source": [
    "__Coding Challenge #7__"
   ]
  },
  {
   "cell_type": "markdown",
   "id": "f41b3d68",
   "metadata": {},
   "source": [
    "1. Calculate levered returns for Bitcoin (leverage = 4). \n",
    "\n",
    "2. Visualize and compare with unlevered Investment.\n",
    "\n",
    "3. Some Traders trade Bitcoin with extremely high leverage (> 100). Do you think this is a good idea (assuming no additional/advanced Risk Management Tools)?"
   ]
  },
  {
   "cell_type": "markdown",
   "id": "fae2b53b",
   "metadata": {},
   "source": [
    "---------------------------------------------"
   ]
  },
  {
   "cell_type": "code",
   "execution_count": null,
   "id": "1bf67bbb",
   "metadata": {},
   "outputs": [],
   "source": []
  },
  {
   "cell_type": "markdown",
   "id": "fb40585b",
   "metadata": {},
   "source": [
    "--------------------------------------"
   ]
  },
  {
   "cell_type": "markdown",
   "id": "c3192362",
   "metadata": {},
   "source": [
    "## Coding Challenge Solutions"
   ]
  },
  {
   "cell_type": "markdown",
   "id": "b06419c4",
   "metadata": {},
   "source": [
    "__Coding Challenge #1__"
   ]
  },
  {
   "cell_type": "markdown",
   "id": "4b1f212a",
   "metadata": {},
   "source": [
    "1. Load Stock Price Data for General Electric (GE) and another ticker symbol of your choice from 2015-01-02 until 2020-12-31.<br>\n",
    "Go to https://finance.yahoo.com/ and get the right ticker symbol. For instruments traded outside the US, you have to add a country/exchange suffix. <br>\n",
    "Check the suffix list here https://help.yahoo.com/kb/exchanges-data-providers-yahoo-finance-sln2310.html As an example, the suffix for the National Indian Stock Exchange is .NS -> Ticker Symbol for Reliance is Reliance.NS"
   ]
  },
  {
   "cell_type": "markdown",
   "id": "1d6f7538",
   "metadata": {},
   "source": [
    "2. Select Close prices only and create a price chart for GE."
   ]
  },
  {
   "cell_type": "markdown",
   "id": "75aea2d3",
   "metadata": {},
   "source": [
    "3. Normalize the stock prices for GE and the Ticker Symbol of your choice (Base Value: 1) and visualize! What´s the final normalized price for GE on 2020-12-30? "
   ]
  },
  {
   "cell_type": "code",
   "execution_count": null,
   "id": "57cbe430",
   "metadata": {},
   "outputs": [],
   "source": [
    "import pandas as pd\n",
    "import yfinance as yf\n",
    "import matplotlib.pyplot as plt\n",
    "pd.options.display.float_format = '{:.4f}'.format\n",
    "#plt.style.use(\"seaborn-v0_8\")"
   ]
  },
  {
   "cell_type": "code",
   "execution_count": null,
   "id": "38f1f6cf",
   "metadata": {},
   "outputs": [],
   "source": [
    "start = \"2015-01-02\"\n",
    "end = \"2020-12-31\"\n",
    "symbol = [\"GE\", \"Reliance.NS\"]"
   ]
  },
  {
   "cell_type": "code",
   "execution_count": null,
   "id": "67291e92",
   "metadata": {},
   "outputs": [],
   "source": [
    "df = yf.download(symbol, start, end)\n",
    "df"
   ]
  },
  {
   "cell_type": "code",
   "execution_count": null,
   "id": "1ec06d5c",
   "metadata": {},
   "outputs": [],
   "source": [
    "close = df.Close.copy()\n",
    "close"
   ]
  },
  {
   "cell_type": "code",
   "execution_count": null,
   "id": "096f9d45",
   "metadata": {},
   "outputs": [],
   "source": [
    "close.GE.dropna().plot(figsize = (15, 8), fontsize = 13)\n",
    "plt.legend(fontsize = 13)\n",
    "plt.show()"
   ]
  },
  {
   "cell_type": "code",
   "execution_count": null,
   "id": "f6577349",
   "metadata": {},
   "outputs": [],
   "source": [
    "norm = close.div(close.iloc[0]).mul(1)\n",
    "norm"
   ]
  },
  {
   "cell_type": "markdown",
   "id": "9fe04480",
   "metadata": {},
   "source": [
    "-> The final normalized Price is 0.4445."
   ]
  },
  {
   "cell_type": "code",
   "execution_count": null,
   "id": "fa18c3c7",
   "metadata": {},
   "outputs": [],
   "source": [
    "norm.dropna().plot(figsize = (15, 8), fontsize = 13)\n",
    "plt.legend(fontsize = 13)\n",
    "plt.show()"
   ]
  },
  {
   "cell_type": "code",
   "execution_count": null,
   "id": "ea32555c",
   "metadata": {},
   "outputs": [],
   "source": []
  },
  {
   "cell_type": "markdown",
   "id": "ea1e6bf3",
   "metadata": {},
   "source": [
    "__Coding Challenge #2__"
   ]
  },
  {
   "cell_type": "markdown",
   "id": "2d6b7a33",
   "metadata": {},
   "source": [
    "1. Calculate daily returns for Bitcoin."
   ]
  },
  {
   "cell_type": "markdown",
   "id": "93ff73f5",
   "metadata": {},
   "source": [
    "2. Calculate the arithmetic mean return and the standard deviation of returns for Bitcoin. "
   ]
  },
  {
   "cell_type": "markdown",
   "id": "a0e29617",
   "metadata": {},
   "source": [
    "3. Compare Bitcoin with Microsoft (mu = 0.00116, sigma = 0.01726). Does the rule \"Higher Risk -> Higher Reward\" hold?"
   ]
  },
  {
   "cell_type": "code",
   "execution_count": null,
   "id": "5b9c361d",
   "metadata": {},
   "outputs": [],
   "source": [
    "import pandas as pd\n",
    "pd.options.display.float_format = '{:.4f}'.format"
   ]
  },
  {
   "cell_type": "code",
   "execution_count": null,
   "id": "aff3759c",
   "metadata": {},
   "outputs": [],
   "source": [
    "close = pd.read_csv(\"close.csv\", index_col = \"Date\", parse_dates = [\"Date\"])\n",
    "close"
   ]
  },
  {
   "cell_type": "code",
   "execution_count": null,
   "id": "23c3dd50",
   "metadata": {},
   "outputs": [],
   "source": [
    "btc = close[\"BTC-USD\"].dropna().to_frame().copy()\n",
    "btc"
   ]
  },
  {
   "cell_type": "code",
   "execution_count": null,
   "id": "800fd370",
   "metadata": {},
   "outputs": [],
   "source": [
    "btc[\"Returns\"] = btc.pct_change(periods = 1)\n",
    "btc"
   ]
  },
  {
   "cell_type": "code",
   "execution_count": null,
   "id": "701d3068",
   "metadata": {},
   "outputs": [],
   "source": [
    "btc"
   ]
  },
  {
   "cell_type": "code",
   "execution_count": null,
   "id": "ee35ebc9",
   "metadata": {},
   "outputs": [],
   "source": [
    "mu = btc.Returns.mean() \n",
    "mu"
   ]
  },
  {
   "cell_type": "code",
   "execution_count": null,
   "id": "dd5209b2",
   "metadata": {},
   "outputs": [],
   "source": [
    "sigma = btc.Returns.std()\n",
    "sigma"
   ]
  },
  {
   "cell_type": "code",
   "execution_count": null,
   "id": "7947659c",
   "metadata": {},
   "outputs": [],
   "source": [
    "mu > 0.00116"
   ]
  },
  {
   "cell_type": "code",
   "execution_count": null,
   "id": "ade966ea",
   "metadata": {},
   "outputs": [],
   "source": [
    "sigma > 0.01726"
   ]
  },
  {
   "cell_type": "markdown",
   "id": "683a0128",
   "metadata": {},
   "source": [
    "Does the rule \"Higher Risk -> Higher Reward\" hold? -> Yes"
   ]
  },
  {
   "cell_type": "code",
   "execution_count": null,
   "id": "1edf27d3",
   "metadata": {},
   "outputs": [],
   "source": []
  },
  {
   "cell_type": "markdown",
   "id": "d8a50acd",
   "metadata": {},
   "source": [
    "__Coding Challenge #3__"
   ]
  },
  {
   "cell_type": "markdown",
   "id": "dcdb31f1",
   "metadata": {},
   "source": [
    "1. Calculate Boeing´s Investment Multiple "
   ]
  },
  {
   "cell_type": "markdown",
   "id": "93e4a2cb",
   "metadata": {},
   "source": [
    "2. Calculate Boeing´s CAGR"
   ]
  },
  {
   "cell_type": "markdown",
   "id": "ef357599",
   "metadata": {},
   "source": [
    "3. Calculate Boeing´s Geometric Mean Return"
   ]
  },
  {
   "cell_type": "markdown",
   "id": "b0ff4c9c",
   "metadata": {},
   "source": [
    "4. Calculate Boeing´s Investment Multiple with compound daily returns"
   ]
  },
  {
   "cell_type": "code",
   "execution_count": null,
   "id": "d1e7285b",
   "metadata": {},
   "outputs": [],
   "source": [
    "import pandas as pd\n",
    "pd.options.display.float_format = '{:.4f}'.format"
   ]
  },
  {
   "cell_type": "code",
   "execution_count": null,
   "id": "0797c111",
   "metadata": {},
   "outputs": [],
   "source": [
    "close = pd.read_csv(\"close.csv\", index_col = \"Date\", parse_dates = [\"Date\"])\n",
    "close"
   ]
  },
  {
   "cell_type": "code",
   "execution_count": null,
   "id": "e46059bf",
   "metadata": {},
   "outputs": [],
   "source": [
    "ba = close[\"BA\"].dropna().to_frame().copy()\n",
    "ba"
   ]
  },
  {
   "cell_type": "code",
   "execution_count": null,
   "id": "e1312599",
   "metadata": {},
   "outputs": [],
   "source": [
    "ba[\"Returns\"] = ba.pct_change(periods = 1)\n",
    "ba"
   ]
  },
  {
   "cell_type": "code",
   "execution_count": null,
   "id": "5144f768",
   "metadata": {},
   "outputs": [],
   "source": [
    "multiple = ba.BA[-1] / ba.BA[0]\n",
    "multiple"
   ]
  },
  {
   "cell_type": "code",
   "execution_count": null,
   "id": "39c85b68",
   "metadata": {
    "scrolled": true
   },
   "outputs": [],
   "source": [
    "cagr = (ba.BA[-1]/ba.BA[0])**(1/((ba.index[-1] - ba.index[0]).days / 365.25)) - 1 \n",
    "cagr"
   ]
  },
  {
   "cell_type": "code",
   "execution_count": null,
   "id": "82f281e4",
   "metadata": {},
   "outputs": [],
   "source": [
    "n = ba.Returns.count()\n",
    "n"
   ]
  },
  {
   "cell_type": "code",
   "execution_count": null,
   "id": "c38d4903",
   "metadata": {},
   "outputs": [],
   "source": [
    "geo_mean = (1 + ba.Returns).prod()**(1/n) - 1 \n",
    "geo_mean"
   ]
  },
  {
   "cell_type": "code",
   "execution_count": null,
   "id": "d2fff00d",
   "metadata": {},
   "outputs": [],
   "source": [
    "multiple = ba.Returns.add(1).prod()\n",
    "multiple"
   ]
  },
  {
   "cell_type": "code",
   "execution_count": null,
   "id": "b1ed6514",
   "metadata": {},
   "outputs": [],
   "source": []
  },
  {
   "cell_type": "markdown",
   "id": "eba81a76",
   "metadata": {},
   "source": [
    "__Coding Challenge #4__"
   ]
  },
  {
   "cell_type": "markdown",
   "id": "155c6561",
   "metadata": {},
   "source": [
    "1. Calculate daily log returns for Boeing."
   ]
  },
  {
   "cell_type": "markdown",
   "id": "e1e98035",
   "metadata": {},
   "source": [
    "2. Use Boeing´s log returns to calculate \n",
    "- Investment Multiple\n",
    "- CAGR (assuming 252 trading days)\n",
    "- Normalized Prices (Base = 1)"
   ]
  },
  {
   "cell_type": "code",
   "execution_count": null,
   "id": "5130c978",
   "metadata": {},
   "outputs": [],
   "source": [
    "import pandas as pd\n",
    "import numpy as np\n",
    "pd.options.display.float_format = '{:.4f}'.format\n",
    "import matplotlib.pyplot as plt\n",
    "#plt.style.use(\"seaborn-v0_8\")"
   ]
  },
  {
   "cell_type": "code",
   "execution_count": null,
   "id": "574b3b0f",
   "metadata": {},
   "outputs": [],
   "source": [
    "close = pd.read_csv(\"close.csv\", index_col = \"Date\", parse_dates = [\"Date\"])\n",
    "close"
   ]
  },
  {
   "cell_type": "code",
   "execution_count": null,
   "id": "1ba90610",
   "metadata": {},
   "outputs": [],
   "source": [
    "ba = close[\"BA\"].dropna().to_frame().copy()\n",
    "ba"
   ]
  },
  {
   "cell_type": "code",
   "execution_count": null,
   "id": "3c1d7698",
   "metadata": {},
   "outputs": [],
   "source": [
    "ba[\"log_ret\"] = np.log(ba / ba.shift())\n",
    "ba"
   ]
  },
  {
   "cell_type": "code",
   "execution_count": null,
   "id": "9072d2ae",
   "metadata": {},
   "outputs": [],
   "source": [
    "multiple = np.exp(ba.log_ret.sum())\n",
    "multiple"
   ]
  },
  {
   "cell_type": "code",
   "execution_count": null,
   "id": "0f16a6a9",
   "metadata": {},
   "outputs": [],
   "source": [
    "cagr = np.exp(ba.log_ret.mean() * 252) - 1\n",
    "cagr"
   ]
  },
  {
   "cell_type": "code",
   "execution_count": null,
   "id": "9f67ae55",
   "metadata": {},
   "outputs": [],
   "source": [
    "norm = ba.log_ret.cumsum().apply(np.exp)\n",
    "norm"
   ]
  },
  {
   "cell_type": "code",
   "execution_count": null,
   "id": "ad00421e",
   "metadata": {},
   "outputs": [],
   "source": []
  },
  {
   "cell_type": "markdown",
   "id": "0e8e3a5c",
   "metadata": {},
   "source": [
    "__Coding Challenge #5__"
   ]
  },
  {
   "cell_type": "markdown",
   "id": "c8eab159",
   "metadata": {},
   "source": [
    "1. Calculate daily log returns for Boeing.\n",
    "\n",
    "2. Use Boeing´s daily log returns to calculate the annualized mean and annualized std (assume 252 trading days per year).\n",
    "\n",
    "3. Resample to monthly prices and compare the annualized std (monthly) with the annualized std (daily). Any differences?\n",
    "\n",
    "4. Keep working with monthly data and calculate/visualize the rolling 36 months mean return (annualized)."
   ]
  },
  {
   "cell_type": "code",
   "execution_count": null,
   "id": "d0ca046f",
   "metadata": {},
   "outputs": [],
   "source": [
    "import pandas as pd\n",
    "import numpy as np\n",
    "pd.options.display.float_format = '{:.4f}'.format\n",
    "import matplotlib.pyplot as plt\n",
    "#plt.style.use(\"seaborn-v0_8\")"
   ]
  },
  {
   "cell_type": "code",
   "execution_count": null,
   "id": "a9e0fcaa",
   "metadata": {},
   "outputs": [],
   "source": [
    "close = pd.read_csv(\"close.csv\", index_col = \"Date\", parse_dates = [\"Date\"])\n",
    "close"
   ]
  },
  {
   "cell_type": "code",
   "execution_count": null,
   "id": "3eea7931",
   "metadata": {},
   "outputs": [],
   "source": [
    "ba = close[\"BA\"].dropna().to_frame().copy()\n",
    "ba"
   ]
  },
  {
   "cell_type": "code",
   "execution_count": null,
   "id": "e5f2743c",
   "metadata": {},
   "outputs": [],
   "source": [
    "ba[\"log_ret\"] = np.log(ba / ba.shift())\n",
    "ba"
   ]
  },
  {
   "cell_type": "code",
   "execution_count": null,
   "id": "07efd8c6",
   "metadata": {},
   "outputs": [],
   "source": [
    "ann_mu = ba.log_ret.mean() * 252 \n",
    "ann_mu"
   ]
  },
  {
   "cell_type": "code",
   "execution_count": null,
   "id": "2f4e4ead",
   "metadata": {},
   "outputs": [],
   "source": [
    "ann_std = ba.log_ret.std() * np.sqrt(252) \n",
    "ann_std"
   ]
  },
  {
   "cell_type": "code",
   "execution_count": null,
   "id": "6d355182",
   "metadata": {},
   "outputs": [],
   "source": [
    "monthly = ba.BA.resample(\"M\").last().to_frame()\n",
    "monthly"
   ]
  },
  {
   "cell_type": "code",
   "execution_count": null,
   "id": "1154e261",
   "metadata": {},
   "outputs": [],
   "source": [
    "monthly[\"Returns\"] = np.log(monthly / monthly.shift())\n",
    "monthly"
   ]
  },
  {
   "cell_type": "code",
   "execution_count": null,
   "id": "4f6807e6",
   "metadata": {},
   "outputs": [],
   "source": [
    "ann_std = monthly.Returns.std() * np.sqrt(12) \n",
    "ann_std"
   ]
  },
  {
   "cell_type": "markdown",
   "id": "507ae019",
   "metadata": {},
   "source": [
    "-> Risk (monthly) slighly lower than Risk (daily) "
   ]
  },
  {
   "cell_type": "code",
   "execution_count": null,
   "id": "4bec560c",
   "metadata": {},
   "outputs": [],
   "source": [
    "window = 36"
   ]
  },
  {
   "cell_type": "code",
   "execution_count": null,
   "id": "347fc6f6",
   "metadata": {},
   "outputs": [],
   "source": [
    "roll_mean = monthly.Returns.rolling(window = window).mean() * 12\n",
    "roll_mean"
   ]
  },
  {
   "cell_type": "code",
   "execution_count": null,
   "id": "c851403f",
   "metadata": {},
   "outputs": [],
   "source": [
    "roll_mean.plot(figsize = (12, 8))\n",
    "plt.show()"
   ]
  },
  {
   "cell_type": "code",
   "execution_count": null,
   "id": "e32added",
   "metadata": {},
   "outputs": [],
   "source": []
  },
  {
   "cell_type": "markdown",
   "id": "fb4c6361",
   "metadata": {},
   "source": [
    "__Coding Challenge #6__"
   ]
  },
  {
   "cell_type": "markdown",
   "id": "7a86aeb2",
   "metadata": {},
   "source": [
    "1. Calculate daily log returns for Boeing.\n",
    "\n",
    "2. Calculate the annualized mean and annualized std (assume 252 trading days per year) for a short position in Boeing (ignore Trading and Borrowing Costs)."
   ]
  },
  {
   "cell_type": "code",
   "execution_count": null,
   "id": "5ea76e5e",
   "metadata": {},
   "outputs": [],
   "source": [
    "import pandas as pd\n",
    "import numpy as np\n",
    "pd.options.display.float_format = '{:.4f}'.format\n",
    "import matplotlib.pyplot as plt\n",
    "#plt.style.use(\"seaborn-v0_8\")"
   ]
  },
  {
   "cell_type": "code",
   "execution_count": null,
   "id": "9285b7fe",
   "metadata": {},
   "outputs": [],
   "source": [
    "close = pd.read_csv(\"close.csv\", index_col = \"Date\", parse_dates = [\"Date\"])\n",
    "close"
   ]
  },
  {
   "cell_type": "code",
   "execution_count": null,
   "id": "a4db4245",
   "metadata": {},
   "outputs": [],
   "source": [
    "ba = close[\"BA\"].dropna().to_frame().copy()\n",
    "ba"
   ]
  },
  {
   "cell_type": "code",
   "execution_count": null,
   "id": "3831f24b",
   "metadata": {},
   "outputs": [],
   "source": [
    "ba[\"log_ret\"] = np.log(ba / ba.shift())\n",
    "ba"
   ]
  },
  {
   "cell_type": "code",
   "execution_count": null,
   "id": "2e14ca4c",
   "metadata": {},
   "outputs": [],
   "source": [
    "ba[\"short\"] = ba.log_ret * (-1)\n",
    "ba"
   ]
  },
  {
   "cell_type": "code",
   "execution_count": null,
   "id": "7a66057e",
   "metadata": {},
   "outputs": [],
   "source": [
    "ann_mean = ba.short.mean() * 252 # equal to ann_mean of long position * (-1)\n",
    "ann_mean"
   ]
  },
  {
   "cell_type": "code",
   "execution_count": null,
   "id": "55207813",
   "metadata": {},
   "outputs": [],
   "source": [
    "ann_std = ba.short.std() * np.sqrt(252) # same as ann_std of long position\n",
    "ann_std"
   ]
  },
  {
   "cell_type": "code",
   "execution_count": null,
   "id": "bc03ffda",
   "metadata": {},
   "outputs": [],
   "source": []
  },
  {
   "cell_type": "markdown",
   "id": "7f3f76ce",
   "metadata": {},
   "source": [
    "__Coding Challenge #7__"
   ]
  },
  {
   "cell_type": "markdown",
   "id": "1b7e5e6b",
   "metadata": {},
   "source": [
    "1. Calculate levered returns for Bitcoin (leverage = 4). \n",
    "\n",
    "2. Visualize and compare with unlevered Investment.\n",
    "\n",
    "3. Some Traders trade Bitcoin with extremely high leverage (> 100). Do you think this is a good idea (assuming no additional/advanced Risk Management Tools)?"
   ]
  },
  {
   "cell_type": "code",
   "execution_count": null,
   "id": "31c5819c",
   "metadata": {},
   "outputs": [],
   "source": [
    "import pandas as pd\n",
    "import numpy as np\n",
    "pd.options.display.float_format = '{:.4f}'.format\n",
    "import matplotlib.pyplot as plt\n",
    "#plt.style.use(\"seaborn-v0_8\")"
   ]
  },
  {
   "cell_type": "code",
   "execution_count": null,
   "id": "8d235910",
   "metadata": {},
   "outputs": [],
   "source": [
    "close = pd.read_csv(\"close.csv\", index_col = \"Date\", parse_dates = [\"Date\"])\n",
    "close"
   ]
  },
  {
   "cell_type": "code",
   "execution_count": null,
   "id": "4b2c3993",
   "metadata": {},
   "outputs": [],
   "source": [
    "btc = close[\"BTC-USD\"].dropna().to_frame().copy()\n",
    "btc"
   ]
  },
  {
   "cell_type": "code",
   "execution_count": null,
   "id": "d7bc25d3",
   "metadata": {},
   "outputs": [],
   "source": [
    "btc[\"Returns\"] = btc.pct_change(periods = 1)\n",
    "btc"
   ]
  },
  {
   "cell_type": "code",
   "execution_count": null,
   "id": "89e69f83",
   "metadata": {},
   "outputs": [],
   "source": [
    "leverage = 4"
   ]
  },
  {
   "cell_type": "code",
   "execution_count": null,
   "id": "0e685dc4",
   "metadata": {},
   "outputs": [],
   "source": [
    "btc[\"Lev_Returns\"] = btc.Returns.mul(leverage) # levered simple returns\n",
    "btc"
   ]
  },
  {
   "cell_type": "code",
   "execution_count": null,
   "id": "89c919de",
   "metadata": {},
   "outputs": [],
   "source": [
    "btc[\"Lev_Returns\"] = np.where(btc[\"Lev_Returns\"] < -1, -1, btc[\"Lev_Returns\"])"
   ]
  },
  {
   "cell_type": "code",
   "execution_count": null,
   "id": "891b1f9f",
   "metadata": {},
   "outputs": [],
   "source": [
    "btc[[\"Returns\", \"Lev_Returns\"]].add(1).cumprod().plot(figsize = (15, 8), fontsize = 13)\n",
    "plt.legend(fontsize = 13)\n",
    "plt.show()"
   ]
  },
  {
   "cell_type": "markdown",
   "id": "af654378",
   "metadata": {},
   "source": [
    "-> Trading Bitcoin with (high) leverage requires advanced risk monitoring/management. Otherwise, a complete loss is very likely (sooner or later...)."
   ]
  },
  {
   "cell_type": "code",
   "execution_count": null,
   "id": "3ae884cb",
   "metadata": {},
   "outputs": [],
   "source": []
  }
 ],
 "metadata": {
  "kernelspec": {
   "display_name": "Python 3 (ipykernel)",
   "language": "python",
   "name": "python3"
  },
  "language_info": {
   "codemirror_mode": {
    "name": "ipython",
    "version": 3
   },
   "file_extension": ".py",
   "mimetype": "text/x-python",
   "name": "python",
   "nbconvert_exporter": "python",
   "pygments_lexer": "ipython3",
   "version": "3.12.0"
  }
 },
 "nbformat": 4,
 "nbformat_minor": 5
}
